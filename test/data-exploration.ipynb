{
 "cells": [
  {
   "cell_type": "markdown",
   "metadata": {},
   "source": [
    "# Task 1"
   ]
  },
  {
   "cell_type": "code",
   "execution_count": 152,
   "metadata": {},
   "outputs": [
    {
     "name": "stderr",
     "output_type": "stream",
     "text": [
      "/Users/ricardordoriguez/Desktop/GitHub/Vendor-Qualification-System/venv/lib/python3.11/site-packages/tqdm/auto.py:21: TqdmWarning: IProgress not found. Please update jupyter and ipywidgets. See https://ipywidgets.readthedocs.io/en/stable/user_install.html\n",
      "  from .autonotebook import tqdm as notebook_tqdm\n"
     ]
    }
   ],
   "source": [
    "# Imports:\n",
    "import json\n",
    "import pandas as pd\n",
    "import numpy as np\n",
    "from sklearn.feature_extraction.text import TfidfVectorizer\n",
    "from sklearn.metrics.pairwise import cosine_similarity\n",
    "from sentence_transformers import SentenceTransformer\n"
   ]
  },
  {
   "cell_type": "code",
   "execution_count": 30,
   "metadata": {},
   "outputs": [
    {
     "data": {
      "application/vnd.microsoft.datawrangler.viewer.v0+json": {
       "columns": [
        {
         "name": "index",
         "rawType": "int64",
         "type": "integer"
        },
        {
         "name": "url",
         "rawType": "object",
         "type": "string"
        },
        {
         "name": "product_name",
         "rawType": "object",
         "type": "string"
        },
        {
         "name": "rating",
         "rawType": "float64",
         "type": "float"
        },
        {
         "name": "description",
         "rawType": "object",
         "type": "string"
        },
        {
         "name": "product_url",
         "rawType": "object",
         "type": "string"
        },
        {
         "name": "seller",
         "rawType": "object",
         "type": "string"
        },
        {
         "name": "ownership",
         "rawType": "object",
         "type": "unknown"
        },
        {
         "name": "seller_website",
         "rawType": "object",
         "type": "string"
        },
        {
         "name": "headquarters",
         "rawType": "object",
         "type": "string"
        },
        {
         "name": "total_revenue",
         "rawType": "object",
         "type": "unknown"
        },
        {
         "name": "social_media_profiles",
         "rawType": "object",
         "type": "string"
        },
        {
         "name": "seller_description",
         "rawType": "object",
         "type": "string"
        },
        {
         "name": "reviews_count",
         "rawType": "int64",
         "type": "integer"
        },
        {
         "name": "discussions_count",
         "rawType": "float64",
         "type": "float"
        },
        {
         "name": "pros_list",
         "rawType": "object",
         "type": "string"
        },
        {
         "name": "cons_list",
         "rawType": "object",
         "type": "string"
        },
        {
         "name": "competitors",
         "rawType": "object",
         "type": "string"
        },
        {
         "name": "highest_rated_features",
         "rawType": "float64",
         "type": "float"
        },
        {
         "name": "lowest_rated_features",
         "rawType": "float64",
         "type": "float"
        },
        {
         "name": "rating_split",
         "rawType": "object",
         "type": "string"
        },
        {
         "name": "pricing",
         "rawType": "object",
         "type": "string"
        },
        {
         "name": "official_screenshots",
         "rawType": "float64",
         "type": "float"
        },
        {
         "name": "official_downloads",
         "rawType": "object",
         "type": "unknown"
        },
        {
         "name": "official_videos",
         "rawType": "float64",
         "type": "float"
        },
        {
         "name": "categories",
         "rawType": "object",
         "type": "string"
        },
        {
         "name": "user_ratings",
         "rawType": "float64",
         "type": "float"
        },
        {
         "name": "languages_supported",
         "rawType": "object",
         "type": "string"
        },
        {
         "name": "year_founded",
         "rawType": "float64",
         "type": "float"
        },
        {
         "name": "position_against_competitors",
         "rawType": "object",
         "type": "unknown"
        },
        {
         "name": "overview",
         "rawType": "object",
         "type": "string"
        },
        {
         "name": "claimed",
         "rawType": "bool",
         "type": "boolean"
        },
        {
         "name": "logo",
         "rawType": "object",
         "type": "string"
        },
        {
         "name": "reviews",
         "rawType": "object",
         "type": "string"
        },
        {
         "name": "top_alternatives",
         "rawType": "object",
         "type": "string"
        },
        {
         "name": "top_alternatives_url",
         "rawType": "object",
         "type": "string"
        },
        {
         "name": "full_pricing_page",
         "rawType": "object",
         "type": "string"
        },
        {
         "name": "badge",
         "rawType": "object",
         "type": "unknown"
        },
        {
         "name": "what_is_description",
         "rawType": "float64",
         "type": "float"
        },
        {
         "name": "main_category",
         "rawType": "object",
         "type": "string"
        },
        {
         "name": "main_subject",
         "rawType": "object",
         "type": "string"
        },
        {
         "name": "Features",
         "rawType": "object",
         "type": "string"
        },
        {
         "name": "region",
         "rawType": "object",
         "type": "unknown"
        },
        {
         "name": "country_code",
         "rawType": "object",
         "type": "string"
        },
        {
         "name": "software_product_id",
         "rawType": "object",
         "type": "string"
        },
        {
         "name": "overview_provided_by",
         "rawType": "object",
         "type": "string"
        }
       ],
       "conversionMethod": "pd.DataFrame",
       "ref": "6e18defd-04a2-419e-90e5-721a5f885369",
       "rows": [
        [
         "0",
         "https://www.g2.com/products/newforma-project-center/reviews",
         "Newforma Project Center",
         "4.0",
         "Newforma PIM solution an integrated solution for managing forms of project information, at the office, from the cloud, and on the go letting you manage profitability and risk, capture and connect processes, and review documents without printing.",
         "https://www.newforma.com/newforma-project-center/",
         "Newforma",
         null,
         "https://www.newforma.com/",
         "Manchester, NH",
         null,
         "[{\"properties\":[{\"name\":\"employees\",\"value\":\"56\"}],\"url\":\"https://www.linkedin.com/company/30975/\",\"vendor\":\"linkedin\"}]",
         "Newforma is a software company that specializes in project information management solutions for the architecture, engineering, and construction (AEC) industries. Their platform enhances collaboration, streamlines workflows, and improves project visibility by connecting project teams and information across various stages of the project lifecycle. Newforma's tools facilitate effective communication, document management, and task tracking, ultimately helping organizations deliver projects on time and within budget. For more information, visit their website at https://www.newforma.com.",
         "94",
         "6.0",
         "[{\"count\":\"1\",\"text\":\"Centralization\"},{\"count\":\"1\",\"text\":\"Ease of Use\"},{\"count\":\"1\",\"text\":\"Easy Sharing\"},{\"count\":\"1\",\"text\":\"Error Reduction\"},{\"count\":\"1\",\"text\":\"Organization\"}]",
         "[{\"count\":\"5 star\",\"text\":\"5 star\"},{\"count\":\"4 star\",\"text\":\"4 star\"},{\"count\":\"3 star\",\"text\":\"3 star\"},{\"count\":\"2 star\",\"text\":\"2 star\"},{\"count\":\"1 star\",\"text\":\"1 star\"},{\"count\":\"2\",\"text\":\"Slow Performance\"},{\"count\":\"2\",\"text\":\"Slow Processing\"},{\"count\":\"1\",\"text\":\"Communication Errors\"},{\"count\":\"1\",\"text\":\"ERP Integration\"},{\"count\":\"1\",\"text\":\"Integration Issues\"}]",
         "[{\"comparsion_link\":\"https://www.g2.com/compare/newforma-project-center-vs-procore\",\"name\":\"Procore\"},{\"comparsion_link\":\"https://www.g2.com/compare/autodesk-construction-cloud-vs-newforma-project-center\",\"name\":\"Autodesk Construction Cloud\"},{\"comparsion_link\":\"https://www.g2.com/compare/newforma-project-center-vs-oracle-aconex\",\"name\":\"Oracle Aconex\"}]",
         null,
         null,
         "[{\"rating\":\"5 star\",\"reviews_count\":\"46\"},{\"rating\":\"4 star\",\"reviews_count\":\"30\"},{\"rating\":\"3 star\",\"reviews_count\":\"10\"},{\"rating\":\"2 star\",\"reviews_count\":\"5\"},{\"rating\":\"1 star\",\"reviews_count\":\"3\"}]",
         "[{\"package\":\"Standard Edition\",\"price\":\"$\"},{\"package\":\"Contract Management Edition\",\"price\":\"$$\"},{\"package\":\"Enterprise Edition\",\"price\":\"$$$\"}]",
         null,
         "[\"https://images.g2crowd.com/uploads/attachment/file/1434680/Newforma-NPC-Architects61.pdf\",\"https://images.g2crowd.com/uploads/attachment/file/1434681/Newforma-RebrandingofCaseStudies-6-8---86974.5X11-VH-04JUNE2024-V1.pdf\",\"https://images.g2crowd.com/uploads/attachment/file/1434682/Newforma-NPC-BDP.pdf\",\"https://images.g2crowd.com/uploads/attachment/file/1434683/Newforma-RebrandingofCaseStudies-8-8.5X11-CE-16-July-2024-V1-R1.pdf\"]",
         null,
         "[\"Construction Project Management\",\"Jobsite Management\",\"Construction Accounting\",\"Construction Drawing Management\",\"Autodesk Construction Cloud Integration Partners\",\"Punch List\",\"Architectural Rendering\",\"Procore App Marketplace Partners\",\"Engineering Document Management\"]",
         null,
         "English, French",
         "2003.0",
         "Product Description Newforma PIM solution an integrated solution for managing forms of project information, at the office, from the cloud, and on the go letting you manage profitability and risk, capture and connect processes, and review documents without printing.  Newforma pioneered the Project Information Management (PIM) category in 2004 and has been revolutionizing it ever since. There are many companies that have attempted to match our robust set of PIM features, but we remain the industry standard. Newforma brings disparate applications and teams together on one unified project dashboard that allows you to view and interact with all project information including RFIs, submittals, emails, drawings, and field management tools. Our connector strategy continues to grow, enabling automated information exchange from the most widely used applications in the AEC industry into your Newforma dashboard. Seller Details Seller Newforma Company Website www.newforma.com Year Founded 2003 HQ Location Manchester, NH LinkedIn® Page www.linkedin.com 56 employees on LinkedIn® Description Newforma is a software company that specializes in project information management solutions for the architecture, engineering, and construction (AEC) industries. Their platform enhances collaboration, streamlines workflows, and improves project visibility by connecting project teams and information across various stages of the project lifecycle. Newforma's tools facilitate effective communication, document management, and task tracking, ultimately helping organizations deliver projects on time and within budget. For more information, visit their website at https://www.newforma.com. HA Overview Provided by: Henry Auger",
         "Newforma Project Center is your on-premise Project Information Management (PIM) software solution. Unify your project data and email across a variety of applications, platforms, and storage locations. Keep your company, projects and people organized. Newforma Project Center enables your project team to easily find and access the information needed to make better decisions and keep your project on track. You now have a centralized view of your project from design through project close-out. Focus on the work you love. We’ll help you with the heavy lifting of managing data to improve project performance, reduce risks, and increase profitability.",
         "True",
         "https://images.g2crowd.com/uploads/product/image/large_detail/large_detail_7369a1ac1d2e9f1aeb7194eb75812958/newforma-project-center.png",
         "[{\"Author_Id\":\"4448628\",\"Date\":\"2023-07-27T00:00:00.000Z\",\"Position\":\"Enterprise (> 1000 emp.)\",\"Review_Id\":\"8368696\",\"Review_url\":\"https://www.g2.com/products/newforma-project-center/reviews/newforma-project-center-review-8368696\",\"Stars\":1,\"Tags\":[\"Validated Reviewer\",\"Review source: G2 invite\",\"Incentivized Review\"],\"Title\":\"Using Newforma Connect with Procore\",\"url\":\"https://www.g2.com/products/newforma-project-center/reviews\"},{\"Author\":\"Bru***ta ***\",\"Author_Id\":\"3466678\",\"Company_Size\":\"Enterprise (> 1000 emp.)\",\"Date\":\"2022-04-21T00:00:00.000Z\",\"Position\":\"Project Administrator\",\"Review_Id\":\"6531628\",\"Review_url\":\"https://www.g2.com/products/newforma-project-center/reviews/newforma-project-center-review-6531628\",\"Stars\":5,\"Tags\":[\"Validated Reviewer\",\"Verified Current User\",\"Review source: G2 invite on behalf of seller\",\"Incentivized Review\"],\"Title\":\"Newforma Review - Bru Leppelmeier, Merrick & Co\",\"url\":\"https://www.g2.com/products/newforma-project-center/reviews\"},{\"Author\":\"Kel***J.\",\"Author_Id\":\"3468966\",\"Company_Size\":\"Mid-Market (51-1000 emp.)\",\"Date\":\"2022-04-23T00:00:00.000Z\",\"Position\":\"Assistant Construction Administrator\",\"Review_Id\":\"6536797\",\"Review_url\":\"https://www.g2.com/products/newforma-project-center/reviews/newforma-project-center-review-6536797\",\"Stars\":5,\"Tags\":[\"Validated Reviewer\",\"Review source: G2 invite on behalf of seller\",\"Incentivized Review\"],\"Title\":\"In-depth & User Friendly\",\"url\":\"https://www.g2.com/products/newforma-project-center/reviews\"},{\"Author\":\"Phi***p O***\",\"Author_Id\":\"3465644\",\"Company_Size\":\"Mid-Market (51-1000 emp.)\",\"Date\":\"2022-04-21T00:00:00.000Z\",\"Position\":\"Electrical Engineer\",\"Review_Id\":\"6529344\",\"Review_url\":\"https://www.g2.com/products/newforma-project-center/reviews/newforma-project-center-review-6529344\",\"Stars\":1.5,\"Tags\":[\"Validated Reviewer\",\"Verified Current User\",\"Review source: G2 invite on behalf of seller\",\"Incentivized Review\"],\"Title\":\"Very slow\",\"url\":\"https://www.g2.com/products/newforma-project-center/reviews\"},{\"Author\":\"Jac***lyn***\",\"Author_Id\":\"3462098\",\"Company_Size\":\"Mid-Market (51-1000 emp.)\",\"Date\":\"2022-04-19T00:00:00.000Z\",\"Position\":\"A\",\"Review_Id\":\"6520984\",\"Review_url\":\"https://www.g2.com/products/newforma-project-center/reviews/newforma-project-center-review-6520984\",\"Stars\":4.5,\"Tags\":[\"Validated Reviewer\",\"Verified Current User\",\"Review source: G2 invite on behalf of seller\",\"Incentivized Review\"],\"Title\":\"The organization of each category is helpful.\",\"url\":\"https://www.g2.com/products/newforma-project-center/reviews\"},{\"Author\":\"Joh***.\",\"Author_Id\":\"3446197\",\"Company_Size\":\"Mid-Market (51-1000 emp.)\",\"Date\":\"2022-04-08T00:00:00.000Z\",\"Position\":\"IT Manager\",\"Review_Id\":\"6490019\",\"Review_url\":\"https://www.g2.com/products/newforma-project-center/reviews/newforma-project-center-review-6490019\",\"Stars\":5,\"Tags\":[\"Validated Reviewer\",\"Verified Current User\",\"Review source: G2 invite on behalf of seller\",\"Incentivized Review\"],\"Title\":\"Newforma Engineer Review\",\"url\":\"https://www.g2.com/products/newforma-project-center/reviews\"},{\"Author_Id\":\"3579672\",\"Date\":\"2022-06-21T00:00:00.000Z\",\"Position\":\"Mid-Market (51-1000 emp.)\",\"Review_Id\":\"6760381\",\"Review_url\":\"https://www.g2.com/products/newforma-project-center/reviews/newforma-project-center-review-6760381\",\"Stars\":3,\"Tags\":[\"Validated Reviewer\",\"Verified Current User\",\"Review source: G2 invite on behalf of seller\",\"Incentivized Review\"],\"Title\":\"Powerful search function, but speed could be improved.\",\"url\":\"https://www.g2.com/products/newforma-project-center/reviews\"},{\"Author\":\"Ing***.\",\"Author_Id\":\"3463412\",\"Company_Size\":\"Mid-Market (51-1000 emp.)\",\"Date\":\"2022-04-20T00:00:00.000Z\",\"Position\":\"Design Technologies Specialist\",\"Review_Id\":\"6524081\",\"Review_url\":\"https://www.g2.com/products/newforma-project-center/reviews/newforma-project-center-review-6524081\",\"Stars\":4.5,\"Tags\":[\"Validated Reviewer\",\"Review source: G2 invite on behalf of seller\",\"Incentivized Review\"],\"Title\":\"Newforma is an industry game changer!\",\"url\":\"https://www.g2.com/products/newforma-project-center/reviews\"},{\"Author_Id\":\"3461724\",\"Date\":\"2022-04-19T00:00:00.000Z\",\"Position\":\"Mid-Market (51-1000 emp.)\",\"Review_Id\":\"6520192\",\"Review_url\":\"https://www.g2.com/products/newforma-project-center/reviews/newforma-project-center-review-6520192\",\"Stars\":4.5,\"Tags\":[\"Validated Reviewer\",\"Review source: G2 invite on behalf of seller\",\"Incentivized Review\"],\"Title\":\"Newforma allows us to manage the project from the design thru construction.\",\"url\":\"https://www.g2.com/products/newforma-project-center/reviews\"},{\"Author\":\"Kat***H.\",\"Author_Id\":\"3455338\",\"Company_Size\":\"Mid-Market (51-1000 emp.)\",\"Date\":\"2022-04-14T00:00:00.000Z\",\"Position\":\"Project Administrator\",\"Review_Id\":\"6507866\",\"Review_url\":\"https://www.g2.com/products/newforma-project-center/reviews/newforma-project-center-review-6507866\",\"Stars\":3,\"Tags\":[\"Validated Reviewer\",\"Verified Current User\",\"Review source: G2 invite on behalf of seller\",\"Incentivized Review\"],\"Title\":\"Newforma PC Review\",\"url\":\"https://www.g2.com/products/newforma-project-center/reviews\"}]",
         "[{\"link\":\"https://www.g2.com/products/procore/reviews\",\"name\":\"Procore\"},{\"link\":\"https://www.g2.com/products/autodesk-construction-cloud/reviews\",\"name\":\"Autodesk Construction Cloud\"},{\"link\":\"https://www.g2.com/products/bluebeam-revu/reviews\",\"name\":\"Bluebeam Revu\"}]",
         "https://www.g2.com/products/newforma-project-center/competitors/alternatives",
         "https://www.g2.com/products/newforma-project-center/pricing",
         "https://images.g2crowd.com/uploads/report_medal_translation/image/4010/medal.svg",
         null,
         "Construction Software",
         "Home>Construction Software>Construction Project Management Software>Newforma>Newforma Reviews",
         "[{\"Category\":\"Library\",\"features\":[{\"description\":\"Provides users with a library of objects to place within your architecural design.\",\"name\":\"Objects\",\"percent\":0,\"review\":0},{\"description\":\"Provides users with a library of premade materials to place within your archietcural design.\",\"name\":\"Materials\",\"percent\":0,\"review\":0}]},{\"Category\":\"Rendering\",\"features\":[{\"description\":\"Allows users to render image and procedural textures.\",\"name\":\"Textures\",\"percent\":0,\"review\":0},{\"description\":\"Allows users to create different shade renderings on materials.\",\"name\":\"Shading\",\"percent\":0,\"review\":0},{\"description\":\"Allows users to render environmental lights, sky models, and artificial light areas.\",\"name\":\"Lighting\",\"percent\":0,\"review\":0},{\"description\":\"Allows users to render exterior objects around the architecture such as foliage, streets, and people.\",\"name\":\"Exterior Rendering\",\"percent\":0,\"review\":0},{\"description\":\"Allows users to render aerial views.\",\"name\":\"Aerial Rendering\",\"percent\":0,\"review\":0},{\"description\":\"Allows users to render atmospheric effects such as rain and snow.\",\"name\":\"Atmospheric rendering\",\"percent\":0,\"review\":0}]},{\"Category\":\"Integrations\",\"features\":[{\"description\":\"Allows users to integrate with building design and building information modeling (BIM) software.\",\"name\":\"BIM Integration\",\"percent\":0,\"review\":0},{\"description\":\"Allows users to integrate with other 3D rendering software.\",\"name\":\"3D Rendering Integration\",\"percent\":0,\"review\":0}]},{\"Category\":\"Documentation\",\"features\":[{\"description\":\"Supports the upload of photos and documents to punch lists for accuracy and real-time updates. This feature was mentioned in 10 Newforma Project Center reviews.\",\"name\":\"Attachment Uploads\",\"percent\":80,\"review\":10},{\"description\":\"Facilitates the creation, customization, and/or generation of punch list templates.\",\"name\":\"Templates\",\"percent\":0,\"review\":0},{\"description\":\"Itemizes mistakes, deficiencies, oversights, etc., on a nearly completed construction project.\",\"name\":\"List Generation\",\"percent\":0,\"review\":0},{\"description\":\"Generates reports on the number of punch lists assigned to sub/contractors, the type of work that is noted in punch lists, and other actionable business insights.\",\"name\":\"Reporting and Analytics\",\"percent\":0,\"review\":0}]},{\"Category\":\"Collaboration\",\"features\":[{\"description\":\"Records and tracks changes and edits to punch lists.\",\"name\":\"Action History\",\"percent\":0,\"review\":0},{\"description\":\"Creates and alerts key players of upcoming due dates and reminders about progress on tasks. This feature was mentioned in 11 Newforma Project Center reviews.\",\"name\":\"Notifications and Reminders\",\"percent\":88,\"review\":11},{\"description\":\"Facilitates communication between key players throughout the generation and updating of punch lists.\",\"name\":\"Messaging and Communication\",\"percent\":0,\"review\":0},{\"description\":\"As reported in 10 Newforma Project Center reviews. Provides a digital application of the software that can be used without internet or network connection.\",\"name\":\"Mobile Support\",\"percent\":80,\"review\":10},{\"description\":\"Provides an audit log of changes and enables users to revert to a specific version\",\"name\":\"Change Tracking\",\"percent\":0,\"review\":0},{\"description\":\"Allows users to work simultaneously on files.\",\"name\":\"Simultaneous Access\",\"percent\":0,\"review\":0},{\"description\":\"Allows users to share individual files/folders to persons outside or inside the organization in a secure manner\",\"name\":\"File Sharing\",\"percent\":0,\"review\":0},{\"description\":\"Allows addition of comments digitally to the document and facilitates maintenance of a comment audit trail in the system\",\"name\":\"Commenting on Documents\",\"percent\":0,\"review\":0}]},{\"Category\":\"Field Management\",\"features\":[{\"description\":\"Ensures structure and clarity of a project via simplified file, photo, and documentation sharing and annotation functionality.\",\"name\":\"Field Collaboration\",\"percent\":0,\"review\":0},{\"description\":\"Automates the scheduling and assignment of jobs, people/crew, and equipment.\",\"name\":\"Field Coordination\",\"percent\":0,\"review\":0},{\"description\":\"Facilitates the reviewing of incidents to ensure with policy compliance and prepare for site audits.\",\"name\":\"Safety Compliance\",\"percent\":0,\"review\":0},{\"description\":\"Enables conversations on mobile devices while out on the field.\",\"name\":\"Field Communication\",\"percent\":0,\"review\":0}]},{\"Category\":\"Asset Management\",\"features\":[{\"description\":\"Tracks and logs utilization of equipment, materials, assets, and all relevant resources; can generate daily reports.\",\"name\":\"Resource Management\",\"percent\":0,\"review\":0},{\"description\":\"Facilitates the taking, annotating, and uploading of photos from the field for real-time updates, to supllement the documentation of the progress of a project.\",\"name\":\"Visual Project Tracking\",\"percent\":0,\"review\":0},{\"description\":\"Generates daily reports of project progress, worker productivity, job costs, and material usage.\",\"name\":\"Reporting\",\"percent\":0,\"review\":0}]},{\"Category\":\"Task Management\",\"features\":[{\"description\":\"Supports the integration of the project management solution with a third-party accounting management solution to streamline the construction project lifecycle.\",\"name\":\"Construction Accounting Tool Integrations\",\"percent\":0,\"review\":0},{\"description\":\"Supports the integration of the project management solution with a third-party workforce management solution to streamline the construction project lifecycle.\",\"name\":\"Construction Workforce Management Tool Integration\",\"percent\":0,\"review\":0},{\"description\":\"In addition to assigning tasks, enables the setting of milestones and deadlines to those tasks to track on a set basis.\",\"name\":\"Project Tracking\",\"percent\":0,\"review\":0},{\"description\":\"Records, centralizes, and provides access and sharing settings to project information into a centralized depository. This feature was mentioned in 14 Newforma Project Center reviews.\",\"name\":\"Information Management\",\"percent\":89,\"review\":14},{\"description\":\"As reported in 15 Newforma Project Center reviews. Enables and/or facilitates communication on the jobsite and between the field and office admin.\",\"name\":\"Communication and Collaboration\",\"percent\":83,\"review\":15}]},{\"Category\":\"Site Management\",\"features\":[{\"description\":\"Manages and dispatches work orders, allocates assets and resources, manages contractors, and schedule jobs\",\"name\":\"Field Service Management\",\"percent\":0,\"review\":0},{\"description\":\"Enables and simplifies communication on the site and between the office and field.\",\"name\":\"Field Collaboration\",\"percent\":0,\"review\":0},{\"description\":\"As reported in 11 Newforma Project Center reviews. Provides a mobile-ready application of the tool that does not require internet connection.\",\"name\":\"Mobile App\",\"percent\":58,\"review\":11},{\"description\":\"As reported in 11 Newforma Project Center reviews. Captures data from the site and generates reports on project progress.\",\"name\":\"Field Reporting\",\"percent\":64,\"review\":11},{\"description\":\"Tracks timesheets and attendance of site crew memberes\",\"name\":\"Timesheets\",\"percent\":0,\"review\":0},{\"description\":\"Enables the capturing and/or uploading of photographs or videos to document project progress 11 reviewers of Newforma Project Center have provided feedback on this feature.\",\"name\":\"Photo and Video Uploads\",\"percent\":62,\"review\":11},{\"description\":\"Assigns tasks, enables the scheduling of crew and resources, and manages and/or monitors progress on projects and jobsites.\",\"name\":\"Workforce Scheduling\",\"percent\":0,\"review\":0},{\"description\":\"Enables the upload of site photos to existing plans to better track the progress of a construction project\",\"name\":\"Site Progress Monitoring\",\"percent\":0,\"review\":0},{\"description\":\"Enables users to access the software on the site, on a mobile device\",\"name\":\"Mobile Access\",\"percent\":0,\"review\":0}]},{\"Category\":\"Document Management\",\"features\":[{\"description\":\"Provides a unified, easy-to-access database to store, upload, and import construction plans.\",\"name\":\"Centralized Platform\",\"percent\":0,\"review\":0},{\"description\":\"Supports edits and markups to plans, stores original plans, and generates time stamps for audit purposes.\",\"name\":\"Versioning\",\"percent\":0,\"review\":0},{\"description\":\"Stores, shares, and backs up construction plans and documents\",\"name\":\"Document Management\",\"percent\":0,\"review\":0},{\"description\":\"Leverages OCR technology to efficiently extract data from construction documents\",\"name\":\"Optical Character Recognition (OCR) Technology\",\"percent\":0,\"review\":0},{\"description\":\"Supports interlinking between plans and submittals, RFIs, and other related documents, to streamline collaboration and communication workflows.\",\"name\":\"Linkage\",\"percent\":0,\"review\":0}]},{\"Category\":\"Data Management\",\"features\":[{\"description\":\"Allows for easy document identification using a unique document number, version reference or other features.\",\"name\":\"Document Identification\",\"percent\":0,\"review\":0},{\"description\":\"Includes workflows and defines the roles of users who need to create, review and approve each type of documents.\",\"name\":\"Workflows\",\"percent\":0,\"review\":0},{\"description\":\"Tracks versions and changes in a project, stores, and monitors those online.\",\"name\":\"Version Control\",\"percent\":0,\"review\":0}]},{\"Category\":\"Dashboards\",\"features\":[{\"description\":\"Generates resource-based reports on planned and actual time spend on documents to highlight inconsistencies.\",\"name\":\"Resource-based Reports\",\"percent\":0,\"review\":0},{\"description\":\"Allows data visualization and analysis capabilities\",\"name\":\"Data Visualization and Analysis\",\"percent\":0,\"review\":0},{\"description\":\"Generates quality-based reports on the documents to diagnose issues, take remedial action, and/or avoid future complications\",\"name\":\"Quality-Based Reports\",\"percent\":0,\"review\":0},{\"description\":\"Generates automated dashboards and reports on the document information and workflow progress\",\"name\":\"Automated Dashboards\",\"percent\":0,\"review\":0}]},{\"Category\":\"Security\",\"features\":[{\"description\":\"Controls information access by only allowing authorized users to search, view and retrieve engineering documents\",\"name\":\"Authorization\",\"percent\":0,\"review\":0}]}]",
         null,
         "US",
         "newforma-project-center",
         "Henry Auger"
        ],
        [
         "1",
         "https://www.g2.com/products/nitro-pro/reviews",
         "Nitro Pro",
         "4.3",
         "Nitro deliver trusted PDF & eSign software for all industries; delivering a secure, compliant and affordable solution. Our AI-powered solution is designed for today's on-the-go-professionals, allowing creation, editing, sharing and signing of all of your essential documents with one subscription — from wherever you are, on any device.",
         "https://www.gonitro.com/pricing",
         "Nitro, Inc",
         null,
         "https://www.gonitro.com/",
         "San Francisco, CA",
         null,
         "[{\"properties\":[{\"name\":\"employees\",\"value\":\"326\"}],\"url\":\"https://www.linkedin.com/company/go-nitro/\",\"vendor\":\"linkedin\"}]",
         "At Nitro, we’re revolutionizing digital productivity for individuals and organizations worldwide. Our PDF editing and eSign solutions streamline and secure document workflows, enabling seamless collaboration from anywhere, across devices. With high-trust eSigning, we help businesses achieve efficient, fully digital operations that enhance outcomes. Our customers are empowered with secure sharing, optimized workflows, and insightful analytics, all backed by a dedicated customer success team. Our focus on innovation makes digital transformation accessible for organizations of all sizes. And our commitment to nurturing our people, customers, and partners is key to driving meaningful change in our communities.",
         "320",
         "16.0",
         "[{\"count\":\"25\",\"text\":\"Ease of Use\"},{\"count\":\"20\",\"text\":\"Easy Editing\"},{\"count\":\"13\",\"text\":\"PDF Editing\"},{\"count\":\"12\",\"text\":\"Features\"},{\"count\":\"10\",\"text\":\"Easy Conversion\"}]",
         "[{\"count\":\"8\",\"text\":\"Software Issues\"},{\"count\":\"7\",\"text\":\"Technical Issues\"},{\"count\":\"6\",\"text\":\"Missing Features\"},{\"count\":\"4\",\"text\":\"Compatibility Issues\"},{\"count\":\"4\",\"text\":\"Installation Issues\"}]",
         "[{\"comparsion_link\":\"https://www.g2.com/compare/foxit-pdf-editor-vs-nitro-pro\",\"name\":\"Foxit PDF Editor\"},{\"comparsion_link\":\"https://www.g2.com/compare/adobe-acrobat-vs-nitro-pro\",\"name\":\"Adobe Acrobat\"},{\"comparsion_link\":\"https://www.g2.com/compare/nitro-pro-vs-wondershare-wondershare-pdfelement\",\"name\":\"Wondershare PDFelement\"}]",
         null,
         null,
         "[{\"rating\":\"5 star\",\"reviews_count\":\"217\"},{\"rating\":\"4 star\",\"reviews_count\":\"75\"},{\"rating\":\"3 star\",\"reviews_count\":\"15\"},{\"rating\":\"2 star\",\"reviews_count\":\"6\"},{\"rating\":\"1 star\",\"reviews_count\":\"7\"}]",
         "[{\"package\":\"Nitro Pro (1 to 20 users)\",\"price\":\"Starting at $14.99\",\"price_info\":\"1 User Per Month\"},{\"package\":\"Nitro Pro (20+ users)\",\"price\":\"Starting at $9.99\",\"price_info\":\"1 User Per Month\"},{\"package\":\"Nitro Pro Business\",\"price\":\"Starting at $14.99\",\"price_info\":\"1 User Per Month\"},{\"package\":\"Nitro PDF Pro for Windows\",\"price\":\"Starting at $179.99\",\"price_info\":\"With One-Time Purchase\"}]",
         null,
         "[\"https://images.g2crowd.com/uploads/attachment/file/1333606/switching-pdf-vendors-how-nitro-experts-make-it-easy.pdf\",\"https://images.g2crowd.com/uploads/attachment/file/1333607/forrester-tei-of-nitro-productivityplatform-2023-final.pdf\",\"https://images.g2crowd.com/uploads/attachment/file/1334786/7-considerations-pdf-ebook.pdf\",\"https://images.g2crowd.com/uploads/attachment/file/1334787/nitro-ebook-driving-sustainability-through-digitalization.pdf\",\"https://images.g2crowd.com/uploads/attachment/file/1372522/Screenshot-2024-04-25-at-11.30.21.png\"]",
         null,
         "[\"Document Creation\",\"E-Signature\",\"PDF Editor\"]",
         null,
         "German, English, French, Italian, Dutch, Spanish",
         "2005.0",
         "Product Description Nitro deliver trusted PDF & eSign software for all industries; delivering a secure, compliant and affordable solution. Our AI-powered solution is designed for today's on-the-go-professionals, allowing creation, editing, sharing and signing of all of your essential documents with one subscription — from wherever you are, on any device.  Nitro was named by PC World as the 'best alternative to Adobe Acrobat.' Customers enjoy seamless document workflows with full-featured PDF editing, unlimited eSignatures, and exclusive insights – all included at a competitive price. Try Nitro for yourself and see why millions of customers and G2 reviews rank us at the top for PDF & eSign! Seller Details Seller Nitro, Inc Company Website www.gonitro.com Year Founded 2005 HQ Location San Francisco, CA LinkedIn® Page www.linkedin.com 326 employees on LinkedIn® Description At Nitro, we’re revolutionizing digital productivity for individuals and organizations worldwide. Our PDF editing and eSign solutions streamline and secure document workflows, enabling seamless collaboration from anywhere, across devices. With high-trust eSigning, we help businesses achieve efficient, fully digital operations that enhance outcomes. Our customers are empowered with secure sharing, optimized workflows, and insightful analytics, all backed by a dedicated customer success team. Our focus on innovation makes digital transformation accessible for organizations of all sizes. And our commitment to nurturing our people, customers, and partners is key to driving meaningful change in our communities. JC Overview Provided by: Jaclyn Core",
         "Nitro is a global leader for digital document solutions including advanced PDF editing and compliant eSigning with exclusive, real-time ROI and sustainability insights. Nitro Pro offers an all-in-one subscription plan so you can edit, convert, secure, fill, sign and share PDFs across multiple devices. Nitro Pro Business adds enterprise-grade eSign capabilities, analytics, integrations and more with world-class customer support. Millions of customers around the world choose Nitro for easy, seamless and secure document workflows.",
         "True",
         "https://images.g2crowd.com/uploads/product/image/large_detail/large_detail_e62b5d5964011c919f1321c9b731674c/nitro-pro.png",
         "[{\"Author\":\"Mat***.\",\"Author_Id\":\"5590807\",\"Company_Size\":\"Mid-Market (51-1000 emp.)\",\"Date\":\"2025-01-08T00:00:00.000Z\",\"Position\":\"Controller\",\"Review_Id\":\"10716346\",\"Review_url\":\"https://www.g2.com/products/nitro-pro/reviews/nitro-pro-review-10716346\",\"Stars\":0,\"Tags\":[\"Validated Reviewer\",\"Review source: Organic\"],\"Title\":\"STAY AWAY! Very Glitchy, Breaks Windows, Releases Updates Before Adequate Testing, Terrible Service\",\"url\":\"https://www.g2.com/products/nitro-pro/reviews\"},{\"Author\":\"San***har***R.\",\"Author_Id\":\"5684759\",\"Company_Size\":\"Mid-Market (51-1000 emp.)\",\"Date\":\"2024-12-15T00:00:00.000Z\",\"Position\":\"Account Assistant\",\"Review_Id\":\"10648465\",\"Review_url\":\"https://www.g2.com/products/nitro-pro/reviews/nitro-pro-review-10648465\",\"Stars\":5,\"Tags\":[\"Validated Reviewer\",\"Review source: G2 invite on behalf of seller\"],\"Title\":\"Feedback on Nitro Pro Customer Support\",\"url\":\"https://www.g2.com/products/nitro-pro/reviews\"},{\"Author\":\"San*** F.***\",\"Author_Id\":\"5417866\",\"Company_Size\":\"Small-Business (50 or fewer emp.)\",\"Date\":\"2024-09-21T00:00:00.000Z\",\"Position\":\"Personal Assistant\",\"Review_Id\":\"10289266\",\"Review_url\":\"https://www.g2.com/products/nitro-pro/reviews/nitro-pro-review-10289266\",\"Stars\":5,\"Tags\":[\"Validated Reviewer\",\"Verified Current User\",\"Review source: G2 invite on behalf of seller\",\"Incentivized Review\"],\"Title\":\"PDF miracles!\",\"url\":\"https://www.g2.com/products/nitro-pro/reviews\"},{\"Author\":\"******\",\"Author_Id\":\"5116067\",\"Company_Size\":\"Mid-Market (51-1000 emp.)\",\"Date\":\"2024-12-10T00:00:00.000Z\",\"Position\":\"Senior Estimator/Project Manager\",\"Review_Id\":\"10627131\",\"Review_url\":\"https://www.g2.com/products/nitro-pro/reviews/nitro-pro-review-10627131\",\"Stars\":5,\"Tags\":[\"Validated Reviewer\",\"Verified Current User\",\"Review source: Organic\"],\"Title\":\"Nitro Pro is great!\",\"url\":\"https://www.g2.com/products/nitro-pro/reviews\"},{\"Author\":\"Roh***L.\",\"Author_Id\":\"5783022\",\"Company_Size\":\"Mid-Market (51-1000 emp.)\",\"Date\":\"2025-01-25T00:00:00.000Z\",\"Position\":\"Engineer\",\"Review_Id\":\"10767724\",\"Review_url\":\"https://www.g2.com/products/nitro-pro/reviews/nitro-pro-review-10767724\",\"Stars\":5,\"Tags\":[\"Validated Reviewer\",\"Review source: Organic\"],\"Title\":\"Packed with features\",\"url\":\"https://www.g2.com/products/nitro-pro/reviews\"},{\"Author\":\"SEA***.\",\"Author_Id\":\"5828383\",\"Company_Size\":\"Small-Business (50 or fewer emp.)\",\"Date\":\"2025-02-10T00:00:00.000Z\",\"Position\":\"Chief Executive\",\"Review_Id\":\"10818275\",\"Review_url\":\"https://www.g2.com/products/nitro-pro/reviews/nitro-pro-review-10818275\",\"Stars\":5,\"Tags\":[\"Validated Reviewer\",\"Verified Current User\",\"Review source: G2 invite on behalf of seller\"],\"Title\":\"Very responsive customer support\",\"url\":\"https://www.g2.com/products/nitro-pro/reviews\"},{\"Author\":\"Dot*** C.***\",\"Author_Id\":\"5450839\",\"Company_Size\":\"Enterprise (> 1000 emp.)\",\"Date\":\"2024-10-02T00:00:00.000Z\",\"Position\":\"Treasury Analyst and Grant Accountant\",\"Review_Id\":\"10332661\",\"Review_url\":\"https://www.g2.com/products/nitro-pro/reviews/nitro-pro-review-10332661\",\"Stars\":5,\"Tags\":[\"Validated Reviewer\",\"Verified Current User\",\"Review source: G2 invite on behalf of seller\",\"Incentivized Review\"],\"Title\":\"Easy peasy\",\"url\":\"https://www.g2.com/products/nitro-pro/reviews\"},{\"Author\":\"Pin***n D***\",\"Author_Id\":\"2115550\",\"Company_Size\":\"Mid-Market (51-1000 emp.)\",\"Date\":\"2024-09-26T00:00:00.000Z\",\"Position\":\"Associate HR Manager\",\"Review_Id\":\"10307908\",\"Review_url\":\"https://www.g2.com/products/nitro-pro/reviews/nitro-pro-review-10307908\",\"Stars\":4,\"Tags\":[\"Validated Reviewer\",\"Verified Current User\",\"Review source: G2 invite on behalf of seller\",\"Incentivized Review\"],\"Title\":\"A Reliable and Efficient PDF Solution for Businesses\",\"url\":\"https://www.g2.com/products/nitro-pro/reviews\"},{\"Author\":\"May***L.\",\"Author_Id\":\"5724960\",\"Company_Size\":\"Mid-Market (51-1000 emp.)\",\"Date\":\"2025-01-03T00:00:00.000Z\",\"Position\":\"Office Manager.\",\"Review_Id\":\"10705442\",\"Review_url\":\"https://www.g2.com/products/nitro-pro/reviews/nitro-pro-review-10705442\",\"Stars\":5,\"Tags\":[\"Validated Reviewer\",\"Review source: G2 invite\",\"Incentivized Review\"],\"Title\":\"PDF editor with API for other files\",\"url\":\"https://www.g2.com/products/nitro-pro/reviews\"},{\"Author\":\"Ste***n .***\",\"Author_Id\":\"5389289\",\"Company_Size\":\"Small-Business (50 or fewer emp.)\",\"Date\":\"2024-09-13T00:00:00.000Z\",\"Position\":\"Disponent\",\"Review_Id\":\"10249066\",\"Review_url\":\"https://www.g2.com/products/nitro-pro/reviews/nitro-pro-review-10249066\",\"Stars\":4.5,\"Tags\":[\"Validated Reviewer\",\"Verified Current User\",\"Review source: G2 invite on behalf of seller\",\"Incentivized Review\",\"Translated Using AI\"],\"Title\":\"Very good PDF program\",\"url\":\"https://www.g2.com/products/nitro-pro/reviews\"}]",
         "[{\"link\":\"https://www.g2.com/products/adobe-acrobat/reviews\",\"name\":\"Adobe Acrobat\"},{\"link\":\"https://www.g2.com/products/foxit-pdf-editor/reviews\",\"name\":\"Foxit PDF Editor\"},{\"link\":\"https://www.g2.com/products/pdffiller-by-airslate/reviews\",\"name\":\"pdfFiller by airSlate\"}]",
         "https://www.g2.com/products/nitro-pro/competitors/alternatives",
         "https://www.g2.com/products/nitro-pro/pricing",
         "https://images.g2crowd.com/uploads/report_medal_translation/image/3690/medal.svg",
         null,
         "Document Creation Software",
         "Home>Document Creation Software>Nitro Pro>Nitro Pro Reviews",
         "[{\"Category\":\"Platform\",\"features\":[{\"description\":\"Based on 27 Nitro Pro reviews and verified by the G2 Product R&D team. Custom branding can be applied through signature process\",\"name\":\"Custom Branding\",\"percent\":85,\"review\":27},{\"description\":\"Based on 29 Nitro Pro reviews and verified by the G2 Product R&D team. Grant access to select data, features, objects, etc. based on the users, user role, groups, etc.\",\"name\":\"User, Role, and Access Management\",\"percent\":84,\"review\":29},{\"description\":\"This feature was mentioned in 23 Nitro Pro reviews.\",\"name\":\"Internationalization\",\"percent\":86,\"review\":23},{\"description\":\"Based on 33 Nitro Pro reviews and verified by the G2 Product R&D team.\",\"name\":\"Performance and Reliability\",\"percent\":85,\"review\":33},{\"description\":\"Based on 24 Nitro Pro reviews and verified by the G2 Product R&D team.\",\"name\":\"Integration APIs\",\"percent\":78,\"review\":24},{\"name\":\"To which systems have you integrated this product\",\"percent\":0,\"review\":0}]},{\"Category\":\"Signature Process\",\"features\":[{\"description\":\"Based on 58 Nitro Pro reviews and verified by the G2 Product R&D team. Allows signor to easily and intuitively sign documents\",\"name\":\"Document SigningView full feature definition\",\"percent\":90,\"review\":58},{\"description\":\"Based on 50 Nitro Pro reviews and verified by the G2 Product R&D team. Reminds signors of documents that are waiting to be signed and document expiration dates\",\"name\":\"Reminders and Expirations\",\"percent\":86,\"review\":50},{\"description\":\"Based on 52 Nitro Pro reviews and verified by the G2 Product R&D team. Process of authenticating is secure and seemless\",\"name\":\"Sign-In Process\",\"percent\":90,\"review\":52},{\"description\":\"Based on 44 Nitro Pro reviews and verified by the G2 Product R&D team. User can easy send and sign documents on mobile devices\",\"name\":\"Mobile Signatures\",\"percent\":86,\"review\":44},{\"description\":\"Based on 51 Nitro Pro reviews and verified by the G2 Product R&D team. Sendor/Adminstrators can easily set up and track documents through multiple signature steps\",\"name\":\"Signature Workflow\",\"percent\":89,\"review\":51},{\"description\":\"Send documents requiring signature to 1000's of signers at once This feature was mentioned in 29 Nitro Pro reviews.\",\"name\":\"Bulk Digital Signatures\",\"percent\":89,\"review\":29},{\"description\":\"Provides standard reports and easy creation of custom reports to manage signature process This feature was mentioned in 33 Nitro Pro reviews.\",\"name\":\"Reporting\",\"percent\":89,\"review\":33},{\"description\":\"Based on 54 Nitro Pro reviews and verified by the G2 Product R&D team. Easy to create signature blocks on all required electronic document types/formats\",\"name\":\"Signature Document Creation\",\"percent\":89,\"review\":54}]},{\"Category\":\"Security and Scalability\",\"features\":[{\"description\":\"Based on 47 Nitro Pro reviews and verified by the G2 Product R&D team. Meets required regulartory compliances\",\"name\":\"Regulatory Compliance\",\"percent\":84,\"review\":47},{\"description\":\"Based on 48 Nitro Pro reviews and verified by the G2 Product R&D team. Tracks all document signing history to comply with required regulations\",\"name\":\"Signature History and Audit\",\"percent\":88,\"review\":48},{\"description\":\"Based on 43 Nitro Pro reviews and verified by the G2 Product R&D team. Provides features to allow scaling for large organizations\",\"name\":\"Enterprise Scalability\",\"percent\":88,\"review\":43}]},{\"Category\":\"Organization\",\"features\":[{\"description\":\"Based on 53 Nitro Pro reviews. Allow users to password protect PDFs\",\"name\":\"Protect\",\"percent\":87,\"review\":53},{\"description\":\"Offer document management and tracking This feature was mentioned in 55 Nitro Pro reviews.\",\"name\":\"Document Management\",\"percent\":86,\"review\":55},{\"description\":\"Integrate with document scanning software This feature was mentioned in 56 Nitro Pro reviews.\",\"name\":\"Document Scanning\",\"percent\":89,\"review\":56},{\"description\":\"Based on 59 Nitro Pro reviews. Display editing history on a PDF\",\"name\":\"Editing History\",\"percent\":84,\"review\":59}]},{\"Category\":\"Editing\",\"features\":[{\"description\":\"As reported in 59 Nitro Pro reviews. Adjust the size of a PDF\",\"name\":\"Size\",\"percent\":83,\"review\":59},{\"description\":\"Based on 61 Nitro Pro reviews. Provide users the ability to edit fields in existing PDFs\",\"name\":\"Edit Fields\",\"percent\":87,\"review\":61},{\"description\":\"As reported in 58 Nitro Pro reviews. Allow users to create new PDFs within the platform\",\"name\":\"New PDF\",\"percent\":92,\"review\":58},{\"description\":\"Allow users to create fields for different functions (i.e. checkbox or initialling) This feature was mentioned in 57 Nitro Pro reviews.\",\"name\":\"Field Functions\",\"percent\":88,\"review\":57},{\"description\":\"Give users the ability to annotate a PDF 56 reviewers of Nitro Pro have provided feedback on this feature.\",\"name\":\"Annotate\",\"percent\":87,\"review\":56}]},{\"Category\":\"Integrate & Embed\",\"features\":[{\"description\":\"Integrates with calendars to link relevant documents for meetings or appointments This feature was mentioned in 36 Nitro Pro reviews.\",\"name\":\"Calendar\",\"percent\":77,\"review\":36},{\"description\":\"Based on 36 Nitro Pro reviews. Embeds live documents into websites\",\"name\":\"Website\",\"percent\":77,\"review\":36},{\"description\":\"Based on 38 Nitro Pro reviews. Integrates with third-party applications, such as business instant messaging software, collaboration tools, and project management software\",\"name\":\"Applications\",\"percent\":81,\"review\":38}]},{\"Category\":\"Edit & Revise\",\"features\":[{\"description\":\"Tracks changes made to documents and access all revision history This feature was mentioned in 43 Nitro Pro reviews.\",\"name\":\"Revision History\",\"percent\":83,\"review\":43},{\"description\":\"Based on 40 Nitro Pro reviews. When reviewing documents, provides suggestions that can be accepted or rejected by the document owner\",\"name\":\"Suggestion Mode\",\"percent\":78,\"review\":40},{\"description\":\"As reported in 49 Nitro Pro reviews. Provides editing and proof-reading tools such as spell check and grammar check\",\"name\":\"Document Editor\",\"percent\":91,\"review\":49}]},{\"Category\":\"File Types\",\"features\":[{\"description\":\"Exports files in multiple file formats including .docx, .pdf, .odt, .rtf, .txt or .html format This feature was mentioned in 49 Nitro Pro reviews.\",\"name\":\"Export\",\"percent\":89,\"review\":49},{\"description\":\"Based on 50 Nitro Pro reviews. Imports documents in multiple file formats for editing\",\"name\":\"Import\",\"percent\":90,\"review\":50},{\"description\":\"Based on 36 Nitro Pro reviews. Transforms a document into a web page and publish to the internet\",\"name\":\"Web Publishing\",\"percent\":74,\"review\":36}]},{\"Category\":\"Collaboration\",\"features\":[{\"description\":\"Allows multiple users to collaborate on a single document and see edits in real-time This feature was mentioned in 42 Nitro Pro reviews.\",\"name\":\"Multi-User Collaboration\",\"percent\":81,\"review\":42},{\"description\":\"Based on 41 Nitro Pro reviews. Allows users to communicate in real-time via chat and comments within the document\",\"name\":\"Real-Time Communication\",\"percent\":78,\"review\":41}]},{\"Category\":\"Design\",\"features\":[{\"description\":\"Ability to insert graphics, including photos, charts, drawings, graphs, etc. This feature was mentioned in 47 Nitro Pro reviews.\",\"name\":\"Graphics\",\"percent\":84,\"review\":47},{\"description\":\"Based on 44 Nitro Pro reviews. Offers multiple editable templates for documents inluding flyers, resumes, calendars, newsletters, etc.\",\"name\":\"Templates\",\"percent\":79,\"review\":44},{\"description\":\"Offer various color themes which can be applied to the document This feature was mentioned in 42 Nitro Pro reviews.\",\"name\":\"Themes\",\"percent\":79,\"review\":42}]},{\"Category\":\"Operating System\",\"features\":[{\"description\":\"Supports Microsoft Windows operating system 50 reviewers of Nitro Pro have provided feedback on this feature.\",\"name\":\"PC Operating System\",\"percent\":88,\"review\":50},{\"description\":\"Supports macOS operating system 31 reviewers of Nitro Pro have provided feedback on this feature.\",\"name\":\"Mac Operating System\",\"percent\":79,\"review\":31},{\"description\":\"Supports Linux operating system 29 reviewers of Nitro Pro have provided feedback on this feature.\",\"name\":\"Linux Operating System\",\"percent\":71,\"review\":29},{\"description\":\"As reported in 54 Nitro Pro reviews. Supports Microsoft Windows operating system\",\"name\":\"PC Operating System\",\"percent\":87,\"review\":54},{\"description\":\"Supports macOS operating system This feature was mentioned in 30 Nitro Pro reviews.\",\"name\":\"Mac Operating System\",\"percent\":74,\"review\":30},{\"description\":\"Supports Linux operating system 27 reviewers of Nitro Pro have provided feedback on this feature.\",\"name\":\"Linux Operating System\",\"percent\":69,\"review\":27}]}]",
         null,
         "US",
         "nitro-pro",
         "Jaclyn Core"
        ],
        [
         "2",
         "https://www.g2.com/products/netmera/reviews",
         "Netmera",
         "4.2",
         "Netmera enables marketers to create, schedule, and segment push notifications.",
         "https://www.netmera.com/mobile-marketing-automation/",
         "Netmera",
         null,
         "https://netmera.com/",
         "İstanbul, TR",
         null,
         "[{\"properties\":[{\"name\":\"followers\",\"value\":\"2,868\"}],\"url\":\"https://twitter.com/netmera\",\"vendor\":\"twitter\"},{\"properties\":[{\"name\":\"employees\",\"value\":\"42\"}],\"url\":\"https://www.linkedin.com/company/netmera\",\"vendor\":\"linkedin\"}]",
         "Netmera is a mobile engagement platform that specializes in providing businesses with tools to enhance user retention and engagement through personalized messaging and analytics. The platform offers features such as push notifications, in-app messaging, and user segmentation to help companies effectively communicate with their mobile app users. With a focus on data-driven insights, Netmera enables businesses to optimize their marketing strategies and improve overall user experience. For more information, visit their website at https://netmera.com.",
         "30",
         "2.0",
         "[{\"count\":\"6\",\"text\":\"Customer Support\"},{\"count\":\"4\",\"text\":\"Ease of Use\"},{\"count\":\"3\",\"text\":\"Features\"},{\"count\":\"3\",\"text\":\"Helpful\"},{\"count\":\"3\",\"text\":\"Notifications\"}]",
         "[{\"count\":\"3\",\"text\":\"Inadequate Reporting\"},{\"count\":\"2\",\"text\":\"High Complexity\"},{\"count\":\"2\",\"text\":\"Learning Curve\"},{\"count\":\"2\",\"text\":\"Poor Interface Design\"},{\"count\":\"2\",\"text\":\"Reporting Issues\"}]",
         "[{\"comparsion_link\":\"https://www.g2.com/compare/insider-vs-netmera\",\"name\":\"Insider\"}]",
         null,
         null,
         "[{\"rating\":\"5 star\",\"reviews_count\":\"15\"},{\"rating\":\"4 star\",\"reviews_count\":\"12\"},{\"rating\":\"3 star\",\"reviews_count\":\"2\"},{\"rating\":\"2 star\",\"reviews_count\":\"1\"},{\"rating\":\"1 star\",\"reviews_count\":\"0\"}]",
         "[{\"package\":\"Startup\",\"price\":\"Contact Us\"},{\"package\":\"Growth\",\"price\":\"Contact Us\"},{\"package\":\"Advanced\",\"price\":\"Contact Us\"},{\"package\":\"Enterprise\",\"price\":\"Contact Us\"}]",
         null,
         "[\"https://images.g2crowd.com/uploads/attachment/file/1308034/Fastpay---Success-Story.pdf\",\"https://images.g2crowd.com/uploads/attachment/file/1324941/BeinSuccessstory.pdf\",\"https://images.g2crowd.com/uploads/attachment/file/1324998/Mackolik.pdf\",\"https://images.g2crowd.com/uploads/attachment/file/1324999/Turkcell.pdf\",\"https://images.g2crowd.com/uploads/attachment/file/1325182/Sarmady.pdf\"]",
         null,
         "[\"Marketing Automation\",\"Customer Journey Mapping\",\"Mobile Marketing\",\"Push Notification\",\"Location-Based Marketing\"]",
         null,
         "English",
         "2010.0",
         null,
         "Netmera is an omni-channel customer engagement marketing platform that provides personalized customer experiences. The platform allows digital marketers and product managers to increase revenue & ROI with mobile & web push notifications, in-app messaging, pop-ups, analytics and marketing automation powered by AI. Netmera reaches 450 million users worldwide and sends 12 billion push notifications every month. Netmera helps companies reach, convert and retain their customers.",
         "True",
         "https://images.g2crowd.com/uploads/product/image/large_detail/large_detail_0777c463cfe2f67dc63dc312e0f92226/netmera.png",
         "[{\"Author_Id\":\"4798182\",\"Date\":\"2023-12-29T00:00:00.000Z\",\"Position\":\"Small-Business (50 or fewer emp.)\",\"Review_Id\":\"9069488\",\"Review_url\":\"https://www.g2.com/products/netmera/reviews/netmera-review-9069488\",\"Stars\":3,\"Tags\":[\"Validated Reviewer\",\"Verified Current User\",\"Review source: G2 invite on behalf of seller\",\"Incentivized Review\"],\"Title\":\"Good Analytic Reports\",\"url\":\"https://www.g2.com/products/netmera/reviews\"},{\"Author\":\"Aza*** C.***\",\"Author_Id\":\"4343204\",\"Date\":\"2023-06-07T00:00:00.000Z\",\"Review_Id\":\"8527457\",\"Review_url\":\"https://www.g2.com/products/netmera/reviews/netmera-review-8527457\",\"Stars\":4,\"Tags\":[\"Validated Reviewer\",\"Review source: Organic\"],\"Title\":\"Netmera Review!\",\"url\":\"https://www.g2.com/products/netmera/reviews\"},{\"Author\":\"******\",\"Author_Id\":\"4683448\",\"Date\":\"2023-11-08T00:00:00.000Z\",\"Position\":\"Small-Business (50 or fewer emp.)\",\"Review_Id\":\"8840184\",\"Review_url\":\"https://www.g2.com/products/netmera/reviews/netmera-review-8840184\",\"Stars\":4,\"Tags\":[\"Validated Reviewer\",\"Verified Current User\",\"Review source: Organic\"],\"Title\":\"Satisfied our needs\",\"url\":\"https://www.g2.com/products/netmera/reviews\"},{\"Author\":\"Bat***n A***\",\"Author_Id\":\"4644611\",\"Date\":\"2023-10-24T00:00:00.000Z\",\"Position\":\"Small-Business (50 or fewer emp.)\",\"Review_Id\":\"8758278\",\"Review_url\":\"https://www.g2.com/products/netmera/reviews/netmera-review-8758278\",\"Stars\":4,\"Tags\":[\"Validated Reviewer\",\"Verified Current User\",\"Review source: G2 invite on behalf of seller\",\"Incentivized Review\"],\"Title\":\"I use Netmera as a product manager\",\"url\":\"https://www.g2.com/products/netmera/reviews\"},{\"Author\":\"Gör*** A.***\",\"Author_Id\":\"4642447\",\"Company_Size\":\"Small-Business (50 or fewer emp.)\",\"Date\":\"2023-10-23T00:00:00.000Z\",\"Position\":\"Marketing Communications Specialist\",\"Review_Id\":\"8755264\",\"Review_url\":\"https://www.g2.com/products/netmera/reviews/netmera-review-8755264\",\"Stars\":5,\"Tags\":[\"Validated Reviewer\",\"Verified Current User\",\"Review source: G2 invite on behalf of seller\",\"Incentivized Review\"],\"Title\":\"A hub where you can handle all CRM transactions\",\"url\":\"https://www.g2.com/products/netmera/reviews\"},{\"Author\":\"İze***.\",\"Author_Id\":\"4282081\",\"Date\":\"2023-05-23T00:00:00.000Z\",\"Position\":\"Enterprise (> 1000 emp.)\",\"Review_Id\":\"8089486\",\"Review_url\":\"https://www.g2.com/products/netmera/reviews/netmera-review-8089486\",\"Stars\":4.5,\"Tags\":[\"Validated Reviewer\",\"Verified Current User\",\"Review source: G2 invite on behalf of seller\",\"Incentivized Review\"],\"Title\":\"Constant guidance helps us improve our product\",\"url\":\"https://www.g2.com/products/netmera/reviews\"},{\"Author\":\"Emr***.\",\"Author_Id\":\"4627221\",\"Date\":\"2023-10-17T00:00:00.000Z\",\"Position\":\"Small-Business (50 or fewer emp.)\",\"Review_Id\":\"8733512\",\"Review_url\":\"https://www.g2.com/products/netmera/reviews/netmera-review-8733512\",\"Stars\":4,\"Tags\":[\"Validated Reviewer\",\"Review source: Organic\",\"Incentivized Review\"],\"Title\":\"Useful tech powerful by impactful service\",\"url\":\"https://www.g2.com/products/netmera/reviews\"},{\"Author\":\"Ber***.\",\"Author_Id\":\"145240\",\"Company_Size\":\"Small-Business (50 or fewer emp.)\",\"Date\":\"2023-10-17T00:00:00.000Z\",\"Position\":\"General Manager\",\"Review_Id\":\"8733108\",\"Review_url\":\"https://www.g2.com/products/netmera/reviews/netmera-review-8733108\",\"Stars\":4,\"Tags\":[\"Validated Reviewer\",\"Review source: Organic\",\"Incentivized Review\"],\"Title\":\"Helpful staff and nice UI\",\"url\":\"https://www.g2.com/products/netmera/reviews\"},{\"Author_Id\":\"4861957\",\"Date\":\"2024-01-31T00:00:00.000Z\",\"Position\":\"Enterprise (> 1000 emp.)\",\"Review_Id\":\"9174082\",\"Review_url\":\"https://www.g2.com/products/netmera/reviews/netmera-review-9174082\",\"Stars\":4.5,\"Tags\":[\"Validated Reviewer\",\"Review source: Organic\"],\"Title\":\"Nice team, good work\",\"url\":\"https://www.g2.com/products/netmera/reviews\"},{\"Author_Id\":\"4659746\",\"Date\":\"2023-10-30T00:00:00.000Z\",\"Position\":\"Small-Business (50 or fewer emp.)\",\"Review_Id\":\"8780852\",\"Review_url\":\"https://www.g2.com/products/netmera/reviews/netmera-review-8780852\",\"Stars\":5,\"Tags\":[\"Validated Reviewer\",\"Verified Current User\",\"Review source: G2 invite on behalf of seller\",\"Incentivized Review\"],\"Title\":\"user friendly, easy to use\",\"url\":\"https://www.g2.com/products/netmera/reviews\"}]",
         "[{\"link\":\"https://www.g2.com/products/insider/reviews\",\"name\":\"Insider\"},{\"link\":\"https://www.g2.com/products/braze/reviews\",\"name\":\"Braze\"},{\"link\":\"https://www.g2.com/products/onesignal/reviews\",\"name\":\"OneSignal\"}]",
         "https://www.g2.com/products/netmera/competitors/alternatives",
         "https://www.g2.com/products/netmera/pricing",
         "https://images.g2crowd.com/uploads/report_medal_translation/image/22106/medal.svg",
         null,
         "Mobile Marketing Software",
         "Home>Mobile Marketing Software>Netmera>Netmera Reviews",
         "[{\"Category\":\"Integration\",\"features\":[{\"description\":\"Ability to input, modify and extract data from the application in bulk through a structured file.\",\"name\":\"Data Import & Export Tools\",\"percent\":0,\"review\":0},{\"description\":\"Application Programming Interface - Specification for how the application communicates with other software.  API's typically enable integration of data, logic, objects, etc with other software applications.\",\"name\":\"Integration APIs\",\"percent\":0,\"review\":0},{\"description\":\"To what extent are there partner applications readily available for integrating into this product?  Partner applications typically provide complementary, best of breed functionality not offered natively in this product.\",\"name\":\"Breadth of Partner Applications\",\"percent\":0,\"review\":0}]},{\"Category\":\"Platform\",\"features\":[{\"description\":\"System provides sufficient customization to meet business requirements\",\"name\":\"Customization\",\"percent\":0,\"review\":0},{\"description\":\"Automates a process that requires a series of steps that typically require intervention by a several different users.  Administrators can write rules to determine who and when a user needs to complete a step.  Also includes notification of users when they need to take action.\",\"name\":\"Workflow Capability\",\"percent\":0,\"review\":0},{\"description\":\"Grant access to select data, features, objects, etc. based on the users, user role, groups, etc.\",\"name\":\"User, Role, and Access Management\",\"percent\":0,\"review\":0},{\"description\":\"Enables users to view and transact business with the same content in multiple languages and currencies.\",\"name\":\"Internationalization\",\"percent\":0,\"review\":0},{\"description\":\"Allows administrators to easily develop and test changes to the CRM deployment.  After changes are made admins can easily migrate the changes into the \\\"live\\\" or \\\"production\\\" environment.\",\"name\":\"Sandbox / Test Environments\",\"percent\":0,\"review\":0},{\"description\":\"Software is consistently available (uptime) and allows users to complete tasks quickly because they are not waiting for the software to respond to an action they took.\",\"name\":\"Performance and Reliability\",\"percent\":0,\"review\":0},{\"description\":\"Optimizes marketing campaigns for mobile devices.\",\"name\":\"Optimization\",\"percent\":0,\"review\":0},{\"description\":\"Facilitates global text message and mobile marketing campaigns.\",\"name\":\"Internationalization\",\"percent\":0,\"review\":0}]},{\"Category\":\"Email Marketing\",\"features\":[{\"description\":\"Create and design emails with an editor; manage templates; personalize dynamically\",\"name\":\"Building and Personalizing Emails\",\"percent\":0,\"review\":0},{\"description\":\"Create targeted lists, schedule and manage bulk email sending.\",\"name\":\"Sending Outbound Emails\",\"percent\":0,\"review\":0},{\"description\":\"Ensure inbox delivery. Includes opt-in management, bounce handling, unsubscribe processing, suppression lists, email preview, spam checking, link validation, and delivery monitoring.\",\"name\":\"Manage Email Deliverability\",\"percent\":0,\"review\":0},{\"description\":\"Set up automated nurturing emails based on events, online activities, and lead scores\",\"name\":\"Automated Email Responses\",\"percent\":0,\"review\":0}]},{\"Category\":\"Online Marketing\",\"features\":[{\"description\":\"Build customized landing pages and lead capture forms for specific marketing campaigns to maximize conversion and to capture the right qualifying information.\",\"name\":\"Landing Pages and Forms\",\"percent\":0,\"review\":0},{\"description\":\"Dynamically customize emails, forms, and landing pages for specific segments of customers and prospects.\",\"name\":\"Dynamic Content\",\"percent\":0,\"review\":0},{\"description\":\"Test alternate versions of emails, landing pages, and forms. Learn what works, maximize response rates, and increase conversion.\",\"name\":\"A/B Testing\",\"percent\":0,\"review\":0},{\"description\":\"Support mobile-optimized emails, online forms, and landing pages.\",\"name\":\"Mobile Optimized\",\"percent\":0,\"review\":0}]},{\"Category\":\"Lead Management\",\"features\":[{\"description\":\"A marketing lead database is the system of record for your most important marketing asset: your leads and contacts. Includes a view of all marketing interactions between each prospect and your company, including website visits, email clicks, scoring changes, and data updates/history.\",\"name\":\"Marketing Lead Database\",\"percent\":0,\"review\":0},{\"description\":\"Data quality consists of deduplication, cleansing, and appending your marketing database.\",\"name\":\"Data Quality Management\",\"percent\":0,\"review\":0},{\"description\":\"Segment your database and build list of target leads and contacts.  Filter on demographic and company attributes (title, company size, location) as well as behavioral filters and CRM information.\",\"name\":\"Segmentation\",\"percent\":0,\"review\":0},{\"description\":\"Automate drip marketing campaigns that send relevant messages over time, based on prospect behaviors and pre-defined campaign steps.\",\"name\":\"Lead Nurturing\",\"percent\":0,\"review\":0},{\"description\":\"Track which emails a prospect opens and clicks, what web-pages they visit, what keywords they use, even what they say on social networks.\",\"name\":\"Online Behavior Tracking\",\"percent\":0,\"review\":0},{\"description\":\"Sync lead, contact, account, and opportunity information with your CRM system.\",\"name\":\"CRM Lead Integration\",\"percent\":0,\"review\":0}]},{\"Category\":\"Social\",\"features\":[{\"description\":\"Schedule automated posts to one or more social accounts; use or integrate with URL shortening services; and measure likes, comments, replies, and retweets.\",\"name\":\"Social Campaigns\",\"percent\":0,\"review\":0},{\"description\":\"Social apps including polls, sweepstakes, and referral programs can enhance audience engagement.  Include these on your website, landing pages, Facebook pages, and emails.\",\"name\":\"Social Media Engagement\",\"percent\":0,\"review\":0},{\"description\":\"Amplify brand and community stories; Reach customers by social profile and activity; Optimize social ad campaigns in real-time\",\"name\":\"Social Media Advertising\",\"percent\":0,\"review\":0}]},{\"Category\":\"Reporting & Analytics\",\"features\":[{\"description\":\"Access pre-built and custom reports and dashboards to measure leads by source/campaign/month, email performance, landing page performance, and web and social activity. Create report subscriptions that can automatically send updates to your team and executives.\",\"name\":\"Basic Reporting\",\"percent\":0,\"review\":0},{\"description\":\"Track which pages prospects and customers visit and how often they come back.  Capture the history in database for lead scoring and sales intelligence. Use anonymous company look-up to identify anonymous visitors.  Send alerts to sales reps of which of their prospects and customers web activity.\",\"name\":\"Web Analytics\",\"percent\":0,\"review\":0},{\"description\":\"Analyze how leads flow through the funnel by measuring stage to stage conversion rates and velocity.  Allocate pipeline and revenue credit among all the marketing activities that have successfully touched an opportunity as it moves through the pipeline.\",\"name\":\"Revenue Analytics\",\"percent\":0,\"review\":0}]},{\"Category\":\"Analysis\",\"features\":[{\"description\":\"Attributes app installs to the marketing campaigns and media sources that drove it.\",\"name\":\"Application Attribution\",\"percent\":0,\"review\":0},{\"description\":\"Measures impact and effectiveness of mobile marketing campaigns.\",\"name\":\"Campaign Analysis\",\"percent\":0,\"review\":0},{\"description\":\"Based on 10 Netmera reviews. Measures user-level uninstall insights.\",\"name\":\"Uninstall Tracking\",\"percent\":70,\"review\":10}]},{\"Category\":\"Campaigns\",\"features\":[{\"description\":\"Collects geo-location data on mobile users to customize relevant campaigns.\",\"name\":\"Proximity Marketing\",\"percent\":0,\"review\":0},{\"description\":\"As reported in 11 Netmera reviews. Pushes notifications or text messages to mobile devices\",\"name\":\"Push Notifications\",\"percent\":89,\"review\":11},{\"description\":\"Provides templates for mass mobile messaging campaigns\",\"name\":\"Bulk SMS\",\"percent\":0,\"review\":0},{\"description\":\"Personalizes and optimizes email mobile marketing campaigns.\",\"name\":\"Email Campaigns\",\"percent\":0,\"review\":0},{\"description\":\"As reported in 11 Netmera reviews. Identifies the most granular audience segments based on actions, inactions, and user properties.\",\"name\":\"Audience Segmentation\",\"percent\":76,\"review\":11},{\"description\":\"As reported in 11 Netmera reviews. Allow users to customize their messages.\",\"name\":\"Customize\",\"percent\":73,\"review\":11},{\"description\":\"Schedule push notifications to be delivered at a specific date and time, or set an expiration for time-bound messages This feature was mentioned in 12 Netmera reviews.\",\"name\":\"Scheduling\",\"percent\":93,\"review\":12},{\"description\":\"Retarget your messages based on previous user engagement. 11 reviewers of Netmera have provided feedback on this feature.\",\"name\":\"Retarget\",\"percent\":74,\"review\":11},{\"description\":\"As reported in 12 Netmera reviews. Segment audience based on device type, location, demographics, customer behavior, etc.\",\"name\":\"Segmentation\",\"percent\":79,\"review\":12},{\"description\":\"Automate notifications based on user behavior This feature was mentioned in 13 Netmera reviews.\",\"name\":\"Triggered Notifications\",\"percent\":90,\"review\":13}]},{\"Category\":\"Engagement\",\"features\":[{\"description\":\"Sends out coupons and promotions to reward and entice mobile device users.\",\"name\":\"Coupons and Promotions\",\"percent\":0,\"review\":0}]},{\"Category\":\"Administration\",\"features\":[{\"description\":\"Integrates with software or mobile apps via SDK or API\",\"name\":\"Integration\",\"percent\":0,\"review\":0},{\"description\":\"Allows users to designate geofences for location-based marketing campaigns\",\"name\":\"Geofencing\",\"percent\":0,\"review\":0},{\"description\":\"Targets customers based on their Wi-Fi connection\",\"name\":\"Wi-Fi Marketing\",\"percent\":0,\"review\":0},{\"description\":\"Integrates with Bluetooth Low Energy (BLE) beacons to execute location-based marketing campaigns\",\"name\":\"Beacons\",\"percent\":0,\"review\":0},{\"description\":\"Targets customers based on IP data\",\"name\":\"IP Geolocation\",\"percent\":0,\"review\":0}]},{\"Category\":\"Marketing\",\"features\":[{\"description\":\"Identifies users when they enter or exit a predefined geolocation\",\"name\":\"Geolocation\",\"percent\":0,\"review\":0},{\"description\":\"Generates an automated notification, text message, or in-app message to users in a predefined geolocation\",\"name\":\"Campaign Automation\",\"percent\":0,\"review\":0},{\"description\":\"Analyzes the performance of location-based marketing campaigns based on foot traffic, POS data, etc.\",\"name\":\"Analytics\",\"percent\":0,\"review\":0},{\"description\":\"Meets compliance standards (e.g. GDPR, CCPA) regarding personal data privacy\",\"name\":\"Security Compliance\",\"percent\":0,\"review\":0}]},{\"Category\":\"Analytics\",\"features\":[{\"description\":\"As reported in 12 Netmera reviews. Track and report on performance metrics and conversions\",\"name\":\"Campaign Performance\",\"percent\":82,\"review\":12},{\"description\":\"As reported in 11 Netmera reviews. Report on audience demographics and engagement\",\"name\":\"Audience Insights\",\"percent\":82,\"review\":11}]},{\"Category\":\"Optimization\",\"features\":[{\"description\":\"Test variations of a push notification on a portion of users and track conversions 12 reviewers of Netmera have provided feedback on this feature.\",\"name\":\"A/B Testing\",\"percent\":74,\"review\":12},{\"description\":\"Personalize messages with contextual data such as customer names or product recommendations 12 reviewers of Netmera have provided feedback on this feature.\",\"name\":\"Personalization\",\"percent\":82,\"review\":12},{\"description\":\"Enhance messages with images, emojis, animated gifs, or videos 12 reviewers of Netmera have provided feedback on this feature.\",\"name\":\"Rich Notifications\",\"percent\":74,\"review\":12},{\"description\":\"Integrate with third-party marketing or e-commerce software 13 reviewers of Netmera have provided feedback on this feature.\",\"name\":\"Integrations\",\"percent\":77,\"review\":13}]},{\"Category\":\"Platform Basics\",\"features\":[{\"description\":\"Provide templates for customer journey mapping to jumpstart the process.\",\"name\":\"Templates\",\"percent\":0,\"review\":0},{\"description\":\"Ability to export customer journey maps in a variety of formats to present and analyze.\",\"name\":\"Exporting\",\"percent\":0,\"review\":0},{\"description\":\"Allow team members to invite others to collaborate on journey maps and make direct changes.\",\"name\":\"Multi-user Access and Collaboration\",\"percent\":0,\"review\":0},{\"description\":\"Provide the ability to compare the experiences of multiple personas in one journey map.\",\"name\":\"Multiple Personas\",\"percent\":0,\"review\":0},{\"description\":\"Ability to integrate with cross-channel, real-time data analytics to power customer journey map creation.\",\"name\":\"Data Analytics\",\"percent\":0,\"review\":0}]}]",
         "AS",
         "TR",
         "netmera",
         "Irem BaylanNetmera şirketinde Product Marketing Specialist"
        ],
        [
         "3",
         "https://www.g2.com/products/netlify/reviews",
         "Netlify",
         "4.5",
         "Netlify provides a full-featured CDN hosting solution.",
         "https://www.netlify.com/features/",
         "Netlify",
         null,
         "https://www.netlify.com/",
         "San Francisco, CA",
         null,
         "[{\"properties\":[{\"name\":\"followers\",\"value\":\"98,889\"}],\"url\":\"https://twitter.com/Netlify\",\"vendor\":\"twitter\"},{\"properties\":[{\"name\":\"employees\",\"value\":\"203\"}],\"url\":\"https://www.linkedin.com/company/6392431/\",\"vendor\":\"linkedin\"}]",
         "Netlify is a cloud-based platform that provides web developers with tools for building, deploying, and managing modern web applications. It offers features such as continuous deployment, serverless functions, and a global content delivery network (CDN) to optimize performance and scalability. Netlify integrates seamlessly with popular development frameworks and tools, enabling developers to streamline their workflows and enhance collaboration. With a focus on JAMstack architecture, Netlify empowers teams to create fast, secure, and highly scalable websites and applications. For more information, visit their website at [netlify.com](https://www.netlify.com).",
         "51",
         "5.0",
         "[{\"count\":\"5\",\"text\":\"Ease of Use\"},{\"count\":\"3\",\"text\":\"Features\"},{\"count\":\"3\",\"text\":\"Flexibility\"},{\"count\":\"3\",\"text\":\"Open-source\"},{\"count\":\"2\",\"text\":\"Cost-Effective\"}]",
         "[{\"count\":\"2\",\"text\":\"Build Issues\"},{\"count\":\"2\",\"text\":\"Confusing Interface\"},{\"count\":\"2\",\"text\":\"Limited Features\"},{\"count\":\"2\",\"text\":\"Technical Difficulties\"},{\"count\":\"1\",\"text\":\"Authentication Issues\"}]",
         "[{\"comparsion_link\":\"https://www.g2.com/compare/amazon-cloudfront-vs-netlify\",\"name\":\"CloudFront\"},{\"comparsion_link\":\"https://www.g2.com/compare/cloudflare-application-security-and-performance-vs-netlify\",\"name\":\"Cloudflare Application Security and Performance\"},{\"comparsion_link\":\"https://www.g2.com/compare/google-cloud-cdn-vs-netlify\",\"name\":\"Google Cloud CDN\"}]",
         null,
         null,
         "[{\"rating\":\"5 star\",\"reviews_count\":\"39\"},{\"rating\":\"4 star\",\"reviews_count\":\"9\"},{\"rating\":\"3 star\",\"reviews_count\":\"1\"},{\"rating\":\"2 star\",\"reviews_count\":\"2\"},{\"rating\":\"1 star\",\"reviews_count\":\"0\"}]",
         "[{\"package\":\"STARTER\",\"price\":\"FREE\",\"price_info\":\"$0 per member/month\"},{\"package\":\"PRO\",\"price\":\"$19\",\"price_info\":\"per member/month\"},{\"package\":\"BUSINESS\",\"price\":\"$99\",\"price_info\":\"per member/month\"},{\"package\":\"ENTERPRISE\",\"price\":\"CONTACT US\"}]",
         null,
         "[\"https://images.g2crowd.com/uploads/attachment/file/1253314/Architectural-guide-to-the-modern-web.pdf\",\"https://images.g2crowd.com/uploads/attachment/file/1330279/Three-Keys-To-Shipping-Quickly-With-A-Composable-Architecture-eBook.pdf\"]",
         null,
         "[\"Continuous Delivery\",\"Cloud Platform as a Service (PaaS)\",\"WebOps Platforms\",\"Content Delivery Network (CDN)\"]",
         null,
         "English",
         "2015.0",
         "Product Description Netlify provides a full-featured CDN hosting solution.  With more than 4M developers and over 475 Enterprise customers, Netlify is the creator of the Jamstack movement, bringing together all modern web frameworks, serverless functions and edge computing into one platform to deliver unmatched user experiences, serving the needs of developers, architects, and marketers. Seller Details Seller Netlify Company Website www.netlify.com Year Founded 2015 HQ Location San Francisco, CA Twitter @Netlify 98,889 Twitter followers LinkedIn® Page www.linkedin.com 203 employees on LinkedIn® Description Netlify is a cloud-based platform that provides web developers with tools for building, deploying, and managing modern web applications. It offers features such as continuous deployment, serverless functions, and a global content delivery network (CDN) to optimize performance and scalability. Netlify integrates seamlessly with popular development frameworks and tools, enabling developers to streamline their workflows and enhance collaboration. With a focus on JAMstack architecture, Netlify empowers teams to create fast, secure, and highly scalable websites and applications. For more information, visit their website at [netlify.com](https://www.netlify.com). LK Overview Provided by: Lisa Kretsch",
         "Netlify is the platform for enterprises to build highly-performant and dynamic websites, e-commerce stores, and web apps. By uniting an extensive ecosystem of technologies, services and APIs into one workflow, Netlify unlocks new levels of team productivity, while saving time and money.",
         "True",
         "https://images.g2crowd.com/uploads/product/image/large_detail/large_detail_4c2c908435a514466a56ed2f4cc49417/netlify.png",
         "[{\"Author\":\"Ita***G.\",\"Author_Id\":\"5783355\",\"Company_Size\":\"Information Technology and Services\",\"Date\":\"2025-01-25T00:00:00.000Z\",\"Position\":\"Founder &amp; Front-end\",\"Review_Id\":\"10768045\",\"Review_url\":\"https://www.g2.com/products/netlify/reviews/netlify-review-10768045\",\"Stars\":5,\"Tags\":[\"Validated Reviewer\",\"Verified Current User\",\"Review source: Organic Review from User Profile\"],\"Title\":\"Seamless and Powerful Hosting for Modern Web Projects\",\"url\":\"https://www.g2.com/products/netlify/reviews\"},{\"Author\":\"Piy*** K.***\",\"Author_Id\":\"4976662\",\"Company_Size\":\"Small-Business (50 or fewer emp.)\",\"Date\":\"2024-03-25T00:00:00.000Z\",\"Position\":\"Undergraduate Student\",\"Review_Id\":\"9466059\",\"Review_url\":\"https://www.g2.com/products/netlify/reviews/netlify-review-9466059\",\"Stars\":4.5,\"Tags\":[\"Validated Reviewer\",\"Verified Current User\",\"Review source: G2 invite\",\"Incentivized Review\"],\"Title\":\"User friendly platform to host your live projects\",\"url\":\"https://www.g2.com/products/netlify/reviews\"},{\"Author\":\"Ros***.\",\"Author_Id\":\"5244114\",\"Company_Size\":\"Management Consulting\",\"Date\":\"2024-07-19T00:00:00.000Z\",\"Position\":\"CEO\",\"Review_Id\":\"9905570\",\"Review_url\":\"https://www.g2.com/products/netlify/reviews/netlify-review-9905570\",\"Stars\":5,\"Tags\":[\"Validated Reviewer\",\"Review source: Organic Review from User Profile\"],\"Title\":\"Great for Modern Digital First Experiences\",\"url\":\"https://www.g2.com/products/netlify/reviews\"},{\"Author\":\"Sin***.\",\"Author_Id\":\"3895106\",\"Company_Size\":\"Small-Business (50 or fewer emp.)\",\"Date\":\"2024-03-06T00:00:00.000Z\",\"Position\":\"CTO\",\"Review_Id\":\"9391835\",\"Review_url\":\"https://www.g2.com/products/netlify/reviews/netlify-review-9391835\",\"Stars\":4.5,\"Tags\":[\"Validated Reviewer\",\"Verified Current User\",\"Review source: Organic\"],\"Title\":\"Easy to use hosting service with lot of features for free\",\"url\":\"https://www.g2.com/products/netlify/reviews\"},{\"Author\":\"Dav***S.\",\"Author_Id\":\"4548365\",\"Company_Size\":\"Mid-Market (51-1000 emp.)\",\"Date\":\"2023-09-08T00:00:00.000Z\",\"Position\":\"Backend Developer\",\"Review_Id\":\"8582606\",\"Review_url\":\"https://www.g2.com/products/netlify/reviews/netlify-review-8582606\",\"Stars\":4.5,\"Tags\":[\"Validated Reviewer\",\"Review source: G2 invite\",\"Incentivized Review\"],\"Title\":\"The platform is easy to use and you have great flexibility.\",\"url\":\"https://www.g2.com/products/netlify/reviews\"},{\"Author\":\"Ada***.\",\"Author_Id\":\"2226227\",\"Company_Size\":\"Mid-Market (51-1000 emp.)\",\"Date\":\"2023-05-18T00:00:00.000Z\",\"Position\":\"Senior Software Engineer\",\"Review_Id\":\"6663211\",\"Review_url\":\"https://www.g2.com/products/netlify/reviews/netlify-review-6663211\",\"Stars\":4,\"Tags\":[\"Validated Reviewer\",\"Review source: G2 invite\",\"Incentivized Review\"],\"Title\":\"Updated: Still free and bursting with features (even if it did use to be cooler)\",\"url\":\"https://www.g2.com/products/netlify/reviews\"},{\"Author_Id\":\"4084466\",\"Date\":\"2023-06-02T00:00:00.000Z\",\"Position\":\"Small-Business (50 or fewer emp.)\",\"Review_Id\":\"8174397\",\"Review_url\":\"https://www.g2.com/products/netlify/reviews/netlify-review-8174397\",\"Stars\":4,\"Tags\":[\"Validated Reviewer\",\"Verified Current User\",\"Review source: G2 invite\",\"Incentivized Review\"],\"Title\":\"A Good hosting for personal or medium projects.\",\"url\":\"https://www.g2.com/products/netlify/reviews\"},{\"Author\":\"Har***ara***.\",\"Author_Id\":\"4188707\",\"Company_Size\":\"Information Services\",\"Date\":\"2023-11-01T00:00:00.000Z\",\"Position\":\"Devops\",\"Review_Id\":\"7947467\",\"Review_url\":\"https://www.g2.com/products/netlify/reviews/netlify-review-7947467\",\"Stars\":4.5,\"Tags\":[\"Validated Reviewer\",\"Verified Current User\",\"Review source: G2 invite\",\"Incentivized Review\"],\"Title\":\"netlify\",\"url\":\"https://www.g2.com/products/netlify/reviews\"},{\"Author\":\"Mik***j Z***\",\"Author_Id\":\"2207547\",\"Company_Size\":\"Small-Business (50 or fewer emp.)\",\"Date\":\"2022-09-05T00:00:00.000Z\",\"Position\":\"Software Engineer\",\"Review_Id\":\"7073771\",\"Review_url\":\"https://www.g2.com/products/netlify/reviews/netlify-review-7073771\",\"Stars\":4.5,\"Tags\":[\"Validated Reviewer\",\"Verified Current User\",\"Review source: G2 invite\",\"Incentivized Review\"],\"Title\":\"Great platform for jamstack websites\",\"url\":\"https://www.g2.com/products/netlify/reviews\"},{\"Author\":\"Dus***nt ***\",\"Author_Id\":\"1167235\",\"Company_Size\":\"Small-Business (50 or fewer emp.)\",\"Date\":\"2022-05-20T00:00:00.000Z\",\"Position\":\"Technology Analyst\",\"Review_Id\":\"6643131\",\"Review_url\":\"https://www.g2.com/products/netlify/reviews/netlify-review-6643131\",\"Stars\":5,\"Tags\":[\"Validated Reviewer\",\"Verified Current User\",\"Review source: G2 invite\",\"Incentivized Review\"],\"Title\":\"Quick, no nonsense deployment solution for individual and small scale projects\",\"url\":\"https://www.g2.com/products/netlify/reviews\"}]",
         "[{\"link\":\"https://www.g2.com/products/platform-sh/reviews\",\"name\":\"Platform.sh\"},{\"link\":\"https://www.g2.com/products/vercel/reviews\",\"name\":\"Vercel\"},{\"link\":\"https://www.g2.com/products/cloudflare-application-security-and-performance/reviews\",\"name\":\"Cloudflare Application Security and Performance\"}]",
         "https://www.g2.com/products/netlify/competitors/alternatives",
         "https://www.g2.com/products/netlify/pricing",
         "https://images.g2crowd.com/uploads/report_medal_translation/image/3436/medal.svg",
         null,
         "WebOps Platforms",
         "Home>WebOps Platforms>Netlify>Netlify Reviews",
         "[{\"Category\":\"Content\",\"features\":[{\"description\":\"Caching of static content at distributed PoPs for faster load times. This feature was mentioned in 26 Netlify reviews.\",\"name\":\"Static Content Caching\",\"percent\":87,\"review\":26},{\"description\":\"As reported in 23 Netlify reviews. Routing of dynamic content for faster load time of dynamic pages.\",\"name\":\"Dynamic Content Routing\",\"percent\":84,\"review\":23},{\"description\":\"The ability to purge the cache from different edge location PoPs. 22 reviewers of Netlify have provided feedback on this feature.\",\"name\":\"Cache purging\",\"percent\":89,\"review\":22}]},{\"Category\":\"Security\",\"features\":[{\"description\":\"Shared SSL certificate. This feature was mentioned in 26 Netlify reviews.\",\"name\":\"SSL\",\"percent\":97,\"review\":26},{\"description\":\"As reported in 19 Netlify reviews. SSL certificate that you provide to the CDN software, or is provided for you and is not shared.\",\"name\":\"Custom SSL\",\"percent\":85,\"review\":19}]},{\"Category\":\"Management\",\"features\":[{\"description\":\"As reported in 27 Netlify reviews. An easy to read, often single page, real-time user interface, showing a graphical presentation of the current status and historical trends of an organization's Key Performance Indicators (KPIs) to enable instantaneous and informed decisions to be made at a glance.\",\"name\":\"Dashboard\",\"percent\":86,\"review\":27},{\"description\":\"Access pre-built and custom reports. 22 reviewers of Netlify have provided feedback on this feature.\",\"name\":\"Reports\",\"percent\":77,\"review\":22},{\"description\":\"As reported in 23 Netlify reviews. Record of data changes taking place in the software.\",\"name\":\"Logs\",\"percent\":83,\"review\":23},{\"description\":\"Designate the necessary tasks and workflows for a team's unique development cycle.\",\"name\":\"Processes and Workflow\",\"percent\":0,\"review\":0},{\"description\":\"Generate visual dashboards and reports around development cycle progress.\",\"name\":\"Reporting\",\"percent\":0,\"review\":0},{\"description\":\"Automate repository detection, version control, testing, and more.\",\"name\":\"Automation\",\"percent\":0,\"review\":0},{\"description\":\"Based on 12 Netlify reviews. Provide web-dedicated content management capabilities.\",\"name\":\"Web Content Dedication\",\"percent\":88,\"review\":12},{\"description\":\"As reported in 13 Netlify reviews. Provides website hosting capabilities.\",\"name\":\"Website Hosting\",\"percent\":88,\"review\":13},{\"description\":\"Dictate user access and permissions based on organizational role. 11 reviewers of Netlify have provided feedback on this feature.\",\"name\":\"Role-Based Permissions\",\"percent\":82,\"review\":11}]},{\"Category\":\"Integration\",\"features\":[{\"description\":\"As reported in 23 Netlify reviews. Application Programming Interface - Specification for how the application communicates with other software. API's typically enable integration of data, logic, objects, etc. with other software applications.\",\"name\":\"API\",\"percent\":85,\"review\":23},{\"description\":\"Standard integrations for common CMS tools. This feature was mentioned in 22 Netlify reviews.\",\"name\":\"CMS Integration\",\"percent\":78,\"review\":22}]},{\"Category\":\"Development\",\"features\":[{\"description\":\"Provides tools for building, deploying, or integrating source code into hosted application.\",\"name\":\"Application Deployment\",\"percent\":0,\"review\":0},{\"description\":\"Provides tools for writing code, editing code, syntax, debugging, or utilizing frameworks.\",\"name\":\"Development Tools\",\"percent\":0,\"review\":0},{\"description\":\"Provides tools for sharing code, tracking progress, and shipping software.\",\"name\":\"Development Environment\",\"percent\":0,\"review\":0},{\"description\":\"Supports programming languages such as Java, C, or Python. Support for front-end languages such as HTML, CSS, and JavaScript.\",\"name\":\"Language Support\",\"percent\":0,\"review\":0},{\"description\":\"Tests the functionality of a software application. Detects and diagnoses issues in application.\",\"name\":\"Testing\",\"percent\":0,\"review\":0}]},{\"Category\":\"Database\",\"features\":[{\"description\":\"Lets developers manage database services. Provides support for different types of databases and integration methods.\",\"name\":\"Database Management\",\"percent\":0,\"review\":0},{\"description\":\"Lets users analyze deployment, user, storage, and business metrics.\",\"name\":\"Analytics\",\"percent\":0,\"review\":0},{\"description\":\"Provides tools or bots that scale services and data automatically or on demand.\",\"name\":\"Auto Scaling\",\"percent\":0,\"review\":0},{\"description\":\"Stores versions of application and data or incrementally backs up data.\",\"name\":\"Backup / Recovery\",\"percent\":0,\"review\":0},{\"description\":\"Provides scalable cloud storage for different forms of data. Store analytics and records for reporting.\",\"name\":\"Storage\",\"percent\":0,\"review\":0}]},{\"Category\":\"Infrastructure\",\"features\":[{\"description\":\"Allows users to provision networks, deliver content, balance loads, and manage traffic.\",\"name\":\"Networking\",\"percent\":0,\"review\":0},{\"description\":\"Provides virtual networks and operating systems.\",\"name\":\"Virtual Machines\",\"percent\":0,\"review\":0},{\"description\":\"Secures applications, encrypt data, and manage identities.\",\"name\":\"Security\",\"percent\":0,\"review\":0}]},{\"Category\":\"Functionality\",\"features\":[{\"description\":\"Based on 11 Netlify reviews. Maintain, or facilitate maintenance of, tested and approved code in a deployment-ready state for manual pushes to production.\",\"name\":\"Deployment-Ready Staging\",\"percent\":97,\"review\":11},{\"description\":\"As reported in 10 Netlify reviews. Integrate with other development and testing software, such as continuous integration or test automation tools.\",\"name\":\"Integration\",\"percent\":95,\"review\":10},{\"description\":\"Plug-in capable for added resources, features, and functions within the product itself.\",\"name\":\"Extensible\",\"percent\":0,\"review\":0},{\"description\":\"Provide developer-focused tools for website creation and maintenance. This feature was mentioned in 13 Netlify reviews.\",\"name\":\"Developer Tools\",\"percent\":86,\"review\":13},{\"description\":\"Based on 13 Netlify reviews. Automate repetitive web development processes.\",\"name\":\"Automation\",\"percent\":81,\"review\":13},{\"description\":\"As reported in 12 Netlify reviews. Offer staging and other pre-production environments for web development.\",\"name\":\"Website Staging\",\"percent\":89,\"review\":12}]},{\"Category\":\"Support\",\"features\":[{\"description\":\"Support traditional and headless CMS. 12 reviewers of Netlify have provided feedback on this feature.\",\"name\":\"CMS Variety\",\"percent\":78,\"review\":12},{\"description\":\"Based on 11 Netlify reviews. Support several CMS through a single platform.\",\"name\":\"Multi-CMS Support\",\"percent\":73,\"review\":11},{\"description\":\"Offer or foster security compliance capabilities, e.g., SOC 2.\",\"name\":\"Compliance\",\"percent\":0,\"review\":0}]}]",
         null,
         "US",
         "netlify",
         "Lisa Kretsch"
        ],
        [
         "4",
         "https://www.g2.com/products/openbuildings-designer/reviews",
         "OpenBuildings Designer",
         "4.3",
         "OpenBuildings Designer is a single building information modeling (BIM) software application for multi-discipline teams.",
         "https://www.g2.com/products/openbuildings-designer/reviews",
         "Bentley Systems",
         "NASDAQ: BSY",
         "https://www.bentley.com/",
         "Exton, PA",
         null,
         "[{\"properties\":[{\"name\":\"followers\",\"value\":\"17,761\"}],\"url\":\"https://twitter.com/BentleySystems\",\"vendor\":\"twitter\"},{\"properties\":[{\"name\":\"employees\",\"value\":\"5,107\"}],\"url\":\"https://www.linkedin.com/company/4929/\",\"vendor\":\"linkedin\"}]",
         "Bentley Systems provides architects, engineers, geospatial professionals, constructors, and owner-operators with comprehensive software solutions for advancing the design, construction, and operations of infrastructure.",
         "16",
         "8.0",
         "[{\"count\":\"1\",\"text\":\"Customer Support\"},{\"count\":\"1\",\"text\":\"Customization\"},{\"count\":\"1\",\"text\":\"Ease of Use\"},{\"count\":\"1\",\"text\":\"Features\"}]",
         "[{\"count\":\"1\",\"text\":\"Expensive\"}]",
         "[{\"comparsion_link\":\"https://www.g2.com/compare/openbuildings-designer-vs-revit\",\"name\":\"Revit\"},{\"comparsion_link\":\"https://www.g2.com/compare/microstation-vs-openbuildings-designer\",\"name\":\"MicroStation\"},{\"comparsion_link\":\"https://www.g2.com/compare/archicad-vs-openbuildings-designer\",\"name\":\"Archicad\"}]",
         null,
         null,
         "[{\"rating\":\"5 star\",\"reviews_count\":\"10\"},{\"rating\":\"4 star\",\"reviews_count\":\"5\"},{\"rating\":\"3 star\",\"reviews_count\":\"1\"},{\"rating\":\"2 star\",\"reviews_count\":\"0\"},{\"rating\":\"1 star\",\"reviews_count\":\"0\"}]",
         "[{\"package\":\"OpenBuildings Designer 12-month subscription\",\"price\":\"$2,686\",\"price_info\":\"Includes software, support, and installation on up to 3 machines but only for one concurrent user at a time. Local currency pricing available.\"}]",
         null,
         null,
         null,
         "[\"Building Design and Building Information Modeling (BIM)\"]",
         null,
         "Czech, German, English, French, Italian, Russian, Spanish, Chinese (Simplified)",
         "1984.0",
         "Product Description OpenBuildings Designer is a single building information modeling (BIM) software application for multi-discipline teams.  OpenBuildings Designer is a single building information modeling (BIM) software application for multi-discipline teams working on infrastructure project types including buildings, rail and metro stations and networks, water and wastewater treatment plants, roads and bridges, and much more. Seller Details Seller Bentley Systems Year Founded 1984 HQ Location Exton, PA Twitter @BentleySystems 17,761 Twitter followers LinkedIn® Page www.linkedin.com 5,107 employees on LinkedIn® Ownership NASDAQ: BSY Description Bentley Systems provides architects, engineers, geospatial professionals, constructors, and owner-operators with comprehensive software solutions for advancing the design, construction, and operations of infrastructure. PG Overview Provided by: Prathamesh Gawde",
         "OpenBuildings Designer is a multi-discipline building design application that enables BIM workflows to provide information-rich models for the design, analysis, simulation, and documentation of buildings. It incorporates OpenBuildings Designer computational design and energy services for building performance evaluation. OpenBuildings Designer immerses you in a 3D modeling environment and provides site content by referencing reality models. The application shares a catalog of design components across the project team. Built-in clash detection allows designers to coordinate building systems. The federated data approach to modeling and drawing management allows users to work on any size models simultaneously across distributed geographies. • Multi-discipline: Increase collaboration among architects, mechanical, electrical, and structural engineers with a shared set of tools and workflows • Interoperability: Integrate information you have from multiple formats and easily work on projects of any size • Information-rich deliverables: Clearly communicate your design intent with reliable deliverables that you can easily customize • Unrestrictive design environment: Model anything with total freedom from buildings with simple to highly complex geometry and designs • Building performance: Simulate buildings and predict the real-world performance of the asset quickly and with precision to explore various options for iterative refinement Explore 21-Day Free Trial - https://go.virtuosity.com/openbuildings-designer-free-trial-get-started",
         "True",
         "https://images.g2crowd.com/uploads/product/image/large_detail/large_detail_1cc4e5fc1cef0e31e6aea4ff39e0b2df/openbuildings-designer.png",
         "[{\"Author\":\"Eri***.\",\"Author_Id\":\"356489\",\"Company_Size\":\"Architecture & Planning\",\"Date\":\"2025-01-24T00:00:00.000Z\",\"Position\":\"CEO\",\"Review_Id\":\"10764776\",\"Review_url\":\"https://www.g2.com/products/openbuildings-designer/reviews/openbuildings-designer-review-10764776\",\"Stars\":4,\"Tags\":[\"Validated Reviewer\",\"Verified Current User\",\"Review source: Organic\"],\"Title\":\"Great product and far ahead of Autdesk products\",\"url\":\"https://www.g2.com/products/openbuildings-designer/reviews\"},{\"Author\":\"Ped***M.\",\"Author_Id\":\"3526119\",\"Company_Size\":\"Mid-Market (51-1000 emp.)\",\"Date\":\"2022-06-14T00:00:00.000Z\",\"Position\":\"AECOsim / OpenBuildings CONNECT Trainer - Master in BIM Metodology & Management\",\"Review_Id\":\"6648788\",\"Review_url\":\"https://www.g2.com/products/openbuildings-designer/reviews/openbuildings-designer-review-6648788\",\"Stars\":4.5,\"Tags\":[\"Validated Reviewer\",\"Verified Current User\",\"Review source: Organic\"],\"Title\":\"OpenBuildings is the most flexible BIM app for big multidisciplinary intrastructure projects\",\"url\":\"https://www.g2.com/products/openbuildings-designer/reviews\"},{\"Author\":\"Rae***.\",\"Author_Id\":\"3578362\",\"Company_Size\":\"Mid-Market (51-1000 emp.)\",\"Date\":\"2022-06-20T00:00:00.000Z\",\"Position\":\"Senior Consultant/Academic Instructor\",\"Review_Id\":\"6757666\",\"Review_url\":\"https://www.g2.com/products/openbuildings-designer/reviews/openbuildings-designer-review-6757666\",\"Stars\":4.5,\"Tags\":[\"Validated Reviewer\",\"Verified Current User\",\"Review source: G2 invite\",\"Incentivized Review\"],\"Title\":\"The most customizable and powerful BIM model authoring tool I used\",\"url\":\"https://www.g2.com/products/openbuildings-designer/reviews\"},{\"Author\":\"Ign***o V***\",\"Author_Id\":\"3529094\",\"Company_Size\":\"Small-Business (50 or fewer emp.)\",\"Date\":\"2022-05-24T00:00:00.000Z\",\"Position\":\"Data management specialist\",\"Review_Id\":\"6654588\",\"Review_url\":\"https://www.g2.com/products/openbuildings-designer/reviews/openbuildings-designer-review-6654588\",\"Stars\":4.5,\"Tags\":[\"Validated Reviewer\",\"Verified Current User\",\"Review source: Organic\"],\"Title\":\"User-friendly and detailed building design\",\"url\":\"https://www.g2.com/products/openbuildings-designer/reviews\"},{\"Author\":\"Ser***d.\",\"Author_Id\":\"3526431\",\"Company_Size\":\"Small-Business (50 or fewer emp.)\",\"Date\":\"2022-05-23T00:00:00.000Z\",\"Position\":\"Product Manager de Software BIM/ VDC\",\"Review_Id\":\"6649438\",\"Review_url\":\"https://www.g2.com/products/openbuildings-designer/reviews/openbuildings-designer-review-6649438\",\"Stars\":4.5,\"Tags\":[\"Validated Reviewer\",\"Verified Current User\",\"Review source: Organic\"],\"Title\":\"Very complete SW for the design of all disciplines of a building including internal check systems\",\"url\":\"https://www.g2.com/products/openbuildings-designer/reviews\"},{\"Author\":\"And***.\",\"Author_Id\":\"2258606\",\"Company_Size\":\"Small-Business (50 or fewer emp.)\",\"Date\":\"2022-05-20T00:00:00.000Z\",\"Position\":\"Owner\",\"Review_Id\":\"5271391\",\"Review_url\":\"https://www.g2.com/products/openbuildings-designer/reviews/openbuildings-designer-review-5271391\",\"Stars\":5,\"Tags\":[\"Validated Reviewer\",\"Verified Current User\",\"Review source: G2 Gives Campaign\",\"Incentivized Review\"],\"Title\":\"You can reference a lot of different files into your project.\",\"url\":\"https://www.g2.com/products/openbuildings-designer/reviews\"},{\"Author\":\"Dan***e P***\",\"Author_Id\":\"3522403\",\"Company_Size\":\"Small-Business (50 or fewer emp.)\",\"Date\":\"2022-05-20T00:00:00.000Z\",\"Position\":\"Specialista in campo grafico\",\"Review_Id\":\"6640738\",\"Review_url\":\"https://www.g2.com/products/openbuildings-designer/reviews/openbuildings-designer-review-6640738\",\"Stars\":5,\"Tags\":[\"Validated Reviewer\",\"Verified Current User\",\"Review source: Organic\"],\"Title\":\"With OpenBuildings 9 Bentley has created a complete software for the design of buildings and more\",\"url\":\"https://www.g2.com/products/openbuildings-designer/reviews\"},{\"Author\":\"Mar***P.\",\"Author_Id\":\"3523203\",\"Company_Size\":\"Small-Business (50 or fewer emp.)\",\"Date\":\"2022-05-20T00:00:00.000Z\",\"Position\":\"BIM Manager\",\"Review_Id\":\"6642332\",\"Review_url\":\"https://www.g2.com/products/openbuildings-designer/reviews/openbuildings-designer-review-6642332\",\"Stars\":4.5,\"Tags\":[\"Validated Reviewer\",\"Verified Current User\",\"Review source: Organic\"],\"Title\":\"Fantastic\",\"url\":\"https://www.g2.com/products/openbuildings-designer/reviews\"},{\"Author_Id\":\"3522392\",\"Date\":\"2022-05-20T00:00:00.000Z\",\"Position\":\"Enterprise (> 1000 emp.)\",\"Review_Id\":\"6640726\",\"Review_url\":\"https://www.g2.com/products/openbuildings-designer/reviews/openbuildings-designer-review-6640726\",\"Stars\":4,\"Tags\":[\"Validated Reviewer\",\"Verified Current User\",\"Review source: Organic\"],\"Title\":\"Open Buildings Designer Review\",\"url\":\"https://www.g2.com/products/openbuildings-designer/reviews\"},{\"Author\":\"Jac***yn ***\",\"Author_Id\":\"3522765\",\"Company_Size\":\"Mid-Market (51-1000 emp.)\",\"Date\":\"2022-05-20T00:00:00.000Z\",\"Position\":\"BIM Technician specialist - BIM modeller\",\"Review_Id\":\"6641472\",\"Review_url\":\"https://www.g2.com/products/openbuildings-designer/reviews/openbuildings-designer-review-6641472\",\"Stars\":5,\"Tags\":[\"Validated Reviewer\",\"Verified Current User\",\"Review source: Organic\"],\"Title\":\"The best experience about modelling\",\"url\":\"https://www.g2.com/products/openbuildings-designer/reviews\"}]",
         "[{\"link\":\"https://www.g2.com/products/revit/reviews\",\"name\":\"Revit\"},{\"link\":\"https://www.g2.com/products/archicad/reviews\",\"name\":\"Archicad\"},{\"link\":\"https://www.g2.com/products/sketchup/reviews\",\"name\":\"SketchUp\"}]",
         "https://www.g2.com/products/openbuildings-designer/competitors/alternatives",
         "https://www.g2.com/products/openbuildings-designer/pricing",
         null,
         null,
         "CAD Software",
         "Home>CAD Software>Building Design and Building Information Modeling (BIM) Software>OpenBuildings Designer>OpenBuildings Designer Reviews",
         "[{\"Category\":\"Design\",\"features\":[{\"description\":\"Design your project in 3D 11 reviewers of OpenBuildings Designer have provided feedback on this feature.\",\"name\":\"Visualizing\",\"percent\":83,\"review\":11},{\"description\":\"Produce 3D visualizations without any integrating hardware.  10 reviewers of OpenBuildings Designer have provided feedback on this feature.\",\"name\":\"Rendering\",\"percent\":82,\"review\":10},{\"description\":\"Ability to create 2D and 3D drawings of your structure. 13 reviewers of OpenBuildings Designer have provided feedback on this feature.\",\"name\":\"Drawing\",\"percent\":81,\"review\":13},{\"description\":\"Based on 13 OpenBuildings Designer reviews. Ability to edit designs with a WYSIWYG editor\",\"name\":\"Editing\",\"percent\":86,\"review\":13},{\"description\":\"As reported in 10 OpenBuildings Designer reviews. Create and animate the sequences of steps, materials and building crews needed to construct your building.\",\"name\":\"Sequence Steps\",\"percent\":73,\"review\":10},{\"description\":\"As reported in 12 OpenBuildings Designer reviews. Allows users to create relationships between objects so design changes are dynamically updated\",\"name\":\"Dynamic Updating\",\"percent\":78,\"review\":12}]},{\"Category\":\"Collaboration\",\"features\":[{\"description\":\"Allows users to save and share work in one project This feature was mentioned in 12 OpenBuildings Designer reviews.\",\"name\":\"Multi User\",\"percent\":89,\"review\":12},{\"description\":\"Based on 13 OpenBuildings Designer reviews. Ability to import and export 2D and 3D files to the platform so your team can update designs and collaborate as needed.\",\"name\":\"File Import/Export\",\"percent\":90,\"review\":13},{\"description\":\"Add keynotes, tags, dimensions and more to your document. This feature was mentioned in 13 OpenBuildings Designer reviews.\",\"name\":\"Annotating\",\"percent\":78,\"review\":13},{\"description\":\"Store various types of documents within this platform. 13 reviewers of OpenBuildings Designer have provided feedback on this feature.\",\"name\":\"Document Storage\",\"percent\":88,\"review\":13}]},{\"Category\":\"Construction\",\"features\":[{\"description\":\"Ability to create models of various systems that need to be integrated into the structure.\",\"name\":\"Fabrication\",\"percent\":0,\"review\":0},{\"description\":\"Add reinforcement to vital points in the model of your structure.\",\"name\":\"Reinforcement Tools\",\"percent\":0,\"review\":0},{\"description\":\"As reported in 12 OpenBuildings Designer reviews. Ability to detect clashing elements, such as electrical conduit or ductwork that run into a beam.\",\"name\":\"Clash Detection\",\"percent\":74,\"review\":12},{\"description\":\"Allows users to utilize grading tools to design finished ground surfaces\",\"name\":\"Grading\",\"percent\":0,\"review\":0},{\"description\":\"Allows users to calculate cut and fill earthwork quantities between two surfaces.\",\"name\":\"Earthwork\",\"percent\":0,\"review\":0}]}]",
         null,
         "US",
         "openbuildings-designer",
         "Prathamesh Gawde"
        ]
       ],
       "shape": {
        "columns": 45,
        "rows": 5
       }
      },
      "text/html": [
       "<div>\n",
       "<style scoped>\n",
       "    .dataframe tbody tr th:only-of-type {\n",
       "        vertical-align: middle;\n",
       "    }\n",
       "\n",
       "    .dataframe tbody tr th {\n",
       "        vertical-align: top;\n",
       "    }\n",
       "\n",
       "    .dataframe thead th {\n",
       "        text-align: right;\n",
       "    }\n",
       "</style>\n",
       "<table border=\"1\" class=\"dataframe\">\n",
       "  <thead>\n",
       "    <tr style=\"text-align: right;\">\n",
       "      <th></th>\n",
       "      <th>url</th>\n",
       "      <th>product_name</th>\n",
       "      <th>rating</th>\n",
       "      <th>description</th>\n",
       "      <th>product_url</th>\n",
       "      <th>seller</th>\n",
       "      <th>ownership</th>\n",
       "      <th>seller_website</th>\n",
       "      <th>headquarters</th>\n",
       "      <th>total_revenue</th>\n",
       "      <th>...</th>\n",
       "      <th>full_pricing_page</th>\n",
       "      <th>badge</th>\n",
       "      <th>what_is_description</th>\n",
       "      <th>main_category</th>\n",
       "      <th>main_subject</th>\n",
       "      <th>Features</th>\n",
       "      <th>region</th>\n",
       "      <th>country_code</th>\n",
       "      <th>software_product_id</th>\n",
       "      <th>overview_provided_by</th>\n",
       "    </tr>\n",
       "  </thead>\n",
       "  <tbody>\n",
       "    <tr>\n",
       "      <th>0</th>\n",
       "      <td>https://www.g2.com/products/newforma-project-c...</td>\n",
       "      <td>Newforma Project Center</td>\n",
       "      <td>4.0</td>\n",
       "      <td>Newforma PIM solution an integrated solution f...</td>\n",
       "      <td>https://www.newforma.com/newforma-project-center/</td>\n",
       "      <td>Newforma</td>\n",
       "      <td>NaN</td>\n",
       "      <td>https://www.newforma.com/</td>\n",
       "      <td>Manchester, NH</td>\n",
       "      <td>NaN</td>\n",
       "      <td>...</td>\n",
       "      <td>https://www.g2.com/products/newforma-project-c...</td>\n",
       "      <td>https://images.g2crowd.com/uploads/report_meda...</td>\n",
       "      <td>NaN</td>\n",
       "      <td>Construction Software</td>\n",
       "      <td>Home&gt;Construction Software&gt;Construction Projec...</td>\n",
       "      <td>[{\"Category\":\"Library\",\"features\":[{\"descripti...</td>\n",
       "      <td>NaN</td>\n",
       "      <td>US</td>\n",
       "      <td>newforma-project-center</td>\n",
       "      <td>Henry Auger</td>\n",
       "    </tr>\n",
       "    <tr>\n",
       "      <th>1</th>\n",
       "      <td>https://www.g2.com/products/nitro-pro/reviews</td>\n",
       "      <td>Nitro Pro</td>\n",
       "      <td>4.3</td>\n",
       "      <td>Nitro deliver trusted PDF &amp; eSign software for...</td>\n",
       "      <td>https://www.gonitro.com/pricing</td>\n",
       "      <td>Nitro, Inc</td>\n",
       "      <td>NaN</td>\n",
       "      <td>https://www.gonitro.com/</td>\n",
       "      <td>San Francisco, CA</td>\n",
       "      <td>NaN</td>\n",
       "      <td>...</td>\n",
       "      <td>https://www.g2.com/products/nitro-pro/pricing</td>\n",
       "      <td>https://images.g2crowd.com/uploads/report_meda...</td>\n",
       "      <td>NaN</td>\n",
       "      <td>Document Creation Software</td>\n",
       "      <td>Home&gt;Document Creation Software&gt;Nitro Pro&gt;Nitr...</td>\n",
       "      <td>[{\"Category\":\"Platform\",\"features\":[{\"descript...</td>\n",
       "      <td>NaN</td>\n",
       "      <td>US</td>\n",
       "      <td>nitro-pro</td>\n",
       "      <td>Jaclyn Core</td>\n",
       "    </tr>\n",
       "    <tr>\n",
       "      <th>2</th>\n",
       "      <td>https://www.g2.com/products/netmera/reviews</td>\n",
       "      <td>Netmera</td>\n",
       "      <td>4.2</td>\n",
       "      <td>Netmera enables marketers to create, schedule,...</td>\n",
       "      <td>https://www.netmera.com/mobile-marketing-autom...</td>\n",
       "      <td>Netmera</td>\n",
       "      <td>NaN</td>\n",
       "      <td>https://netmera.com/</td>\n",
       "      <td>İstanbul, TR</td>\n",
       "      <td>NaN</td>\n",
       "      <td>...</td>\n",
       "      <td>https://www.g2.com/products/netmera/pricing</td>\n",
       "      <td>https://images.g2crowd.com/uploads/report_meda...</td>\n",
       "      <td>NaN</td>\n",
       "      <td>Mobile Marketing Software</td>\n",
       "      <td>Home&gt;Mobile Marketing Software&gt;Netmera&gt;Netmera...</td>\n",
       "      <td>[{\"Category\":\"Integration\",\"features\":[{\"descr...</td>\n",
       "      <td>AS</td>\n",
       "      <td>TR</td>\n",
       "      <td>netmera</td>\n",
       "      <td>Irem BaylanNetmera şirketinde Product Marketin...</td>\n",
       "    </tr>\n",
       "    <tr>\n",
       "      <th>3</th>\n",
       "      <td>https://www.g2.com/products/netlify/reviews</td>\n",
       "      <td>Netlify</td>\n",
       "      <td>4.5</td>\n",
       "      <td>Netlify provides a full-featured CDN hosting s...</td>\n",
       "      <td>https://www.netlify.com/features/</td>\n",
       "      <td>Netlify</td>\n",
       "      <td>NaN</td>\n",
       "      <td>https://www.netlify.com/</td>\n",
       "      <td>San Francisco, CA</td>\n",
       "      <td>NaN</td>\n",
       "      <td>...</td>\n",
       "      <td>https://www.g2.com/products/netlify/pricing</td>\n",
       "      <td>https://images.g2crowd.com/uploads/report_meda...</td>\n",
       "      <td>NaN</td>\n",
       "      <td>WebOps Platforms</td>\n",
       "      <td>Home&gt;WebOps Platforms&gt;Netlify&gt;Netlify Reviews</td>\n",
       "      <td>[{\"Category\":\"Content\",\"features\":[{\"descripti...</td>\n",
       "      <td>NaN</td>\n",
       "      <td>US</td>\n",
       "      <td>netlify</td>\n",
       "      <td>Lisa Kretsch</td>\n",
       "    </tr>\n",
       "    <tr>\n",
       "      <th>4</th>\n",
       "      <td>https://www.g2.com/products/openbuildings-desi...</td>\n",
       "      <td>OpenBuildings Designer</td>\n",
       "      <td>4.3</td>\n",
       "      <td>OpenBuildings Designer is a single building in...</td>\n",
       "      <td>https://www.g2.com/products/openbuildings-desi...</td>\n",
       "      <td>Bentley Systems</td>\n",
       "      <td>NASDAQ: BSY</td>\n",
       "      <td>https://www.bentley.com/</td>\n",
       "      <td>Exton, PA</td>\n",
       "      <td>NaN</td>\n",
       "      <td>...</td>\n",
       "      <td>https://www.g2.com/products/openbuildings-desi...</td>\n",
       "      <td>NaN</td>\n",
       "      <td>NaN</td>\n",
       "      <td>CAD Software</td>\n",
       "      <td>Home&gt;CAD Software&gt;Building Design and Building...</td>\n",
       "      <td>[{\"Category\":\"Design\",\"features\":[{\"descriptio...</td>\n",
       "      <td>NaN</td>\n",
       "      <td>US</td>\n",
       "      <td>openbuildings-designer</td>\n",
       "      <td>Prathamesh Gawde</td>\n",
       "    </tr>\n",
       "  </tbody>\n",
       "</table>\n",
       "<p>5 rows × 45 columns</p>\n",
       "</div>"
      ],
      "text/plain": [
       "                                                 url             product_name  \\\n",
       "0  https://www.g2.com/products/newforma-project-c...  Newforma Project Center   \n",
       "1      https://www.g2.com/products/nitro-pro/reviews                Nitro Pro   \n",
       "2        https://www.g2.com/products/netmera/reviews                  Netmera   \n",
       "3        https://www.g2.com/products/netlify/reviews                  Netlify   \n",
       "4  https://www.g2.com/products/openbuildings-desi...   OpenBuildings Designer   \n",
       "\n",
       "   rating                                        description  \\\n",
       "0     4.0  Newforma PIM solution an integrated solution f...   \n",
       "1     4.3  Nitro deliver trusted PDF & eSign software for...   \n",
       "2     4.2  Netmera enables marketers to create, schedule,...   \n",
       "3     4.5  Netlify provides a full-featured CDN hosting s...   \n",
       "4     4.3  OpenBuildings Designer is a single building in...   \n",
       "\n",
       "                                         product_url           seller  \\\n",
       "0  https://www.newforma.com/newforma-project-center/         Newforma   \n",
       "1                    https://www.gonitro.com/pricing       Nitro, Inc   \n",
       "2  https://www.netmera.com/mobile-marketing-autom...          Netmera   \n",
       "3                  https://www.netlify.com/features/          Netlify   \n",
       "4  https://www.g2.com/products/openbuildings-desi...  Bentley Systems   \n",
       "\n",
       "     ownership             seller_website       headquarters total_revenue  \\\n",
       "0          NaN  https://www.newforma.com/     Manchester, NH           NaN   \n",
       "1          NaN   https://www.gonitro.com/  San Francisco, CA           NaN   \n",
       "2          NaN       https://netmera.com/       İstanbul, TR           NaN   \n",
       "3          NaN   https://www.netlify.com/  San Francisco, CA           NaN   \n",
       "4  NASDAQ: BSY   https://www.bentley.com/          Exton, PA           NaN   \n",
       "\n",
       "   ...                                  full_pricing_page  \\\n",
       "0  ...  https://www.g2.com/products/newforma-project-c...   \n",
       "1  ...      https://www.g2.com/products/nitro-pro/pricing   \n",
       "2  ...        https://www.g2.com/products/netmera/pricing   \n",
       "3  ...        https://www.g2.com/products/netlify/pricing   \n",
       "4  ...  https://www.g2.com/products/openbuildings-desi...   \n",
       "\n",
       "                                               badge  what_is_description  \\\n",
       "0  https://images.g2crowd.com/uploads/report_meda...                  NaN   \n",
       "1  https://images.g2crowd.com/uploads/report_meda...                  NaN   \n",
       "2  https://images.g2crowd.com/uploads/report_meda...                  NaN   \n",
       "3  https://images.g2crowd.com/uploads/report_meda...                  NaN   \n",
       "4                                                NaN                  NaN   \n",
       "\n",
       "                main_category  \\\n",
       "0       Construction Software   \n",
       "1  Document Creation Software   \n",
       "2   Mobile Marketing Software   \n",
       "3            WebOps Platforms   \n",
       "4                CAD Software   \n",
       "\n",
       "                                        main_subject  \\\n",
       "0  Home>Construction Software>Construction Projec...   \n",
       "1  Home>Document Creation Software>Nitro Pro>Nitr...   \n",
       "2  Home>Mobile Marketing Software>Netmera>Netmera...   \n",
       "3      Home>WebOps Platforms>Netlify>Netlify Reviews   \n",
       "4  Home>CAD Software>Building Design and Building...   \n",
       "\n",
       "                                            Features region  country_code  \\\n",
       "0  [{\"Category\":\"Library\",\"features\":[{\"descripti...    NaN            US   \n",
       "1  [{\"Category\":\"Platform\",\"features\":[{\"descript...    NaN            US   \n",
       "2  [{\"Category\":\"Integration\",\"features\":[{\"descr...     AS            TR   \n",
       "3  [{\"Category\":\"Content\",\"features\":[{\"descripti...    NaN            US   \n",
       "4  [{\"Category\":\"Design\",\"features\":[{\"descriptio...    NaN            US   \n",
       "\n",
       "       software_product_id                               overview_provided_by  \n",
       "0  newforma-project-center                                        Henry Auger  \n",
       "1                nitro-pro                                        Jaclyn Core  \n",
       "2                  netmera  Irem BaylanNetmera şirketinde Product Marketin...  \n",
       "3                  netlify                                       Lisa Kretsch  \n",
       "4   openbuildings-designer                                   Prathamesh Gawde  \n",
       "\n",
       "[5 rows x 45 columns]"
      ]
     },
     "execution_count": 30,
     "metadata": {},
     "output_type": "execute_result"
    }
   ],
   "source": [
    "# Load CSV data into dataframe\n",
    "csv = pd.read_csv(\"../data/G2 software product overview.csv\")\n",
    "df = pd.DataFrame(csv)\n",
    "df.head()"
   ]
  },
  {
   "cell_type": "markdown",
   "metadata": {},
   "source": [
    "### Data Cleaning"
   ]
  },
  {
   "cell_type": "code",
   "execution_count": 130,
   "metadata": {},
   "outputs": [
    {
     "data": {
      "application/vnd.microsoft.datawrangler.viewer.v0+json": {
       "columns": [
        {
         "name": "index",
         "rawType": "int64",
         "type": "integer"
        },
        {
         "name": "product_name",
         "rawType": "object",
         "type": "string"
        },
        {
         "name": "Features",
         "rawType": "object",
         "type": "unknown"
        },
        {
         "name": "rating",
         "rawType": "float64",
         "type": "float"
        },
        {
         "name": "main_category",
         "rawType": "object",
         "type": "string"
        }
       ],
       "conversionMethod": "pd.DataFrame",
       "ref": "0d791cc2-71da-4083-aac2-56caad41a518",
       "rows": [
        [
         "0",
         "Newforma Project Center",
         "[{'Category': 'Library', 'features': [{'description': 'Provides users with a library of objects to place within your architecural design.', 'name': 'Objects', 'percent': 0, 'review': 0}, {'description': 'Provides users with a library of premade materials to place within your archietcural design.', 'name': 'Materials', 'percent': 0, 'review': 0}]}, {'Category': 'Rendering', 'features': [{'description': 'Allows users to render image and procedural textures.', 'name': 'Textures', 'percent': 0, 'review': 0}, {'description': 'Allows users to create different shade renderings on materials.', 'name': 'Shading', 'percent': 0, 'review': 0}, {'description': 'Allows users to render environmental lights, sky models, and artificial light areas.', 'name': 'Lighting', 'percent': 0, 'review': 0}, {'description': 'Allows users to render exterior objects around the architecture such as foliage, streets, and people.', 'name': 'Exterior Rendering', 'percent': 0, 'review': 0}, {'description': 'Allows users to render aerial views.', 'name': 'Aerial Rendering', 'percent': 0, 'review': 0}, {'description': 'Allows users to render atmospheric effects such as rain and snow.', 'name': 'Atmospheric rendering', 'percent': 0, 'review': 0}]}, {'Category': 'Integrations', 'features': [{'description': 'Allows users to integrate with building design and building information modeling (BIM) software.', 'name': 'BIM Integration', 'percent': 0, 'review': 0}, {'description': 'Allows users to integrate with other 3D rendering software.', 'name': '3D Rendering Integration', 'percent': 0, 'review': 0}]}, {'Category': 'Documentation', 'features': [{'description': 'Supports the upload of photos and documents to punch lists for accuracy and real-time updates. This feature was mentioned in 10 Newforma Project Center reviews.', 'name': 'Attachment Uploads', 'percent': 80, 'review': 10}, {'description': 'Facilitates the creation, customization, and/or generation of punch list templates.', 'name': 'Templates', 'percent': 0, 'review': 0}, {'description': 'Itemizes mistakes, deficiencies, oversights, etc., on a nearly completed construction project.', 'name': 'List Generation', 'percent': 0, 'review': 0}, {'description': 'Generates reports on the number of punch lists assigned to sub/contractors, the type of work that is noted in punch lists, and other actionable business insights.', 'name': 'Reporting and Analytics', 'percent': 0, 'review': 0}]}, {'Category': 'Collaboration', 'features': [{'description': 'Records and tracks changes and edits to punch lists.', 'name': 'Action History', 'percent': 0, 'review': 0}, {'description': 'Creates and alerts key players of upcoming due dates and reminders about progress on tasks. This feature was mentioned in 11 Newforma Project Center reviews.', 'name': 'Notifications and Reminders', 'percent': 88, 'review': 11}, {'description': 'Facilitates communication between key players throughout the generation and updating of punch lists.', 'name': 'Messaging and Communication', 'percent': 0, 'review': 0}, {'description': 'As reported in 10 Newforma Project Center reviews. Provides a digital application of the software that can be used without internet or network connection.', 'name': 'Mobile Support', 'percent': 80, 'review': 10}, {'description': 'Provides an audit log of changes and enables users to revert to a specific version', 'name': 'Change Tracking', 'percent': 0, 'review': 0}, {'description': 'Allows users to work simultaneously on files.', 'name': 'Simultaneous Access', 'percent': 0, 'review': 0}, {'description': 'Allows users to share individual files/folders to persons outside or inside the organization in a secure manner', 'name': 'File Sharing', 'percent': 0, 'review': 0}, {'description': 'Allows addition of comments digitally to the document and facilitates maintenance of a comment audit trail in the system', 'name': 'Commenting on Documents', 'percent': 0, 'review': 0}]}, {'Category': 'Field Management', 'features': [{'description': 'Ensures structure and clarity of a project via simplified file, photo, and documentation sharing and annotation functionality.', 'name': 'Field Collaboration', 'percent': 0, 'review': 0}, {'description': 'Automates the scheduling and assignment of jobs, people/crew, and equipment.', 'name': 'Field Coordination', 'percent': 0, 'review': 0}, {'description': 'Facilitates the reviewing of incidents to ensure with policy compliance and prepare for site audits.', 'name': 'Safety Compliance', 'percent': 0, 'review': 0}, {'description': 'Enables conversations on mobile devices while out on the field.', 'name': 'Field Communication', 'percent': 0, 'review': 0}]}, {'Category': 'Asset Management', 'features': [{'description': 'Tracks and logs utilization of equipment, materials, assets, and all relevant resources; can generate daily reports.', 'name': 'Resource Management', 'percent': 0, 'review': 0}, {'description': 'Facilitates the taking, annotating, and uploading of photos from the field for real-time updates, to supllement the documentation of the progress of a project.', 'name': 'Visual Project Tracking', 'percent': 0, 'review': 0}, {'description': 'Generates daily reports of project progress, worker productivity, job costs, and material usage.', 'name': 'Reporting', 'percent': 0, 'review': 0}]}, {'Category': 'Task Management', 'features': [{'description': 'Supports the integration of the project management solution with a third-party accounting management solution to streamline the construction project lifecycle.', 'name': 'Construction Accounting Tool Integrations', 'percent': 0, 'review': 0}, {'description': 'Supports the integration of the project management solution with a third-party workforce management solution to streamline the construction project lifecycle.', 'name': 'Construction Workforce Management Tool Integration', 'percent': 0, 'review': 0}, {'description': 'In addition to assigning tasks, enables the setting of milestones and deadlines to those tasks to track on a set basis.', 'name': 'Project Tracking', 'percent': 0, 'review': 0}, {'description': 'Records, centralizes, and provides access and sharing settings to project information into a centralized depository. This feature was mentioned in 14 Newforma Project Center reviews.', 'name': 'Information Management', 'percent': 89, 'review': 14}, {'description': 'As reported in 15 Newforma Project Center reviews. Enables and/or facilitates communication on the jobsite and between the field and office admin.', 'name': 'Communication and Collaboration', 'percent': 83, 'review': 15}]}, {'Category': 'Site Management', 'features': [{'description': 'Manages and dispatches work orders, allocates assets and resources, manages contractors, and schedule jobs', 'name': 'Field Service Management', 'percent': 0, 'review': 0}, {'description': 'Enables and simplifies communication on the site and between the office and field.', 'name': 'Field Collaboration', 'percent': 0, 'review': 0}, {'description': 'As reported in 11 Newforma Project Center reviews. Provides a mobile-ready application of the tool that does not require internet connection.', 'name': 'Mobile App', 'percent': 58, 'review': 11}, {'description': 'As reported in 11 Newforma Project Center reviews. Captures data from the site and generates reports on project progress.', 'name': 'Field Reporting', 'percent': 64, 'review': 11}, {'description': 'Tracks timesheets and attendance of site crew memberes', 'name': 'Timesheets', 'percent': 0, 'review': 0}, {'description': 'Enables the capturing and/or uploading of photographs or videos to document project progress 11 reviewers of Newforma Project Center have provided feedback on this feature.', 'name': 'Photo and Video Uploads', 'percent': 62, 'review': 11}, {'description': 'Assigns tasks, enables the scheduling of crew and resources, and manages and/or monitors progress on projects and jobsites.', 'name': 'Workforce Scheduling', 'percent': 0, 'review': 0}, {'description': 'Enables the upload of site photos to existing plans to better track the progress of a construction project', 'name': 'Site Progress Monitoring', 'percent': 0, 'review': 0}, {'description': 'Enables users to access the software on the site, on a mobile device', 'name': 'Mobile Access', 'percent': 0, 'review': 0}]}, {'Category': 'Document Management', 'features': [{'description': 'Provides a unified, easy-to-access database to store, upload, and import construction plans.', 'name': 'Centralized Platform', 'percent': 0, 'review': 0}, {'description': 'Supports edits and markups to plans, stores original plans, and generates time stamps for audit purposes.', 'name': 'Versioning', 'percent': 0, 'review': 0}, {'description': 'Stores, shares, and backs up construction plans and documents', 'name': 'Document Management', 'percent': 0, 'review': 0}, {'description': 'Leverages OCR technology to efficiently extract data from construction documents', 'name': 'Optical Character Recognition (OCR) Technology', 'percent': 0, 'review': 0}, {'description': 'Supports interlinking between plans and submittals, RFIs, and other related documents, to streamline collaboration and communication workflows.', 'name': 'Linkage', 'percent': 0, 'review': 0}]}, {'Category': 'Data Management', 'features': [{'description': 'Allows for easy document identification using a unique document number, version reference or other features.', 'name': 'Document Identification', 'percent': 0, 'review': 0}, {'description': 'Includes workflows and defines the roles of users who need to create, review and approve each type of documents.', 'name': 'Workflows', 'percent': 0, 'review': 0}, {'description': 'Tracks versions and changes in a project, stores, and monitors those online.', 'name': 'Version Control', 'percent': 0, 'review': 0}]}, {'Category': 'Dashboards', 'features': [{'description': 'Generates resource-based reports on planned and actual time spend on documents to highlight inconsistencies.', 'name': 'Resource-based Reports', 'percent': 0, 'review': 0}, {'description': 'Allows data visualization and analysis capabilities', 'name': 'Data Visualization and Analysis', 'percent': 0, 'review': 0}, {'description': 'Generates quality-based reports on the documents to diagnose issues, take remedial action, and/or avoid future complications', 'name': 'Quality-Based Reports', 'percent': 0, 'review': 0}, {'description': 'Generates automated dashboards and reports on the document information and workflow progress', 'name': 'Automated Dashboards', 'percent': 0, 'review': 0}]}, {'Category': 'Security', 'features': [{'description': 'Controls information access by only allowing authorized users to search, view and retrieve engineering documents', 'name': 'Authorization', 'percent': 0, 'review': 0}]}]",
         "4.0",
         "Construction Software"
        ],
        [
         "1",
         "Nitro Pro",
         "[{'Category': 'Platform', 'features': [{'description': 'Based on 27 Nitro Pro reviews and verified by the G2 Product R&D team. Custom branding can be applied through signature process', 'name': 'Custom Branding', 'percent': 85, 'review': 27}, {'description': 'Based on 29 Nitro Pro reviews and verified by the G2 Product R&D team. Grant access to select data, features, objects, etc. based on the users, user role, groups, etc.', 'name': 'User, Role, and Access Management', 'percent': 84, 'review': 29}, {'description': 'This feature was mentioned in 23 Nitro Pro reviews.', 'name': 'Internationalization', 'percent': 86, 'review': 23}, {'description': 'Based on 33 Nitro Pro reviews and verified by the G2 Product R&D team.', 'name': 'Performance and Reliability', 'percent': 85, 'review': 33}, {'description': 'Based on 24 Nitro Pro reviews and verified by the G2 Product R&D team.', 'name': 'Integration APIs', 'percent': 78, 'review': 24}, {'name': 'To which systems have you integrated this product', 'percent': 0, 'review': 0}]}, {'Category': 'Signature Process', 'features': [{'description': 'Based on 58 Nitro Pro reviews and verified by the G2 Product R&D team. Allows signor to easily and intuitively sign documents', 'name': 'Document SigningView full feature definition', 'percent': 90, 'review': 58}, {'description': 'Based on 50 Nitro Pro reviews and verified by the G2 Product R&D team. Reminds signors of documents that are waiting to be signed and document expiration dates', 'name': 'Reminders and Expirations', 'percent': 86, 'review': 50}, {'description': 'Based on 52 Nitro Pro reviews and verified by the G2 Product R&D team. Process of authenticating is secure and seemless', 'name': 'Sign-In Process', 'percent': 90, 'review': 52}, {'description': 'Based on 44 Nitro Pro reviews and verified by the G2 Product R&D team. User can easy send and sign documents on mobile devices', 'name': 'Mobile Signatures', 'percent': 86, 'review': 44}, {'description': 'Based on 51 Nitro Pro reviews and verified by the G2 Product R&D team. Sendor/Adminstrators can easily set up and track documents through multiple signature steps', 'name': 'Signature Workflow', 'percent': 89, 'review': 51}, {'description': \"Send documents requiring signature to 1000's of signers at once This feature was mentioned in 29 Nitro Pro reviews.\", 'name': 'Bulk Digital Signatures', 'percent': 89, 'review': 29}, {'description': 'Provides standard reports and easy creation of custom reports to manage signature process This feature was mentioned in 33 Nitro Pro reviews.', 'name': 'Reporting', 'percent': 89, 'review': 33}, {'description': 'Based on 54 Nitro Pro reviews and verified by the G2 Product R&D team. Easy to create signature blocks on all required electronic document types/formats', 'name': 'Signature Document Creation', 'percent': 89, 'review': 54}]}, {'Category': 'Security and Scalability', 'features': [{'description': 'Based on 47 Nitro Pro reviews and verified by the G2 Product R&D team. Meets required regulartory compliances', 'name': 'Regulatory Compliance', 'percent': 84, 'review': 47}, {'description': 'Based on 48 Nitro Pro reviews and verified by the G2 Product R&D team. Tracks all document signing history to comply with required regulations', 'name': 'Signature History and Audit', 'percent': 88, 'review': 48}, {'description': 'Based on 43 Nitro Pro reviews and verified by the G2 Product R&D team. Provides features to allow scaling for large organizations', 'name': 'Enterprise Scalability', 'percent': 88, 'review': 43}]}, {'Category': 'Organization', 'features': [{'description': 'Based on 53 Nitro Pro reviews. Allow users to password protect PDFs', 'name': 'Protect', 'percent': 87, 'review': 53}, {'description': 'Offer document management and tracking This feature was mentioned in 55 Nitro Pro reviews.', 'name': 'Document Management', 'percent': 86, 'review': 55}, {'description': 'Integrate with document scanning software This feature was mentioned in 56 Nitro Pro reviews.', 'name': 'Document Scanning', 'percent': 89, 'review': 56}, {'description': 'Based on 59 Nitro Pro reviews. Display editing history on a PDF', 'name': 'Editing History', 'percent': 84, 'review': 59}]}, {'Category': 'Editing', 'features': [{'description': 'As reported in 59 Nitro Pro reviews. Adjust the size of a PDF', 'name': 'Size', 'percent': 83, 'review': 59}, {'description': 'Based on 61 Nitro Pro reviews. Provide users the ability to edit fields in existing PDFs', 'name': 'Edit Fields', 'percent': 87, 'review': 61}, {'description': 'As reported in 58 Nitro Pro reviews. Allow users to create new PDFs within the platform', 'name': 'New PDF', 'percent': 92, 'review': 58}, {'description': 'Allow users to create fields for different functions (i.e. checkbox or initialling) This feature was mentioned in 57 Nitro Pro reviews.', 'name': 'Field Functions', 'percent': 88, 'review': 57}, {'description': 'Give users the ability to annotate a PDF 56 reviewers of Nitro Pro have provided feedback on this feature.', 'name': 'Annotate', 'percent': 87, 'review': 56}]}, {'Category': 'Integrate & Embed', 'features': [{'description': 'Integrates with calendars to link relevant documents for meetings or appointments This feature was mentioned in 36 Nitro Pro reviews.', 'name': 'Calendar', 'percent': 77, 'review': 36}, {'description': 'Based on 36 Nitro Pro reviews. Embeds live documents into websites', 'name': 'Website', 'percent': 77, 'review': 36}, {'description': 'Based on 38 Nitro Pro reviews. Integrates with third-party applications, such as business instant messaging software, collaboration tools, and project management software', 'name': 'Applications', 'percent': 81, 'review': 38}]}, {'Category': 'Edit & Revise', 'features': [{'description': 'Tracks changes made to documents and access all revision history This feature was mentioned in 43 Nitro Pro reviews.', 'name': 'Revision History', 'percent': 83, 'review': 43}, {'description': 'Based on 40 Nitro Pro reviews. When reviewing documents, provides suggestions that can be accepted or rejected by the document owner', 'name': 'Suggestion Mode', 'percent': 78, 'review': 40}, {'description': 'As reported in 49 Nitro Pro reviews. Provides editing and proof-reading tools such as spell check and grammar check', 'name': 'Document Editor', 'percent': 91, 'review': 49}]}, {'Category': 'File Types', 'features': [{'description': 'Exports files in multiple file formats including .docx, .pdf, .odt, .rtf, .txt or .html format This feature was mentioned in 49 Nitro Pro reviews.', 'name': 'Export', 'percent': 89, 'review': 49}, {'description': 'Based on 50 Nitro Pro reviews. Imports documents in multiple file formats for editing', 'name': 'Import', 'percent': 90, 'review': 50}, {'description': 'Based on 36 Nitro Pro reviews. Transforms a document into a web page and publish to the internet', 'name': 'Web Publishing', 'percent': 74, 'review': 36}]}, {'Category': 'Collaboration', 'features': [{'description': 'Allows multiple users to collaborate on a single document and see edits in real-time This feature was mentioned in 42 Nitro Pro reviews.', 'name': 'Multi-User Collaboration', 'percent': 81, 'review': 42}, {'description': 'Based on 41 Nitro Pro reviews. Allows users to communicate in real-time via chat and comments within the document', 'name': 'Real-Time Communication', 'percent': 78, 'review': 41}]}, {'Category': 'Design', 'features': [{'description': 'Ability to insert graphics, including photos, charts, drawings, graphs, etc. This feature was mentioned in 47 Nitro Pro reviews.', 'name': 'Graphics', 'percent': 84, 'review': 47}, {'description': 'Based on 44 Nitro Pro reviews. Offers multiple editable templates for documents inluding flyers, resumes, calendars, newsletters, etc.', 'name': 'Templates', 'percent': 79, 'review': 44}, {'description': 'Offer various color themes which can be applied to the document This feature was mentioned in 42 Nitro Pro reviews.', 'name': 'Themes', 'percent': 79, 'review': 42}]}, {'Category': 'Operating System', 'features': [{'description': 'Supports Microsoft Windows operating system 50 reviewers of Nitro Pro have provided feedback on this feature.', 'name': 'PC Operating System', 'percent': 88, 'review': 50}, {'description': 'Supports macOS operating system 31 reviewers of Nitro Pro have provided feedback on this feature.', 'name': 'Mac Operating System', 'percent': 79, 'review': 31}, {'description': 'Supports Linux operating system 29 reviewers of Nitro Pro have provided feedback on this feature.', 'name': 'Linux Operating System', 'percent': 71, 'review': 29}, {'description': 'As reported in 54 Nitro Pro reviews. Supports Microsoft Windows operating system', 'name': 'PC Operating System', 'percent': 87, 'review': 54}, {'description': 'Supports macOS operating system This feature was mentioned in 30 Nitro Pro reviews.', 'name': 'Mac Operating System', 'percent': 74, 'review': 30}, {'description': 'Supports Linux operating system 27 reviewers of Nitro Pro have provided feedback on this feature.', 'name': 'Linux Operating System', 'percent': 69, 'review': 27}]}]",
         "4.3",
         "Document Creation Software"
        ],
        [
         "2",
         "Netmera",
         "[{'Category': 'Integration', 'features': [{'description': 'Ability to input, modify and extract data from the application in bulk through a structured file.', 'name': 'Data Import & Export Tools', 'percent': 0, 'review': 0}, {'description': \"Application Programming Interface - Specification for how the application communicates with other software.  API's typically enable integration of data, logic, objects, etc with other software applications.\", 'name': 'Integration APIs', 'percent': 0, 'review': 0}, {'description': 'To what extent are there partner applications readily available for integrating into this product?  Partner applications typically provide complementary, best of breed functionality not offered natively in this product.', 'name': 'Breadth of Partner Applications', 'percent': 0, 'review': 0}]}, {'Category': 'Platform', 'features': [{'description': 'System provides sufficient customization to meet business requirements', 'name': 'Customization', 'percent': 0, 'review': 0}, {'description': 'Automates a process that requires a series of steps that typically require intervention by a several different users.  Administrators can write rules to determine who and when a user needs to complete a step.  Also includes notification of users when they need to take action.', 'name': 'Workflow Capability', 'percent': 0, 'review': 0}, {'description': 'Grant access to select data, features, objects, etc. based on the users, user role, groups, etc.', 'name': 'User, Role, and Access Management', 'percent': 0, 'review': 0}, {'description': 'Enables users to view and transact business with the same content in multiple languages and currencies.', 'name': 'Internationalization', 'percent': 0, 'review': 0}, {'description': 'Allows administrators to easily develop and test changes to the CRM deployment.  After changes are made admins can easily migrate the changes into the \"live\" or \"production\" environment.', 'name': 'Sandbox / Test Environments', 'percent': 0, 'review': 0}, {'description': 'Software is consistently available (uptime) and allows users to complete tasks quickly because they are not waiting for the software to respond to an action they took.', 'name': 'Performance and Reliability', 'percent': 0, 'review': 0}, {'description': 'Optimizes marketing campaigns for mobile devices.', 'name': 'Optimization', 'percent': 0, 'review': 0}, {'description': 'Facilitates global text message and mobile marketing campaigns.', 'name': 'Internationalization', 'percent': 0, 'review': 0}]}, {'Category': 'Email Marketing', 'features': [{'description': 'Create and design emails with an editor; manage templates; personalize dynamically', 'name': 'Building and Personalizing Emails', 'percent': 0, 'review': 0}, {'description': 'Create targeted lists, schedule and manage bulk email sending.', 'name': 'Sending Outbound Emails', 'percent': 0, 'review': 0}, {'description': 'Ensure inbox delivery. Includes opt-in management, bounce handling, unsubscribe processing, suppression lists, email preview, spam checking, link validation, and delivery monitoring.', 'name': 'Manage Email Deliverability', 'percent': 0, 'review': 0}, {'description': 'Set up automated nurturing emails based on events, online activities, and lead scores', 'name': 'Automated Email Responses', 'percent': 0, 'review': 0}]}, {'Category': 'Online Marketing', 'features': [{'description': 'Build customized landing pages and lead capture forms for specific marketing campaigns to maximize conversion and to capture the right qualifying information.', 'name': 'Landing Pages and Forms', 'percent': 0, 'review': 0}, {'description': 'Dynamically customize emails, forms, and landing pages for specific segments of customers and prospects.', 'name': 'Dynamic Content', 'percent': 0, 'review': 0}, {'description': 'Test alternate versions of emails, landing pages, and forms. Learn what works, maximize response rates, and increase conversion.', 'name': 'A/B Testing', 'percent': 0, 'review': 0}, {'description': 'Support mobile-optimized emails, online forms, and landing pages.', 'name': 'Mobile Optimized', 'percent': 0, 'review': 0}]}, {'Category': 'Lead Management', 'features': [{'description': 'A marketing lead database is the system of record for your most important marketing asset: your leads and contacts. Includes a view of all marketing interactions between each prospect and your company, including website visits, email clicks, scoring changes, and data updates/history.', 'name': 'Marketing Lead Database', 'percent': 0, 'review': 0}, {'description': 'Data quality consists of deduplication, cleansing, and appending your marketing database.', 'name': 'Data Quality Management', 'percent': 0, 'review': 0}, {'description': 'Segment your database and build list of target leads and contacts.  Filter on demographic and company attributes (title, company size, location) as well as behavioral filters and CRM information.', 'name': 'Segmentation', 'percent': 0, 'review': 0}, {'description': 'Automate drip marketing campaigns that send relevant messages over time, based on prospect behaviors and pre-defined campaign steps.', 'name': 'Lead Nurturing', 'percent': 0, 'review': 0}, {'description': 'Track which emails a prospect opens and clicks, what web-pages they visit, what keywords they use, even what they say on social networks.', 'name': 'Online Behavior Tracking', 'percent': 0, 'review': 0}, {'description': 'Sync lead, contact, account, and opportunity information with your CRM system.', 'name': 'CRM Lead Integration', 'percent': 0, 'review': 0}]}, {'Category': 'Social', 'features': [{'description': 'Schedule automated posts to one or more social accounts; use or integrate with URL shortening services; and measure likes, comments, replies, and retweets.', 'name': 'Social Campaigns', 'percent': 0, 'review': 0}, {'description': 'Social apps including polls, sweepstakes, and referral programs can enhance audience engagement.  Include these on your website, landing pages, Facebook pages, and emails.', 'name': 'Social Media Engagement', 'percent': 0, 'review': 0}, {'description': 'Amplify brand and community stories; Reach customers by social profile and activity; Optimize social ad campaigns in real-time', 'name': 'Social Media Advertising', 'percent': 0, 'review': 0}]}, {'Category': 'Reporting & Analytics', 'features': [{'description': 'Access pre-built and custom reports and dashboards to measure leads by source/campaign/month, email performance, landing page performance, and web and social activity. Create report subscriptions that can automatically send updates to your team and executives.', 'name': 'Basic Reporting', 'percent': 0, 'review': 0}, {'description': 'Track which pages prospects and customers visit and how often they come back.  Capture the history in database for lead scoring and sales intelligence. Use anonymous company look-up to identify anonymous visitors.  Send alerts to sales reps of which of their prospects and customers web activity.', 'name': 'Web Analytics', 'percent': 0, 'review': 0}, {'description': 'Analyze how leads flow through the funnel by measuring stage to stage conversion rates and velocity.  Allocate pipeline and revenue credit among all the marketing activities that have successfully touched an opportunity as it moves through the pipeline.', 'name': 'Revenue Analytics', 'percent': 0, 'review': 0}]}, {'Category': 'Analysis', 'features': [{'description': 'Attributes app installs to the marketing campaigns and media sources that drove it.', 'name': 'Application Attribution', 'percent': 0, 'review': 0}, {'description': 'Measures impact and effectiveness of mobile marketing campaigns.', 'name': 'Campaign Analysis', 'percent': 0, 'review': 0}, {'description': 'Based on 10 Netmera reviews. Measures user-level uninstall insights.', 'name': 'Uninstall Tracking', 'percent': 70, 'review': 10}]}, {'Category': 'Campaigns', 'features': [{'description': 'Collects geo-location data on mobile users to customize relevant campaigns.', 'name': 'Proximity Marketing', 'percent': 0, 'review': 0}, {'description': 'As reported in 11 Netmera reviews. Pushes notifications or text messages to mobile devices', 'name': 'Push Notifications', 'percent': 89, 'review': 11}, {'description': 'Provides templates for mass mobile messaging campaigns', 'name': 'Bulk SMS', 'percent': 0, 'review': 0}, {'description': 'Personalizes and optimizes email mobile marketing campaigns.', 'name': 'Email Campaigns', 'percent': 0, 'review': 0}, {'description': 'As reported in 11 Netmera reviews. Identifies the most granular audience segments based on actions, inactions, and user properties.', 'name': 'Audience Segmentation', 'percent': 76, 'review': 11}, {'description': 'As reported in 11 Netmera reviews. Allow users to customize their messages.', 'name': 'Customize', 'percent': 73, 'review': 11}, {'description': 'Schedule push notifications to be delivered at a specific date and time, or set an expiration for time-bound messages This feature was mentioned in 12 Netmera reviews.', 'name': 'Scheduling', 'percent': 93, 'review': 12}, {'description': 'Retarget your messages based on previous user engagement. 11 reviewers of Netmera have provided feedback on this feature.', 'name': 'Retarget', 'percent': 74, 'review': 11}, {'description': 'As reported in 12 Netmera reviews. Segment audience based on device type, location, demographics, customer behavior, etc.', 'name': 'Segmentation', 'percent': 79, 'review': 12}, {'description': 'Automate notifications based on user behavior This feature was mentioned in 13 Netmera reviews.', 'name': 'Triggered Notifications', 'percent': 90, 'review': 13}]}, {'Category': 'Engagement', 'features': [{'description': 'Sends out coupons and promotions to reward and entice mobile device users.', 'name': 'Coupons and Promotions', 'percent': 0, 'review': 0}]}, {'Category': 'Administration', 'features': [{'description': 'Integrates with software or mobile apps via SDK or API', 'name': 'Integration', 'percent': 0, 'review': 0}, {'description': 'Allows users to designate geofences for location-based marketing campaigns', 'name': 'Geofencing', 'percent': 0, 'review': 0}, {'description': 'Targets customers based on their Wi-Fi connection', 'name': 'Wi-Fi Marketing', 'percent': 0, 'review': 0}, {'description': 'Integrates with Bluetooth Low Energy (BLE) beacons to execute location-based marketing campaigns', 'name': 'Beacons', 'percent': 0, 'review': 0}, {'description': 'Targets customers based on IP data', 'name': 'IP Geolocation', 'percent': 0, 'review': 0}]}, {'Category': 'Marketing', 'features': [{'description': 'Identifies users when they enter or exit a predefined geolocation', 'name': 'Geolocation', 'percent': 0, 'review': 0}, {'description': 'Generates an automated notification, text message, or in-app message to users in a predefined geolocation', 'name': 'Campaign Automation', 'percent': 0, 'review': 0}, {'description': 'Analyzes the performance of location-based marketing campaigns based on foot traffic, POS data, etc.', 'name': 'Analytics', 'percent': 0, 'review': 0}, {'description': 'Meets compliance standards (e.g. GDPR, CCPA) regarding personal data privacy', 'name': 'Security Compliance', 'percent': 0, 'review': 0}]}, {'Category': 'Analytics', 'features': [{'description': 'As reported in 12 Netmera reviews. Track and report on performance metrics and conversions', 'name': 'Campaign Performance', 'percent': 82, 'review': 12}, {'description': 'As reported in 11 Netmera reviews. Report on audience demographics and engagement', 'name': 'Audience Insights', 'percent': 82, 'review': 11}]}, {'Category': 'Optimization', 'features': [{'description': 'Test variations of a push notification on a portion of users and track conversions 12 reviewers of Netmera have provided feedback on this feature.', 'name': 'A/B Testing', 'percent': 74, 'review': 12}, {'description': 'Personalize messages with contextual data such as customer names or product recommendations 12 reviewers of Netmera have provided feedback on this feature.', 'name': 'Personalization', 'percent': 82, 'review': 12}, {'description': 'Enhance messages with images, emojis, animated gifs, or videos 12 reviewers of Netmera have provided feedback on this feature.', 'name': 'Rich Notifications', 'percent': 74, 'review': 12}, {'description': 'Integrate with third-party marketing or e-commerce software 13 reviewers of Netmera have provided feedback on this feature.', 'name': 'Integrations', 'percent': 77, 'review': 13}]}, {'Category': 'Platform Basics', 'features': [{'description': 'Provide templates for customer journey mapping to jumpstart the process.', 'name': 'Templates', 'percent': 0, 'review': 0}, {'description': 'Ability to export customer journey maps in a variety of formats to present and analyze.', 'name': 'Exporting', 'percent': 0, 'review': 0}, {'description': 'Allow team members to invite others to collaborate on journey maps and make direct changes.', 'name': 'Multi-user Access and Collaboration', 'percent': 0, 'review': 0}, {'description': 'Provide the ability to compare the experiences of multiple personas in one journey map.', 'name': 'Multiple Personas', 'percent': 0, 'review': 0}, {'description': 'Ability to integrate with cross-channel, real-time data analytics to power customer journey map creation.', 'name': 'Data Analytics', 'percent': 0, 'review': 0}]}]",
         "4.2",
         "Mobile Marketing Software"
        ],
        [
         "3",
         "Netlify",
         "[{'Category': 'Content', 'features': [{'description': 'Caching of static content at distributed PoPs for faster load times. This feature was mentioned in 26 Netlify reviews.', 'name': 'Static Content Caching', 'percent': 87, 'review': 26}, {'description': 'As reported in 23 Netlify reviews. Routing of dynamic content for faster load time of dynamic pages.', 'name': 'Dynamic Content Routing', 'percent': 84, 'review': 23}, {'description': 'The ability to purge the cache from different edge location PoPs. 22 reviewers of Netlify have provided feedback on this feature.', 'name': 'Cache purging', 'percent': 89, 'review': 22}]}, {'Category': 'Security', 'features': [{'description': 'Shared SSL certificate. This feature was mentioned in 26 Netlify reviews.', 'name': 'SSL', 'percent': 97, 'review': 26}, {'description': 'As reported in 19 Netlify reviews. SSL certificate that you provide to the CDN software, or is provided for you and is not shared.', 'name': 'Custom SSL', 'percent': 85, 'review': 19}]}, {'Category': 'Management', 'features': [{'description': \"As reported in 27 Netlify reviews. An easy to read, often single page, real-time user interface, showing a graphical presentation of the current status and historical trends of an organization's Key Performance Indicators (KPIs) to enable instantaneous and informed decisions to be made at a glance.\", 'name': 'Dashboard', 'percent': 86, 'review': 27}, {'description': 'Access pre-built and custom reports. 22 reviewers of Netlify have provided feedback on this feature.', 'name': 'Reports', 'percent': 77, 'review': 22}, {'description': 'As reported in 23 Netlify reviews. Record of data changes taking place in the software.', 'name': 'Logs', 'percent': 83, 'review': 23}, {'description': \"Designate the necessary tasks and workflows for a team's unique development cycle.\", 'name': 'Processes and Workflow', 'percent': 0, 'review': 0}, {'description': 'Generate visual dashboards and reports around development cycle progress.', 'name': 'Reporting', 'percent': 0, 'review': 0}, {'description': 'Automate repository detection, version control, testing, and more.', 'name': 'Automation', 'percent': 0, 'review': 0}, {'description': 'Based on 12 Netlify reviews. Provide web-dedicated content management capabilities.', 'name': 'Web Content Dedication', 'percent': 88, 'review': 12}, {'description': 'As reported in 13 Netlify reviews. Provides website hosting capabilities.', 'name': 'Website Hosting', 'percent': 88, 'review': 13}, {'description': 'Dictate user access and permissions based on organizational role. 11 reviewers of Netlify have provided feedback on this feature.', 'name': 'Role-Based Permissions', 'percent': 82, 'review': 11}]}, {'Category': 'Integration', 'features': [{'description': \"As reported in 23 Netlify reviews. Application Programming Interface - Specification for how the application communicates with other software. API's typically enable integration of data, logic, objects, etc. with other software applications.\", 'name': 'API', 'percent': 85, 'review': 23}, {'description': 'Standard integrations for common CMS tools. This feature was mentioned in 22 Netlify reviews.', 'name': 'CMS Integration', 'percent': 78, 'review': 22}]}, {'Category': 'Development', 'features': [{'description': 'Provides tools for building, deploying, or integrating source code into hosted application.', 'name': 'Application Deployment', 'percent': 0, 'review': 0}, {'description': 'Provides tools for writing code, editing code, syntax, debugging, or utilizing frameworks.', 'name': 'Development Tools', 'percent': 0, 'review': 0}, {'description': 'Provides tools for sharing code, tracking progress, and shipping software.', 'name': 'Development Environment', 'percent': 0, 'review': 0}, {'description': 'Supports programming languages such as Java, C, or Python. Support for front-end languages such as HTML, CSS, and JavaScript.', 'name': 'Language Support', 'percent': 0, 'review': 0}, {'description': 'Tests the functionality of a software application. Detects and diagnoses issues in application.', 'name': 'Testing', 'percent': 0, 'review': 0}]}, {'Category': 'Database', 'features': [{'description': 'Lets developers manage database services. Provides support for different types of databases and integration methods.', 'name': 'Database Management', 'percent': 0, 'review': 0}, {'description': 'Lets users analyze deployment, user, storage, and business metrics.', 'name': 'Analytics', 'percent': 0, 'review': 0}, {'description': 'Provides tools or bots that scale services and data automatically or on demand.', 'name': 'Auto Scaling', 'percent': 0, 'review': 0}, {'description': 'Stores versions of application and data or incrementally backs up data.', 'name': 'Backup / Recovery', 'percent': 0, 'review': 0}, {'description': 'Provides scalable cloud storage for different forms of data. Store analytics and records for reporting.', 'name': 'Storage', 'percent': 0, 'review': 0}]}, {'Category': 'Infrastructure', 'features': [{'description': 'Allows users to provision networks, deliver content, balance loads, and manage traffic.', 'name': 'Networking', 'percent': 0, 'review': 0}, {'description': 'Provides virtual networks and operating systems.', 'name': 'Virtual Machines', 'percent': 0, 'review': 0}, {'description': 'Secures applications, encrypt data, and manage identities.', 'name': 'Security', 'percent': 0, 'review': 0}]}, {'Category': 'Functionality', 'features': [{'description': 'Based on 11 Netlify reviews. Maintain, or facilitate maintenance of, tested and approved code in a deployment-ready state for manual pushes to production.', 'name': 'Deployment-Ready Staging', 'percent': 97, 'review': 11}, {'description': 'As reported in 10 Netlify reviews. Integrate with other development and testing software, such as continuous integration or test automation tools.', 'name': 'Integration', 'percent': 95, 'review': 10}, {'description': 'Plug-in capable for added resources, features, and functions within the product itself.', 'name': 'Extensible', 'percent': 0, 'review': 0}, {'description': 'Provide developer-focused tools for website creation and maintenance. This feature was mentioned in 13 Netlify reviews.', 'name': 'Developer Tools', 'percent': 86, 'review': 13}, {'description': 'Based on 13 Netlify reviews. Automate repetitive web development processes.', 'name': 'Automation', 'percent': 81, 'review': 13}, {'description': 'As reported in 12 Netlify reviews. Offer staging and other pre-production environments for web development.', 'name': 'Website Staging', 'percent': 89, 'review': 12}]}, {'Category': 'Support', 'features': [{'description': 'Support traditional and headless CMS. 12 reviewers of Netlify have provided feedback on this feature.', 'name': 'CMS Variety', 'percent': 78, 'review': 12}, {'description': 'Based on 11 Netlify reviews. Support several CMS through a single platform.', 'name': 'Multi-CMS Support', 'percent': 73, 'review': 11}, {'description': 'Offer or foster security compliance capabilities, e.g., SOC 2.', 'name': 'Compliance', 'percent': 0, 'review': 0}]}]",
         "4.5",
         "WebOps Platforms"
        ],
        [
         "4",
         "OpenBuildings Designer",
         "[{'Category': 'Design', 'features': [{'description': 'Design your project in 3D 11 reviewers of OpenBuildings Designer have provided feedback on this feature.', 'name': 'Visualizing', 'percent': 83, 'review': 11}, {'description': 'Produce 3D visualizations without any integrating hardware.  10 reviewers of OpenBuildings Designer have provided feedback on this feature.', 'name': 'Rendering', 'percent': 82, 'review': 10}, {'description': 'Ability to create 2D and 3D drawings of your structure. 13 reviewers of OpenBuildings Designer have provided feedback on this feature.', 'name': 'Drawing', 'percent': 81, 'review': 13}, {'description': 'Based on 13 OpenBuildings Designer reviews. Ability to edit designs with a WYSIWYG editor', 'name': 'Editing', 'percent': 86, 'review': 13}, {'description': 'As reported in 10 OpenBuildings Designer reviews. Create and animate the sequences of steps, materials and building crews needed to construct your building.', 'name': 'Sequence Steps', 'percent': 73, 'review': 10}, {'description': 'As reported in 12 OpenBuildings Designer reviews. Allows users to create relationships between objects so design changes are dynamically updated', 'name': 'Dynamic Updating', 'percent': 78, 'review': 12}]}, {'Category': 'Collaboration', 'features': [{'description': 'Allows users to save and share work in one project This feature was mentioned in 12 OpenBuildings Designer reviews.', 'name': 'Multi User', 'percent': 89, 'review': 12}, {'description': 'Based on 13 OpenBuildings Designer reviews. Ability to import and export 2D and 3D files to the platform so your team can update designs and collaborate as needed.', 'name': 'File Import/Export', 'percent': 90, 'review': 13}, {'description': 'Add keynotes, tags, dimensions and more to your document. This feature was mentioned in 13 OpenBuildings Designer reviews.', 'name': 'Annotating', 'percent': 78, 'review': 13}, {'description': 'Store various types of documents within this platform. 13 reviewers of OpenBuildings Designer have provided feedback on this feature.', 'name': 'Document Storage', 'percent': 88, 'review': 13}]}, {'Category': 'Construction', 'features': [{'description': 'Ability to create models of various systems that need to be integrated into the structure.', 'name': 'Fabrication', 'percent': 0, 'review': 0}, {'description': 'Add reinforcement to vital points in the model of your structure.', 'name': 'Reinforcement Tools', 'percent': 0, 'review': 0}, {'description': 'As reported in 12 OpenBuildings Designer reviews. Ability to detect clashing elements, such as electrical conduit or ductwork that run into a beam.', 'name': 'Clash Detection', 'percent': 74, 'review': 12}, {'description': 'Allows users to utilize grading tools to design finished ground surfaces', 'name': 'Grading', 'percent': 0, 'review': 0}, {'description': 'Allows users to calculate cut and fill earthwork quantities between two surfaces.', 'name': 'Earthwork', 'percent': 0, 'review': 0}]}]",
         "4.3",
         "CAD Software"
        ]
       ],
       "shape": {
        "columns": 4,
        "rows": 5
       }
      },
      "text/html": [
       "<div>\n",
       "<style scoped>\n",
       "    .dataframe tbody tr th:only-of-type {\n",
       "        vertical-align: middle;\n",
       "    }\n",
       "\n",
       "    .dataframe tbody tr th {\n",
       "        vertical-align: top;\n",
       "    }\n",
       "\n",
       "    .dataframe thead th {\n",
       "        text-align: right;\n",
       "    }\n",
       "</style>\n",
       "<table border=\"1\" class=\"dataframe\">\n",
       "  <thead>\n",
       "    <tr style=\"text-align: right;\">\n",
       "      <th></th>\n",
       "      <th>product_name</th>\n",
       "      <th>Features</th>\n",
       "      <th>rating</th>\n",
       "      <th>main_category</th>\n",
       "    </tr>\n",
       "  </thead>\n",
       "  <tbody>\n",
       "    <tr>\n",
       "      <th>0</th>\n",
       "      <td>Newforma Project Center</td>\n",
       "      <td>[{'Category': 'Library', 'features': [{'descri...</td>\n",
       "      <td>4.0</td>\n",
       "      <td>Construction Software</td>\n",
       "    </tr>\n",
       "    <tr>\n",
       "      <th>1</th>\n",
       "      <td>Nitro Pro</td>\n",
       "      <td>[{'Category': 'Platform', 'features': [{'descr...</td>\n",
       "      <td>4.3</td>\n",
       "      <td>Document Creation Software</td>\n",
       "    </tr>\n",
       "    <tr>\n",
       "      <th>2</th>\n",
       "      <td>Netmera</td>\n",
       "      <td>[{'Category': 'Integration', 'features': [{'de...</td>\n",
       "      <td>4.2</td>\n",
       "      <td>Mobile Marketing Software</td>\n",
       "    </tr>\n",
       "    <tr>\n",
       "      <th>3</th>\n",
       "      <td>Netlify</td>\n",
       "      <td>[{'Category': 'Content', 'features': [{'descri...</td>\n",
       "      <td>4.5</td>\n",
       "      <td>WebOps Platforms</td>\n",
       "    </tr>\n",
       "    <tr>\n",
       "      <th>4</th>\n",
       "      <td>OpenBuildings Designer</td>\n",
       "      <td>[{'Category': 'Design', 'features': [{'descrip...</td>\n",
       "      <td>4.3</td>\n",
       "      <td>CAD Software</td>\n",
       "    </tr>\n",
       "  </tbody>\n",
       "</table>\n",
       "</div>"
      ],
      "text/plain": [
       "              product_name                                           Features  \\\n",
       "0  Newforma Project Center  [{'Category': 'Library', 'features': [{'descri...   \n",
       "1                Nitro Pro  [{'Category': 'Platform', 'features': [{'descr...   \n",
       "2                  Netmera  [{'Category': 'Integration', 'features': [{'de...   \n",
       "3                  Netlify  [{'Category': 'Content', 'features': [{'descri...   \n",
       "4   OpenBuildings Designer  [{'Category': 'Design', 'features': [{'descrip...   \n",
       "\n",
       "   rating               main_category  \n",
       "0     4.0       Construction Software  \n",
       "1     4.3  Document Creation Software  \n",
       "2     4.2   Mobile Marketing Software  \n",
       "3     4.5            WebOps Platforms  \n",
       "4     4.3                CAD Software  "
      ]
     },
     "execution_count": 130,
     "metadata": {},
     "output_type": "execute_result"
    }
   ],
   "source": [
    "def relevant_attributes(df):\n",
    "    # Select columns: 'product_name', 'Features', 'rating', and 'main_category'\n",
    "    df = df.loc[:, [ 'product_name', 'Features', 'rating', 'main_category']]\n",
    "    return df\n",
    "\n",
    "vendors_data = relevant_attributes(df.copy())\n",
    "vendors_data.head()"
   ]
  },
  {
   "cell_type": "code",
   "execution_count": 132,
   "metadata": {},
   "outputs": [
    {
     "data": {
      "application/vnd.microsoft.datawrangler.viewer.v0+json": {
       "columns": [
        {
         "name": "index",
         "rawType": "int64",
         "type": "integer"
        },
        {
         "name": "product_name",
         "rawType": "object",
         "type": "string"
        },
        {
         "name": "Features",
         "rawType": "object",
         "type": "unknown"
        },
        {
         "name": "rating",
         "rawType": "float64",
         "type": "float"
        },
        {
         "name": "main_category",
         "rawType": "object",
         "type": "string"
        }
       ],
       "conversionMethod": "pd.DataFrame",
       "ref": "e22bf772-3a1f-4417-8676-da72af0bc277",
       "rows": [
        [
         "0",
         "Newforma Project Center",
         "[{'Category': 'Library', 'features': [{'description': 'Provides users with a library of objects to place within your architecural design.', 'name': 'Objects', 'percent': 0, 'review': 0}, {'description': 'Provides users with a library of premade materials to place within your archietcural design.', 'name': 'Materials', 'percent': 0, 'review': 0}]}, {'Category': 'Rendering', 'features': [{'description': 'Allows users to render image and procedural textures.', 'name': 'Textures', 'percent': 0, 'review': 0}, {'description': 'Allows users to create different shade renderings on materials.', 'name': 'Shading', 'percent': 0, 'review': 0}, {'description': 'Allows users to render environmental lights, sky models, and artificial light areas.', 'name': 'Lighting', 'percent': 0, 'review': 0}, {'description': 'Allows users to render exterior objects around the architecture such as foliage, streets, and people.', 'name': 'Exterior Rendering', 'percent': 0, 'review': 0}, {'description': 'Allows users to render aerial views.', 'name': 'Aerial Rendering', 'percent': 0, 'review': 0}, {'description': 'Allows users to render atmospheric effects such as rain and snow.', 'name': 'Atmospheric rendering', 'percent': 0, 'review': 0}]}, {'Category': 'Integrations', 'features': [{'description': 'Allows users to integrate with building design and building information modeling (BIM) software.', 'name': 'BIM Integration', 'percent': 0, 'review': 0}, {'description': 'Allows users to integrate with other 3D rendering software.', 'name': '3D Rendering Integration', 'percent': 0, 'review': 0}]}, {'Category': 'Documentation', 'features': [{'description': 'Supports the upload of photos and documents to punch lists for accuracy and real-time updates. This feature was mentioned in 10 Newforma Project Center reviews.', 'name': 'Attachment Uploads', 'percent': 80, 'review': 10}, {'description': 'Facilitates the creation, customization, and/or generation of punch list templates.', 'name': 'Templates', 'percent': 0, 'review': 0}, {'description': 'Itemizes mistakes, deficiencies, oversights, etc., on a nearly completed construction project.', 'name': 'List Generation', 'percent': 0, 'review': 0}, {'description': 'Generates reports on the number of punch lists assigned to sub/contractors, the type of work that is noted in punch lists, and other actionable business insights.', 'name': 'Reporting and Analytics', 'percent': 0, 'review': 0}]}, {'Category': 'Collaboration', 'features': [{'description': 'Records and tracks changes and edits to punch lists.', 'name': 'Action History', 'percent': 0, 'review': 0}, {'description': 'Creates and alerts key players of upcoming due dates and reminders about progress on tasks. This feature was mentioned in 11 Newforma Project Center reviews.', 'name': 'Notifications and Reminders', 'percent': 88, 'review': 11}, {'description': 'Facilitates communication between key players throughout the generation and updating of punch lists.', 'name': 'Messaging and Communication', 'percent': 0, 'review': 0}, {'description': 'As reported in 10 Newforma Project Center reviews. Provides a digital application of the software that can be used without internet or network connection.', 'name': 'Mobile Support', 'percent': 80, 'review': 10}, {'description': 'Provides an audit log of changes and enables users to revert to a specific version', 'name': 'Change Tracking', 'percent': 0, 'review': 0}, {'description': 'Allows users to work simultaneously on files.', 'name': 'Simultaneous Access', 'percent': 0, 'review': 0}, {'description': 'Allows users to share individual files/folders to persons outside or inside the organization in a secure manner', 'name': 'File Sharing', 'percent': 0, 'review': 0}, {'description': 'Allows addition of comments digitally to the document and facilitates maintenance of a comment audit trail in the system', 'name': 'Commenting on Documents', 'percent': 0, 'review': 0}]}, {'Category': 'Field Management', 'features': [{'description': 'Ensures structure and clarity of a project via simplified file, photo, and documentation sharing and annotation functionality.', 'name': 'Field Collaboration', 'percent': 0, 'review': 0}, {'description': 'Automates the scheduling and assignment of jobs, people/crew, and equipment.', 'name': 'Field Coordination', 'percent': 0, 'review': 0}, {'description': 'Facilitates the reviewing of incidents to ensure with policy compliance and prepare for site audits.', 'name': 'Safety Compliance', 'percent': 0, 'review': 0}, {'description': 'Enables conversations on mobile devices while out on the field.', 'name': 'Field Communication', 'percent': 0, 'review': 0}]}, {'Category': 'Asset Management', 'features': [{'description': 'Tracks and logs utilization of equipment, materials, assets, and all relevant resources; can generate daily reports.', 'name': 'Resource Management', 'percent': 0, 'review': 0}, {'description': 'Facilitates the taking, annotating, and uploading of photos from the field for real-time updates, to supllement the documentation of the progress of a project.', 'name': 'Visual Project Tracking', 'percent': 0, 'review': 0}, {'description': 'Generates daily reports of project progress, worker productivity, job costs, and material usage.', 'name': 'Reporting', 'percent': 0, 'review': 0}]}, {'Category': 'Task Management', 'features': [{'description': 'Supports the integration of the project management solution with a third-party accounting management solution to streamline the construction project lifecycle.', 'name': 'Construction Accounting Tool Integrations', 'percent': 0, 'review': 0}, {'description': 'Supports the integration of the project management solution with a third-party workforce management solution to streamline the construction project lifecycle.', 'name': 'Construction Workforce Management Tool Integration', 'percent': 0, 'review': 0}, {'description': 'In addition to assigning tasks, enables the setting of milestones and deadlines to those tasks to track on a set basis.', 'name': 'Project Tracking', 'percent': 0, 'review': 0}, {'description': 'Records, centralizes, and provides access and sharing settings to project information into a centralized depository. This feature was mentioned in 14 Newforma Project Center reviews.', 'name': 'Information Management', 'percent': 89, 'review': 14}, {'description': 'As reported in 15 Newforma Project Center reviews. Enables and/or facilitates communication on the jobsite and between the field and office admin.', 'name': 'Communication and Collaboration', 'percent': 83, 'review': 15}]}, {'Category': 'Site Management', 'features': [{'description': 'Manages and dispatches work orders, allocates assets and resources, manages contractors, and schedule jobs', 'name': 'Field Service Management', 'percent': 0, 'review': 0}, {'description': 'Enables and simplifies communication on the site and between the office and field.', 'name': 'Field Collaboration', 'percent': 0, 'review': 0}, {'description': 'As reported in 11 Newforma Project Center reviews. Provides a mobile-ready application of the tool that does not require internet connection.', 'name': 'Mobile App', 'percent': 58, 'review': 11}, {'description': 'As reported in 11 Newforma Project Center reviews. Captures data from the site and generates reports on project progress.', 'name': 'Field Reporting', 'percent': 64, 'review': 11}, {'description': 'Tracks timesheets and attendance of site crew memberes', 'name': 'Timesheets', 'percent': 0, 'review': 0}, {'description': 'Enables the capturing and/or uploading of photographs or videos to document project progress 11 reviewers of Newforma Project Center have provided feedback on this feature.', 'name': 'Photo and Video Uploads', 'percent': 62, 'review': 11}, {'description': 'Assigns tasks, enables the scheduling of crew and resources, and manages and/or monitors progress on projects and jobsites.', 'name': 'Workforce Scheduling', 'percent': 0, 'review': 0}, {'description': 'Enables the upload of site photos to existing plans to better track the progress of a construction project', 'name': 'Site Progress Monitoring', 'percent': 0, 'review': 0}, {'description': 'Enables users to access the software on the site, on a mobile device', 'name': 'Mobile Access', 'percent': 0, 'review': 0}]}, {'Category': 'Document Management', 'features': [{'description': 'Provides a unified, easy-to-access database to store, upload, and import construction plans.', 'name': 'Centralized Platform', 'percent': 0, 'review': 0}, {'description': 'Supports edits and markups to plans, stores original plans, and generates time stamps for audit purposes.', 'name': 'Versioning', 'percent': 0, 'review': 0}, {'description': 'Stores, shares, and backs up construction plans and documents', 'name': 'Document Management', 'percent': 0, 'review': 0}, {'description': 'Leverages OCR technology to efficiently extract data from construction documents', 'name': 'Optical Character Recognition (OCR) Technology', 'percent': 0, 'review': 0}, {'description': 'Supports interlinking between plans and submittals, RFIs, and other related documents, to streamline collaboration and communication workflows.', 'name': 'Linkage', 'percent': 0, 'review': 0}]}, {'Category': 'Data Management', 'features': [{'description': 'Allows for easy document identification using a unique document number, version reference or other features.', 'name': 'Document Identification', 'percent': 0, 'review': 0}, {'description': 'Includes workflows and defines the roles of users who need to create, review and approve each type of documents.', 'name': 'Workflows', 'percent': 0, 'review': 0}, {'description': 'Tracks versions and changes in a project, stores, and monitors those online.', 'name': 'Version Control', 'percent': 0, 'review': 0}]}, {'Category': 'Dashboards', 'features': [{'description': 'Generates resource-based reports on planned and actual time spend on documents to highlight inconsistencies.', 'name': 'Resource-based Reports', 'percent': 0, 'review': 0}, {'description': 'Allows data visualization and analysis capabilities', 'name': 'Data Visualization and Analysis', 'percent': 0, 'review': 0}, {'description': 'Generates quality-based reports on the documents to diagnose issues, take remedial action, and/or avoid future complications', 'name': 'Quality-Based Reports', 'percent': 0, 'review': 0}, {'description': 'Generates automated dashboards and reports on the document information and workflow progress', 'name': 'Automated Dashboards', 'percent': 0, 'review': 0}]}, {'Category': 'Security', 'features': [{'description': 'Controls information access by only allowing authorized users to search, view and retrieve engineering documents', 'name': 'Authorization', 'percent': 0, 'review': 0}]}]",
         "4.0",
         "Construction Software"
        ],
        [
         "1",
         "Nitro Pro",
         "[{'Category': 'Platform', 'features': [{'description': 'Based on 27 Nitro Pro reviews and verified by the G2 Product R&D team. Custom branding can be applied through signature process', 'name': 'Custom Branding', 'percent': 85, 'review': 27}, {'description': 'Based on 29 Nitro Pro reviews and verified by the G2 Product R&D team. Grant access to select data, features, objects, etc. based on the users, user role, groups, etc.', 'name': 'User, Role, and Access Management', 'percent': 84, 'review': 29}, {'description': 'This feature was mentioned in 23 Nitro Pro reviews.', 'name': 'Internationalization', 'percent': 86, 'review': 23}, {'description': 'Based on 33 Nitro Pro reviews and verified by the G2 Product R&D team.', 'name': 'Performance and Reliability', 'percent': 85, 'review': 33}, {'description': 'Based on 24 Nitro Pro reviews and verified by the G2 Product R&D team.', 'name': 'Integration APIs', 'percent': 78, 'review': 24}, {'name': 'To which systems have you integrated this product', 'percent': 0, 'review': 0}]}, {'Category': 'Signature Process', 'features': [{'description': 'Based on 58 Nitro Pro reviews and verified by the G2 Product R&D team. Allows signor to easily and intuitively sign documents', 'name': 'Document SigningView full feature definition', 'percent': 90, 'review': 58}, {'description': 'Based on 50 Nitro Pro reviews and verified by the G2 Product R&D team. Reminds signors of documents that are waiting to be signed and document expiration dates', 'name': 'Reminders and Expirations', 'percent': 86, 'review': 50}, {'description': 'Based on 52 Nitro Pro reviews and verified by the G2 Product R&D team. Process of authenticating is secure and seemless', 'name': 'Sign-In Process', 'percent': 90, 'review': 52}, {'description': 'Based on 44 Nitro Pro reviews and verified by the G2 Product R&D team. User can easy send and sign documents on mobile devices', 'name': 'Mobile Signatures', 'percent': 86, 'review': 44}, {'description': 'Based on 51 Nitro Pro reviews and verified by the G2 Product R&D team. Sendor/Adminstrators can easily set up and track documents through multiple signature steps', 'name': 'Signature Workflow', 'percent': 89, 'review': 51}, {'description': \"Send documents requiring signature to 1000's of signers at once This feature was mentioned in 29 Nitro Pro reviews.\", 'name': 'Bulk Digital Signatures', 'percent': 89, 'review': 29}, {'description': 'Provides standard reports and easy creation of custom reports to manage signature process This feature was mentioned in 33 Nitro Pro reviews.', 'name': 'Reporting', 'percent': 89, 'review': 33}, {'description': 'Based on 54 Nitro Pro reviews and verified by the G2 Product R&D team. Easy to create signature blocks on all required electronic document types/formats', 'name': 'Signature Document Creation', 'percent': 89, 'review': 54}]}, {'Category': 'Security and Scalability', 'features': [{'description': 'Based on 47 Nitro Pro reviews and verified by the G2 Product R&D team. Meets required regulartory compliances', 'name': 'Regulatory Compliance', 'percent': 84, 'review': 47}, {'description': 'Based on 48 Nitro Pro reviews and verified by the G2 Product R&D team. Tracks all document signing history to comply with required regulations', 'name': 'Signature History and Audit', 'percent': 88, 'review': 48}, {'description': 'Based on 43 Nitro Pro reviews and verified by the G2 Product R&D team. Provides features to allow scaling for large organizations', 'name': 'Enterprise Scalability', 'percent': 88, 'review': 43}]}, {'Category': 'Organization', 'features': [{'description': 'Based on 53 Nitro Pro reviews. Allow users to password protect PDFs', 'name': 'Protect', 'percent': 87, 'review': 53}, {'description': 'Offer document management and tracking This feature was mentioned in 55 Nitro Pro reviews.', 'name': 'Document Management', 'percent': 86, 'review': 55}, {'description': 'Integrate with document scanning software This feature was mentioned in 56 Nitro Pro reviews.', 'name': 'Document Scanning', 'percent': 89, 'review': 56}, {'description': 'Based on 59 Nitro Pro reviews. Display editing history on a PDF', 'name': 'Editing History', 'percent': 84, 'review': 59}]}, {'Category': 'Editing', 'features': [{'description': 'As reported in 59 Nitro Pro reviews. Adjust the size of a PDF', 'name': 'Size', 'percent': 83, 'review': 59}, {'description': 'Based on 61 Nitro Pro reviews. Provide users the ability to edit fields in existing PDFs', 'name': 'Edit Fields', 'percent': 87, 'review': 61}, {'description': 'As reported in 58 Nitro Pro reviews. Allow users to create new PDFs within the platform', 'name': 'New PDF', 'percent': 92, 'review': 58}, {'description': 'Allow users to create fields for different functions (i.e. checkbox or initialling) This feature was mentioned in 57 Nitro Pro reviews.', 'name': 'Field Functions', 'percent': 88, 'review': 57}, {'description': 'Give users the ability to annotate a PDF 56 reviewers of Nitro Pro have provided feedback on this feature.', 'name': 'Annotate', 'percent': 87, 'review': 56}]}, {'Category': 'Integrate & Embed', 'features': [{'description': 'Integrates with calendars to link relevant documents for meetings or appointments This feature was mentioned in 36 Nitro Pro reviews.', 'name': 'Calendar', 'percent': 77, 'review': 36}, {'description': 'Based on 36 Nitro Pro reviews. Embeds live documents into websites', 'name': 'Website', 'percent': 77, 'review': 36}, {'description': 'Based on 38 Nitro Pro reviews. Integrates with third-party applications, such as business instant messaging software, collaboration tools, and project management software', 'name': 'Applications', 'percent': 81, 'review': 38}]}, {'Category': 'Edit & Revise', 'features': [{'description': 'Tracks changes made to documents and access all revision history This feature was mentioned in 43 Nitro Pro reviews.', 'name': 'Revision History', 'percent': 83, 'review': 43}, {'description': 'Based on 40 Nitro Pro reviews. When reviewing documents, provides suggestions that can be accepted or rejected by the document owner', 'name': 'Suggestion Mode', 'percent': 78, 'review': 40}, {'description': 'As reported in 49 Nitro Pro reviews. Provides editing and proof-reading tools such as spell check and grammar check', 'name': 'Document Editor', 'percent': 91, 'review': 49}]}, {'Category': 'File Types', 'features': [{'description': 'Exports files in multiple file formats including .docx, .pdf, .odt, .rtf, .txt or .html format This feature was mentioned in 49 Nitro Pro reviews.', 'name': 'Export', 'percent': 89, 'review': 49}, {'description': 'Based on 50 Nitro Pro reviews. Imports documents in multiple file formats for editing', 'name': 'Import', 'percent': 90, 'review': 50}, {'description': 'Based on 36 Nitro Pro reviews. Transforms a document into a web page and publish to the internet', 'name': 'Web Publishing', 'percent': 74, 'review': 36}]}, {'Category': 'Collaboration', 'features': [{'description': 'Allows multiple users to collaborate on a single document and see edits in real-time This feature was mentioned in 42 Nitro Pro reviews.', 'name': 'Multi-User Collaboration', 'percent': 81, 'review': 42}, {'description': 'Based on 41 Nitro Pro reviews. Allows users to communicate in real-time via chat and comments within the document', 'name': 'Real-Time Communication', 'percent': 78, 'review': 41}]}, {'Category': 'Design', 'features': [{'description': 'Ability to insert graphics, including photos, charts, drawings, graphs, etc. This feature was mentioned in 47 Nitro Pro reviews.', 'name': 'Graphics', 'percent': 84, 'review': 47}, {'description': 'Based on 44 Nitro Pro reviews. Offers multiple editable templates for documents inluding flyers, resumes, calendars, newsletters, etc.', 'name': 'Templates', 'percent': 79, 'review': 44}, {'description': 'Offer various color themes which can be applied to the document This feature was mentioned in 42 Nitro Pro reviews.', 'name': 'Themes', 'percent': 79, 'review': 42}]}, {'Category': 'Operating System', 'features': [{'description': 'Supports Microsoft Windows operating system 50 reviewers of Nitro Pro have provided feedback on this feature.', 'name': 'PC Operating System', 'percent': 88, 'review': 50}, {'description': 'Supports macOS operating system 31 reviewers of Nitro Pro have provided feedback on this feature.', 'name': 'Mac Operating System', 'percent': 79, 'review': 31}, {'description': 'Supports Linux operating system 29 reviewers of Nitro Pro have provided feedback on this feature.', 'name': 'Linux Operating System', 'percent': 71, 'review': 29}, {'description': 'As reported in 54 Nitro Pro reviews. Supports Microsoft Windows operating system', 'name': 'PC Operating System', 'percent': 87, 'review': 54}, {'description': 'Supports macOS operating system This feature was mentioned in 30 Nitro Pro reviews.', 'name': 'Mac Operating System', 'percent': 74, 'review': 30}, {'description': 'Supports Linux operating system 27 reviewers of Nitro Pro have provided feedback on this feature.', 'name': 'Linux Operating System', 'percent': 69, 'review': 27}]}]",
         "4.3",
         "Document Creation Software"
        ],
        [
         "2",
         "Netmera",
         "[{'Category': 'Integration', 'features': [{'description': 'Ability to input, modify and extract data from the application in bulk through a structured file.', 'name': 'Data Import & Export Tools', 'percent': 0, 'review': 0}, {'description': \"Application Programming Interface - Specification for how the application communicates with other software.  API's typically enable integration of data, logic, objects, etc with other software applications.\", 'name': 'Integration APIs', 'percent': 0, 'review': 0}, {'description': 'To what extent are there partner applications readily available for integrating into this product?  Partner applications typically provide complementary, best of breed functionality not offered natively in this product.', 'name': 'Breadth of Partner Applications', 'percent': 0, 'review': 0}]}, {'Category': 'Platform', 'features': [{'description': 'System provides sufficient customization to meet business requirements', 'name': 'Customization', 'percent': 0, 'review': 0}, {'description': 'Automates a process that requires a series of steps that typically require intervention by a several different users.  Administrators can write rules to determine who and when a user needs to complete a step.  Also includes notification of users when they need to take action.', 'name': 'Workflow Capability', 'percent': 0, 'review': 0}, {'description': 'Grant access to select data, features, objects, etc. based on the users, user role, groups, etc.', 'name': 'User, Role, and Access Management', 'percent': 0, 'review': 0}, {'description': 'Enables users to view and transact business with the same content in multiple languages and currencies.', 'name': 'Internationalization', 'percent': 0, 'review': 0}, {'description': 'Allows administrators to easily develop and test changes to the CRM deployment.  After changes are made admins can easily migrate the changes into the \"live\" or \"production\" environment.', 'name': 'Sandbox / Test Environments', 'percent': 0, 'review': 0}, {'description': 'Software is consistently available (uptime) and allows users to complete tasks quickly because they are not waiting for the software to respond to an action they took.', 'name': 'Performance and Reliability', 'percent': 0, 'review': 0}, {'description': 'Optimizes marketing campaigns for mobile devices.', 'name': 'Optimization', 'percent': 0, 'review': 0}, {'description': 'Facilitates global text message and mobile marketing campaigns.', 'name': 'Internationalization', 'percent': 0, 'review': 0}]}, {'Category': 'Email Marketing', 'features': [{'description': 'Create and design emails with an editor; manage templates; personalize dynamically', 'name': 'Building and Personalizing Emails', 'percent': 0, 'review': 0}, {'description': 'Create targeted lists, schedule and manage bulk email sending.', 'name': 'Sending Outbound Emails', 'percent': 0, 'review': 0}, {'description': 'Ensure inbox delivery. Includes opt-in management, bounce handling, unsubscribe processing, suppression lists, email preview, spam checking, link validation, and delivery monitoring.', 'name': 'Manage Email Deliverability', 'percent': 0, 'review': 0}, {'description': 'Set up automated nurturing emails based on events, online activities, and lead scores', 'name': 'Automated Email Responses', 'percent': 0, 'review': 0}]}, {'Category': 'Online Marketing', 'features': [{'description': 'Build customized landing pages and lead capture forms for specific marketing campaigns to maximize conversion and to capture the right qualifying information.', 'name': 'Landing Pages and Forms', 'percent': 0, 'review': 0}, {'description': 'Dynamically customize emails, forms, and landing pages for specific segments of customers and prospects.', 'name': 'Dynamic Content', 'percent': 0, 'review': 0}, {'description': 'Test alternate versions of emails, landing pages, and forms. Learn what works, maximize response rates, and increase conversion.', 'name': 'A/B Testing', 'percent': 0, 'review': 0}, {'description': 'Support mobile-optimized emails, online forms, and landing pages.', 'name': 'Mobile Optimized', 'percent': 0, 'review': 0}]}, {'Category': 'Lead Management', 'features': [{'description': 'A marketing lead database is the system of record for your most important marketing asset: your leads and contacts. Includes a view of all marketing interactions between each prospect and your company, including website visits, email clicks, scoring changes, and data updates/history.', 'name': 'Marketing Lead Database', 'percent': 0, 'review': 0}, {'description': 'Data quality consists of deduplication, cleansing, and appending your marketing database.', 'name': 'Data Quality Management', 'percent': 0, 'review': 0}, {'description': 'Segment your database and build list of target leads and contacts.  Filter on demographic and company attributes (title, company size, location) as well as behavioral filters and CRM information.', 'name': 'Segmentation', 'percent': 0, 'review': 0}, {'description': 'Automate drip marketing campaigns that send relevant messages over time, based on prospect behaviors and pre-defined campaign steps.', 'name': 'Lead Nurturing', 'percent': 0, 'review': 0}, {'description': 'Track which emails a prospect opens and clicks, what web-pages they visit, what keywords they use, even what they say on social networks.', 'name': 'Online Behavior Tracking', 'percent': 0, 'review': 0}, {'description': 'Sync lead, contact, account, and opportunity information with your CRM system.', 'name': 'CRM Lead Integration', 'percent': 0, 'review': 0}]}, {'Category': 'Social', 'features': [{'description': 'Schedule automated posts to one or more social accounts; use or integrate with URL shortening services; and measure likes, comments, replies, and retweets.', 'name': 'Social Campaigns', 'percent': 0, 'review': 0}, {'description': 'Social apps including polls, sweepstakes, and referral programs can enhance audience engagement.  Include these on your website, landing pages, Facebook pages, and emails.', 'name': 'Social Media Engagement', 'percent': 0, 'review': 0}, {'description': 'Amplify brand and community stories; Reach customers by social profile and activity; Optimize social ad campaigns in real-time', 'name': 'Social Media Advertising', 'percent': 0, 'review': 0}]}, {'Category': 'Reporting & Analytics', 'features': [{'description': 'Access pre-built and custom reports and dashboards to measure leads by source/campaign/month, email performance, landing page performance, and web and social activity. Create report subscriptions that can automatically send updates to your team and executives.', 'name': 'Basic Reporting', 'percent': 0, 'review': 0}, {'description': 'Track which pages prospects and customers visit and how often they come back.  Capture the history in database for lead scoring and sales intelligence. Use anonymous company look-up to identify anonymous visitors.  Send alerts to sales reps of which of their prospects and customers web activity.', 'name': 'Web Analytics', 'percent': 0, 'review': 0}, {'description': 'Analyze how leads flow through the funnel by measuring stage to stage conversion rates and velocity.  Allocate pipeline and revenue credit among all the marketing activities that have successfully touched an opportunity as it moves through the pipeline.', 'name': 'Revenue Analytics', 'percent': 0, 'review': 0}]}, {'Category': 'Analysis', 'features': [{'description': 'Attributes app installs to the marketing campaigns and media sources that drove it.', 'name': 'Application Attribution', 'percent': 0, 'review': 0}, {'description': 'Measures impact and effectiveness of mobile marketing campaigns.', 'name': 'Campaign Analysis', 'percent': 0, 'review': 0}, {'description': 'Based on 10 Netmera reviews. Measures user-level uninstall insights.', 'name': 'Uninstall Tracking', 'percent': 70, 'review': 10}]}, {'Category': 'Campaigns', 'features': [{'description': 'Collects geo-location data on mobile users to customize relevant campaigns.', 'name': 'Proximity Marketing', 'percent': 0, 'review': 0}, {'description': 'As reported in 11 Netmera reviews. Pushes notifications or text messages to mobile devices', 'name': 'Push Notifications', 'percent': 89, 'review': 11}, {'description': 'Provides templates for mass mobile messaging campaigns', 'name': 'Bulk SMS', 'percent': 0, 'review': 0}, {'description': 'Personalizes and optimizes email mobile marketing campaigns.', 'name': 'Email Campaigns', 'percent': 0, 'review': 0}, {'description': 'As reported in 11 Netmera reviews. Identifies the most granular audience segments based on actions, inactions, and user properties.', 'name': 'Audience Segmentation', 'percent': 76, 'review': 11}, {'description': 'As reported in 11 Netmera reviews. Allow users to customize their messages.', 'name': 'Customize', 'percent': 73, 'review': 11}, {'description': 'Schedule push notifications to be delivered at a specific date and time, or set an expiration for time-bound messages This feature was mentioned in 12 Netmera reviews.', 'name': 'Scheduling', 'percent': 93, 'review': 12}, {'description': 'Retarget your messages based on previous user engagement. 11 reviewers of Netmera have provided feedback on this feature.', 'name': 'Retarget', 'percent': 74, 'review': 11}, {'description': 'As reported in 12 Netmera reviews. Segment audience based on device type, location, demographics, customer behavior, etc.', 'name': 'Segmentation', 'percent': 79, 'review': 12}, {'description': 'Automate notifications based on user behavior This feature was mentioned in 13 Netmera reviews.', 'name': 'Triggered Notifications', 'percent': 90, 'review': 13}]}, {'Category': 'Engagement', 'features': [{'description': 'Sends out coupons and promotions to reward and entice mobile device users.', 'name': 'Coupons and Promotions', 'percent': 0, 'review': 0}]}, {'Category': 'Administration', 'features': [{'description': 'Integrates with software or mobile apps via SDK or API', 'name': 'Integration', 'percent': 0, 'review': 0}, {'description': 'Allows users to designate geofences for location-based marketing campaigns', 'name': 'Geofencing', 'percent': 0, 'review': 0}, {'description': 'Targets customers based on their Wi-Fi connection', 'name': 'Wi-Fi Marketing', 'percent': 0, 'review': 0}, {'description': 'Integrates with Bluetooth Low Energy (BLE) beacons to execute location-based marketing campaigns', 'name': 'Beacons', 'percent': 0, 'review': 0}, {'description': 'Targets customers based on IP data', 'name': 'IP Geolocation', 'percent': 0, 'review': 0}]}, {'Category': 'Marketing', 'features': [{'description': 'Identifies users when they enter or exit a predefined geolocation', 'name': 'Geolocation', 'percent': 0, 'review': 0}, {'description': 'Generates an automated notification, text message, or in-app message to users in a predefined geolocation', 'name': 'Campaign Automation', 'percent': 0, 'review': 0}, {'description': 'Analyzes the performance of location-based marketing campaigns based on foot traffic, POS data, etc.', 'name': 'Analytics', 'percent': 0, 'review': 0}, {'description': 'Meets compliance standards (e.g. GDPR, CCPA) regarding personal data privacy', 'name': 'Security Compliance', 'percent': 0, 'review': 0}]}, {'Category': 'Analytics', 'features': [{'description': 'As reported in 12 Netmera reviews. Track and report on performance metrics and conversions', 'name': 'Campaign Performance', 'percent': 82, 'review': 12}, {'description': 'As reported in 11 Netmera reviews. Report on audience demographics and engagement', 'name': 'Audience Insights', 'percent': 82, 'review': 11}]}, {'Category': 'Optimization', 'features': [{'description': 'Test variations of a push notification on a portion of users and track conversions 12 reviewers of Netmera have provided feedback on this feature.', 'name': 'A/B Testing', 'percent': 74, 'review': 12}, {'description': 'Personalize messages with contextual data such as customer names or product recommendations 12 reviewers of Netmera have provided feedback on this feature.', 'name': 'Personalization', 'percent': 82, 'review': 12}, {'description': 'Enhance messages with images, emojis, animated gifs, or videos 12 reviewers of Netmera have provided feedback on this feature.', 'name': 'Rich Notifications', 'percent': 74, 'review': 12}, {'description': 'Integrate with third-party marketing or e-commerce software 13 reviewers of Netmera have provided feedback on this feature.', 'name': 'Integrations', 'percent': 77, 'review': 13}]}, {'Category': 'Platform Basics', 'features': [{'description': 'Provide templates for customer journey mapping to jumpstart the process.', 'name': 'Templates', 'percent': 0, 'review': 0}, {'description': 'Ability to export customer journey maps in a variety of formats to present and analyze.', 'name': 'Exporting', 'percent': 0, 'review': 0}, {'description': 'Allow team members to invite others to collaborate on journey maps and make direct changes.', 'name': 'Multi-user Access and Collaboration', 'percent': 0, 'review': 0}, {'description': 'Provide the ability to compare the experiences of multiple personas in one journey map.', 'name': 'Multiple Personas', 'percent': 0, 'review': 0}, {'description': 'Ability to integrate with cross-channel, real-time data analytics to power customer journey map creation.', 'name': 'Data Analytics', 'percent': 0, 'review': 0}]}]",
         "4.2",
         "Mobile Marketing Software"
        ],
        [
         "3",
         "Netlify",
         "[{'Category': 'Content', 'features': [{'description': 'Caching of static content at distributed PoPs for faster load times. This feature was mentioned in 26 Netlify reviews.', 'name': 'Static Content Caching', 'percent': 87, 'review': 26}, {'description': 'As reported in 23 Netlify reviews. Routing of dynamic content for faster load time of dynamic pages.', 'name': 'Dynamic Content Routing', 'percent': 84, 'review': 23}, {'description': 'The ability to purge the cache from different edge location PoPs. 22 reviewers of Netlify have provided feedback on this feature.', 'name': 'Cache purging', 'percent': 89, 'review': 22}]}, {'Category': 'Security', 'features': [{'description': 'Shared SSL certificate. This feature was mentioned in 26 Netlify reviews.', 'name': 'SSL', 'percent': 97, 'review': 26}, {'description': 'As reported in 19 Netlify reviews. SSL certificate that you provide to the CDN software, or is provided for you and is not shared.', 'name': 'Custom SSL', 'percent': 85, 'review': 19}]}, {'Category': 'Management', 'features': [{'description': \"As reported in 27 Netlify reviews. An easy to read, often single page, real-time user interface, showing a graphical presentation of the current status and historical trends of an organization's Key Performance Indicators (KPIs) to enable instantaneous and informed decisions to be made at a glance.\", 'name': 'Dashboard', 'percent': 86, 'review': 27}, {'description': 'Access pre-built and custom reports. 22 reviewers of Netlify have provided feedback on this feature.', 'name': 'Reports', 'percent': 77, 'review': 22}, {'description': 'As reported in 23 Netlify reviews. Record of data changes taking place in the software.', 'name': 'Logs', 'percent': 83, 'review': 23}, {'description': \"Designate the necessary tasks and workflows for a team's unique development cycle.\", 'name': 'Processes and Workflow', 'percent': 0, 'review': 0}, {'description': 'Generate visual dashboards and reports around development cycle progress.', 'name': 'Reporting', 'percent': 0, 'review': 0}, {'description': 'Automate repository detection, version control, testing, and more.', 'name': 'Automation', 'percent': 0, 'review': 0}, {'description': 'Based on 12 Netlify reviews. Provide web-dedicated content management capabilities.', 'name': 'Web Content Dedication', 'percent': 88, 'review': 12}, {'description': 'As reported in 13 Netlify reviews. Provides website hosting capabilities.', 'name': 'Website Hosting', 'percent': 88, 'review': 13}, {'description': 'Dictate user access and permissions based on organizational role. 11 reviewers of Netlify have provided feedback on this feature.', 'name': 'Role-Based Permissions', 'percent': 82, 'review': 11}]}, {'Category': 'Integration', 'features': [{'description': \"As reported in 23 Netlify reviews. Application Programming Interface - Specification for how the application communicates with other software. API's typically enable integration of data, logic, objects, etc. with other software applications.\", 'name': 'API', 'percent': 85, 'review': 23}, {'description': 'Standard integrations for common CMS tools. This feature was mentioned in 22 Netlify reviews.', 'name': 'CMS Integration', 'percent': 78, 'review': 22}]}, {'Category': 'Development', 'features': [{'description': 'Provides tools for building, deploying, or integrating source code into hosted application.', 'name': 'Application Deployment', 'percent': 0, 'review': 0}, {'description': 'Provides tools for writing code, editing code, syntax, debugging, or utilizing frameworks.', 'name': 'Development Tools', 'percent': 0, 'review': 0}, {'description': 'Provides tools for sharing code, tracking progress, and shipping software.', 'name': 'Development Environment', 'percent': 0, 'review': 0}, {'description': 'Supports programming languages such as Java, C, or Python. Support for front-end languages such as HTML, CSS, and JavaScript.', 'name': 'Language Support', 'percent': 0, 'review': 0}, {'description': 'Tests the functionality of a software application. Detects and diagnoses issues in application.', 'name': 'Testing', 'percent': 0, 'review': 0}]}, {'Category': 'Database', 'features': [{'description': 'Lets developers manage database services. Provides support for different types of databases and integration methods.', 'name': 'Database Management', 'percent': 0, 'review': 0}, {'description': 'Lets users analyze deployment, user, storage, and business metrics.', 'name': 'Analytics', 'percent': 0, 'review': 0}, {'description': 'Provides tools or bots that scale services and data automatically or on demand.', 'name': 'Auto Scaling', 'percent': 0, 'review': 0}, {'description': 'Stores versions of application and data or incrementally backs up data.', 'name': 'Backup / Recovery', 'percent': 0, 'review': 0}, {'description': 'Provides scalable cloud storage for different forms of data. Store analytics and records for reporting.', 'name': 'Storage', 'percent': 0, 'review': 0}]}, {'Category': 'Infrastructure', 'features': [{'description': 'Allows users to provision networks, deliver content, balance loads, and manage traffic.', 'name': 'Networking', 'percent': 0, 'review': 0}, {'description': 'Provides virtual networks and operating systems.', 'name': 'Virtual Machines', 'percent': 0, 'review': 0}, {'description': 'Secures applications, encrypt data, and manage identities.', 'name': 'Security', 'percent': 0, 'review': 0}]}, {'Category': 'Functionality', 'features': [{'description': 'Based on 11 Netlify reviews. Maintain, or facilitate maintenance of, tested and approved code in a deployment-ready state for manual pushes to production.', 'name': 'Deployment-Ready Staging', 'percent': 97, 'review': 11}, {'description': 'As reported in 10 Netlify reviews. Integrate with other development and testing software, such as continuous integration or test automation tools.', 'name': 'Integration', 'percent': 95, 'review': 10}, {'description': 'Plug-in capable for added resources, features, and functions within the product itself.', 'name': 'Extensible', 'percent': 0, 'review': 0}, {'description': 'Provide developer-focused tools for website creation and maintenance. This feature was mentioned in 13 Netlify reviews.', 'name': 'Developer Tools', 'percent': 86, 'review': 13}, {'description': 'Based on 13 Netlify reviews. Automate repetitive web development processes.', 'name': 'Automation', 'percent': 81, 'review': 13}, {'description': 'As reported in 12 Netlify reviews. Offer staging and other pre-production environments for web development.', 'name': 'Website Staging', 'percent': 89, 'review': 12}]}, {'Category': 'Support', 'features': [{'description': 'Support traditional and headless CMS. 12 reviewers of Netlify have provided feedback on this feature.', 'name': 'CMS Variety', 'percent': 78, 'review': 12}, {'description': 'Based on 11 Netlify reviews. Support several CMS through a single platform.', 'name': 'Multi-CMS Support', 'percent': 73, 'review': 11}, {'description': 'Offer or foster security compliance capabilities, e.g., SOC 2.', 'name': 'Compliance', 'percent': 0, 'review': 0}]}]",
         "4.5",
         "WebOps Platforms"
        ],
        [
         "4",
         "OpenBuildings Designer",
         "[{'Category': 'Design', 'features': [{'description': 'Design your project in 3D 11 reviewers of OpenBuildings Designer have provided feedback on this feature.', 'name': 'Visualizing', 'percent': 83, 'review': 11}, {'description': 'Produce 3D visualizations without any integrating hardware.  10 reviewers of OpenBuildings Designer have provided feedback on this feature.', 'name': 'Rendering', 'percent': 82, 'review': 10}, {'description': 'Ability to create 2D and 3D drawings of your structure. 13 reviewers of OpenBuildings Designer have provided feedback on this feature.', 'name': 'Drawing', 'percent': 81, 'review': 13}, {'description': 'Based on 13 OpenBuildings Designer reviews. Ability to edit designs with a WYSIWYG editor', 'name': 'Editing', 'percent': 86, 'review': 13}, {'description': 'As reported in 10 OpenBuildings Designer reviews. Create and animate the sequences of steps, materials and building crews needed to construct your building.', 'name': 'Sequence Steps', 'percent': 73, 'review': 10}, {'description': 'As reported in 12 OpenBuildings Designer reviews. Allows users to create relationships between objects so design changes are dynamically updated', 'name': 'Dynamic Updating', 'percent': 78, 'review': 12}]}, {'Category': 'Collaboration', 'features': [{'description': 'Allows users to save and share work in one project This feature was mentioned in 12 OpenBuildings Designer reviews.', 'name': 'Multi User', 'percent': 89, 'review': 12}, {'description': 'Based on 13 OpenBuildings Designer reviews. Ability to import and export 2D and 3D files to the platform so your team can update designs and collaborate as needed.', 'name': 'File Import/Export', 'percent': 90, 'review': 13}, {'description': 'Add keynotes, tags, dimensions and more to your document. This feature was mentioned in 13 OpenBuildings Designer reviews.', 'name': 'Annotating', 'percent': 78, 'review': 13}, {'description': 'Store various types of documents within this platform. 13 reviewers of OpenBuildings Designer have provided feedback on this feature.', 'name': 'Document Storage', 'percent': 88, 'review': 13}]}, {'Category': 'Construction', 'features': [{'description': 'Ability to create models of various systems that need to be integrated into the structure.', 'name': 'Fabrication', 'percent': 0, 'review': 0}, {'description': 'Add reinforcement to vital points in the model of your structure.', 'name': 'Reinforcement Tools', 'percent': 0, 'review': 0}, {'description': 'As reported in 12 OpenBuildings Designer reviews. Ability to detect clashing elements, such as electrical conduit or ductwork that run into a beam.', 'name': 'Clash Detection', 'percent': 74, 'review': 12}, {'description': 'Allows users to utilize grading tools to design finished ground surfaces', 'name': 'Grading', 'percent': 0, 'review': 0}, {'description': 'Allows users to calculate cut and fill earthwork quantities between two surfaces.', 'name': 'Earthwork', 'percent': 0, 'review': 0}]}]",
         "4.3",
         "CAD Software"
        ]
       ],
       "shape": {
        "columns": 4,
        "rows": 5
       }
      },
      "text/html": [
       "<div>\n",
       "<style scoped>\n",
       "    .dataframe tbody tr th:only-of-type {\n",
       "        vertical-align: middle;\n",
       "    }\n",
       "\n",
       "    .dataframe tbody tr th {\n",
       "        vertical-align: top;\n",
       "    }\n",
       "\n",
       "    .dataframe thead th {\n",
       "        text-align: right;\n",
       "    }\n",
       "</style>\n",
       "<table border=\"1\" class=\"dataframe\">\n",
       "  <thead>\n",
       "    <tr style=\"text-align: right;\">\n",
       "      <th></th>\n",
       "      <th>product_name</th>\n",
       "      <th>Features</th>\n",
       "      <th>rating</th>\n",
       "      <th>main_category</th>\n",
       "    </tr>\n",
       "  </thead>\n",
       "  <tbody>\n",
       "    <tr>\n",
       "      <th>0</th>\n",
       "      <td>Newforma Project Center</td>\n",
       "      <td>[{'Category': 'Library', 'features': [{'descri...</td>\n",
       "      <td>4.0</td>\n",
       "      <td>Construction Software</td>\n",
       "    </tr>\n",
       "    <tr>\n",
       "      <th>1</th>\n",
       "      <td>Nitro Pro</td>\n",
       "      <td>[{'Category': 'Platform', 'features': [{'descr...</td>\n",
       "      <td>4.3</td>\n",
       "      <td>Document Creation Software</td>\n",
       "    </tr>\n",
       "    <tr>\n",
       "      <th>2</th>\n",
       "      <td>Netmera</td>\n",
       "      <td>[{'Category': 'Integration', 'features': [{'de...</td>\n",
       "      <td>4.2</td>\n",
       "      <td>Mobile Marketing Software</td>\n",
       "    </tr>\n",
       "    <tr>\n",
       "      <th>3</th>\n",
       "      <td>Netlify</td>\n",
       "      <td>[{'Category': 'Content', 'features': [{'descri...</td>\n",
       "      <td>4.5</td>\n",
       "      <td>WebOps Platforms</td>\n",
       "    </tr>\n",
       "    <tr>\n",
       "      <th>4</th>\n",
       "      <td>OpenBuildings Designer</td>\n",
       "      <td>[{'Category': 'Design', 'features': [{'descrip...</td>\n",
       "      <td>4.3</td>\n",
       "      <td>CAD Software</td>\n",
       "    </tr>\n",
       "  </tbody>\n",
       "</table>\n",
       "</div>"
      ],
      "text/plain": [
       "              product_name                                           Features  \\\n",
       "0  Newforma Project Center  [{'Category': 'Library', 'features': [{'descri...   \n",
       "1                Nitro Pro  [{'Category': 'Platform', 'features': [{'descr...   \n",
       "2                  Netmera  [{'Category': 'Integration', 'features': [{'de...   \n",
       "3                  Netlify  [{'Category': 'Content', 'features': [{'descri...   \n",
       "4   OpenBuildings Designer  [{'Category': 'Design', 'features': [{'descrip...   \n",
       "\n",
       "   rating               main_category  \n",
       "0     4.0       Construction Software  \n",
       "1     4.3  Document Creation Software  \n",
       "2     4.2   Mobile Marketing Software  \n",
       "3     4.5            WebOps Platforms  \n",
       "4     4.3                CAD Software  "
      ]
     },
     "execution_count": 132,
     "metadata": {},
     "output_type": "execute_result"
    }
   ],
   "source": [
    "def clean_data(vendors_data):\n",
    "    # Drop rows with missing data in column: 'Features'\n",
    "    vendors_data = vendors_data.dropna(subset=['Features'])\n",
    "    return vendors_data\n",
    "\n",
    "vendors_data_clean = clean_data(vendors_data.copy())\n",
    "vendors_data_clean.head()"
   ]
  },
  {
   "cell_type": "code",
   "execution_count": 133,
   "metadata": {},
   "outputs": [],
   "source": [
    "# Extract Features \n",
    "extracted_features = []\n",
    "\n",
    "for category in vendors_data_clean[\"Features\"]:\n",
    "    feature_list = []\n",
    "    for features in category:\n",
    "        for feature in features['features']:\n",
    "            feature_list.append(feature['name'])\n",
    "        \n",
    "    extracted_features.append(feature_list)\n",
    "\n",
    "vendors_data_clean[\"Features\"] = extracted_features\n",
    "\n",
    "# Convert the list of features into a concatenated string\n",
    "vendors_data_clean[\"Features\"] = vendors_data_clean[\"Features\"].apply(lambda x: \" \".join(x) if isinstance(x, list) else \"\")\n",
    "\n",
    "    "
   ]
  },
  {
   "cell_type": "code",
   "execution_count": 134,
   "metadata": {},
   "outputs": [
    {
     "data": {
      "application/vnd.microsoft.datawrangler.viewer.v0+json": {
       "columns": [
        {
         "name": "index",
         "rawType": "int64",
         "type": "integer"
        },
        {
         "name": "product_name",
         "rawType": "object",
         "type": "string"
        },
        {
         "name": "Features",
         "rawType": "object",
         "type": "string"
        },
        {
         "name": "rating",
         "rawType": "float64",
         "type": "float"
        },
        {
         "name": "main_category",
         "rawType": "object",
         "type": "string"
        }
       ],
       "conversionMethod": "pd.DataFrame",
       "ref": "6c3c260b-b706-432a-84b2-74e6aa3d8488",
       "rows": [
        [
         "0",
         "Newforma Project Center",
         "Objects Materials Textures Shading Lighting Exterior Rendering Aerial Rendering Atmospheric rendering BIM Integration 3D Rendering Integration Attachment Uploads Templates List Generation Reporting and Analytics Action History Notifications and Reminders Messaging and Communication Mobile Support Change Tracking Simultaneous Access File Sharing Commenting on Documents Field Collaboration Field Coordination Safety Compliance Field Communication Resource Management Visual Project Tracking Reporting Construction Accounting Tool Integrations Construction Workforce Management Tool Integration Project Tracking Information Management Communication and Collaboration Field Service Management Field Collaboration Mobile App Field Reporting Timesheets Photo and Video Uploads Workforce Scheduling Site Progress Monitoring Mobile Access Centralized Platform Versioning Document Management Optical Character Recognition (OCR) Technology Linkage Document Identification Workflows Version Control Resource-based Reports Data Visualization and Analysis Quality-Based Reports Automated Dashboards Authorization",
         "4.0",
         "Construction Software"
        ],
        [
         "1",
         "Nitro Pro",
         "Custom Branding User, Role, and Access Management Internationalization Performance and Reliability Integration APIs To which systems have you integrated this product Document SigningView full feature definition Reminders and Expirations Sign-In Process Mobile Signatures Signature Workflow Bulk Digital Signatures Reporting Signature Document Creation Regulatory Compliance Signature History and Audit Enterprise Scalability Protect Document Management Document Scanning Editing History Size Edit Fields New PDF Field Functions Annotate Calendar Website Applications Revision History Suggestion Mode Document Editor Export Import Web Publishing Multi-User Collaboration Real-Time Communication Graphics Templates Themes PC Operating System Mac Operating System Linux Operating System PC Operating System Mac Operating System Linux Operating System",
         "4.3",
         "Document Creation Software"
        ],
        [
         "2",
         "Netmera",
         "Data Import & Export Tools Integration APIs Breadth of Partner Applications Customization Workflow Capability User, Role, and Access Management Internationalization Sandbox / Test Environments Performance and Reliability Optimization Internationalization Building and Personalizing Emails Sending Outbound Emails Manage Email Deliverability Automated Email Responses Landing Pages and Forms Dynamic Content A/B Testing Mobile Optimized Marketing Lead Database Data Quality Management Segmentation Lead Nurturing Online Behavior Tracking CRM Lead Integration Social Campaigns Social Media Engagement Social Media Advertising Basic Reporting Web Analytics Revenue Analytics Application Attribution Campaign Analysis Uninstall Tracking Proximity Marketing Push Notifications Bulk SMS Email Campaigns Audience Segmentation Customize Scheduling Retarget Segmentation Triggered Notifications Coupons and Promotions Integration Geofencing Wi-Fi Marketing Beacons IP Geolocation Geolocation Campaign Automation Analytics Security Compliance Campaign Performance Audience Insights A/B Testing Personalization Rich Notifications Integrations Templates Exporting Multi-user Access and Collaboration Multiple Personas Data Analytics",
         "4.2",
         "Mobile Marketing Software"
        ],
        [
         "3",
         "Netlify",
         "Static Content Caching Dynamic Content Routing Cache purging SSL Custom SSL Dashboard Reports Logs Processes and Workflow Reporting Automation Web Content Dedication Website Hosting Role-Based Permissions API CMS Integration Application Deployment Development Tools Development Environment Language Support Testing Database Management Analytics Auto Scaling Backup / Recovery Storage Networking Virtual Machines Security Deployment-Ready Staging Integration Extensible Developer Tools Automation Website Staging CMS Variety Multi-CMS Support Compliance",
         "4.5",
         "WebOps Platforms"
        ],
        [
         "4",
         "OpenBuildings Designer",
         "Visualizing Rendering Drawing Editing Sequence Steps Dynamic Updating Multi User File Import/Export Annotating Document Storage Fabrication Reinforcement Tools Clash Detection Grading Earthwork",
         "4.3",
         "CAD Software"
        ],
        [
         "5",
         "Nosto",
         "Monitoring Targeting Guided Selling Library Customization Optimization Recommendation Content Cart Abandonment Search Personalization Engine Product Recommendations A/B Testing Personalized Messaging Web Email Mobile A/B Testing Behavioral Targeting Contextual Targeting Geofencing Triggered Emails Triggered Messages Recommendation Engine Website Personalization Marketing Campaigns Reports & Analytics User Data Integrations Reports & Analytics Customer Data Reporting and Analytics Product Insights Social Listening Campaigns Product Recommendations Product Search Product Display Media File Storage Web Content Management Integrations Dashboard Indexing Auto Complete Product Information Stemming Recommendations Personalization Faceted Search Ranking and Relevancy E-Commerce PIM Merchadising Multivariate testing capacities Concurrent Testing Mobile Testing WYSIWYG AI/Machine Learning Little to No Coding Types Migration Publishing UGC Live Streaming Omnichannel Personalization Moderation Promotions Shoppable Media AR/VR Social Store Campaign Customization Widget Customization Widget Media Library Social Media Content Creation Marketing Automation Rights Management Onboarding 24/7 Client Support UGC Analytics Lazy-Loading",
         "4.6",
         "E-Commerce Software"
        ],
        [
         "6",
         "Tonkean",
         "Document Generation Process Design Process Repository No-Code App Development Low-Code App Development Permissions for Sharing Data Unification Accessibility Process Routing Process Overview Process Analysis Real-Time Process Monitoring Unstructured Processes API Connection Intelligence Document Approval WYSIWYG Editor Customized Branding App Templates Workflow Management Data Migration Data Synchronization Data Security Application Deployment Platform Compatibility Lifecycle Management Processes Contracts Content Requisition Processses Contracts Content Requisition Sourcing Purchasing Invoicing Sourcing Purchasing Invoicing Visibility Performance Spend Visibility Performance Spend Due Dates KPIs Visual Editor Workflow Recording Pre-Built Templates Custom Automation Collaboration Ease of Bot Creation Bot Scheduling Attended Automation Unattended Automation Bot Performance Analytics Data and Product Security Scalability Approval Communication Documents Receipt of Goods Capture Supplier Portal Repository Evaluation Selection Risk Management Matching Payments Workflows Tax Compliance Submittal Profiles Qualifications History Accounting Payments ERP Procurement Logic and Conditions No-Code Or Low-Code Document Management Data Mapping Templates Mobile-Friendly Forms Workflow AutomationView full feature definition Workflow Mapping Real-Time Updates Robotic Process Automation OCR Machine Learning NLP Matter Management Spend Management Contract Management Template Library Cloud Mobility Messaging Visualization Dashboard Reporting Process Routing Notifcations Workflows Purchase Orders Tracking Onboarding Database Analysis Visibility Risk Assessment Compliance Audits Routing Configuration Approvals",
         "4.6",
         "Process Automation Software"
        ],
        [
         "7",
         "Orca Security",
         "Dashboards and Reports Workflow Management Administration Console Governance Logging and Reporting API / Integrations Anomaly Detection Data Loss Prevention Security Auditing Cloud Gap Analytics Risk Scoring Secrets Management Security Auditing Configuration Management Policy Enforcement Auditing Workflow Management Continuous Image Assurance Behavior Monitoring Observability Dynamic Image Scanning Runtime Protection Workload Protection Network Segmentation Compliance Monitoring Anomoly Detection Data Loss Prevention Cloud Gap Analytics Governance Data Governance Sensitive Data Compliance Issue Tracking Detection Rate False Positives Automated Scans Compliance Testing Perimeter Scanning Configuration Monitoring Manual Application Testing Static Code Analysis Black Box Testing API Discovery API Monitoring Reporting Change Management Compliance Monitoring API Verification API Testing Security and Policy Enforcement Anomoly Detection Bot Detection DLP Configuration Configuration Monitoring Unified Policy Management Adaptive Access Control API / Integrations Multicloud Visibility Asset Discovery Threat Hunting Vulnerability Scanning Vulnerability Intelligence Risk-Prioritization Policy Management Fine-Grained Access Control Role-Based Access Control (RBAC) AI-driven access control Monitoring AI-based detection Visibility Compliance Reporting",
         "4.6",
         "Cloud Security Software"
        ],
        [
         "8",
         "Toast",
         "Organization Management Time, Attendance, and PTO Expense Management Salary Structures Compliance Benefits Administration Customization Integration APIs Internationalization User, Role, and Access Management Performance Mobility Reporting Dashboards Reporting and Dashboards User, Role, and Access Management Performance and Reliability Scalability Web Portal Benefits Manager Mobile Payroll Entry Time Off Accrual Direct Deposit Expense Reimbursement Pre-tax Deductions Wage GarnishmentView full feature definition Approvals Check/W-2 Printing Check/W-2 Delivery Menu Building Inventory Management Employee Scheduling Accounting Reporting & Analytics Loyalty Management Tax Calculation Tax Filing Automatic Tax Payment API / Integration Time Tracking Integration Accounting Integration Core HR Integration Labor ForecastingView full feature definition Shift SchedulingView full feature definition Time & Attendance Tracking Absence & Leave Management Skills Management Succession Planning Workforce Analytics Self-Service Capabilities Mobile Shift Scheduling Team Communication Social Sourcing Job Posting Candidate Sourcing Metrics Candidate Search Career Page Configuration Dashboards Workflow Building Hiring Processes Tracking Scheduling Applicant Data Management Candidate Evaluations Automated Resume Parsing Candidate-Facing Statuses Payment Gateway Table Management Check Adjustment Kitchen Tickets Takeout & Delivery Reporting Interoperability Accounting Employee Management Analytics Inventory Management POS Table Management Kitchen Ticketing Reservations Dashboard",
         "4.2",
         "Hospitality Software"
        ],
        [
         "9",
         "OpenBOM",
         "Repository Taxonomy Types Version Control Alignment Workflows Lifecycle Ideation Time-to-market Cost estimating Product approval CAD Models CAD Options Conversion Supplier alignment Communication Development Document Management Product Metadata Data Quality Version Control BOM management Multi-level BOM BOM Types BOM visualization ECR Workflows Change Management ECO Management Virtual Testing Analysis Optimization Reporting Costing Product Intelligence Quality planning Traceability Compliance ERP MES PIM Maintenance",
         "4.2",
         "Product Lifecycle Management (PLM) Software"
        ],
        [
         "10",
         "Ontop",
         "Multi Country Data Consolidation Data Quality Rules Governance Country-Specific Internal Policies HR/HCM Finance Other Benchmarking Cost Tracking Dashboards International Hiring Support Pre-built Integrations Compliance Managenent Analytics Hiring Support HCM and HRMS Entrepreneur Immigration and Relocation Branded Shopping Other Benefits",
         "4.5",
         "Multi-Country Payroll Software"
        ],
        [
         "11",
         "OnPage",
         "Modules Scheduling Reporting Security Health Care Messages Alarms Messaging Telephone Notifications User Authorization - HIPAA Compliant Messaging Compliant Texting - HIPAA Compliant Messaging Compliant Emailing - HIPAA Compliant Messaging Clinical Communication - HIPAA Compliance HIPAA Compliance - HIPAA Compliant Messaging Operating Systems - HIPAA Compliant Messaging Message Lifespan - HIPAA Compliant Messaging Workflow Enhancement - HIPAA Compliant Messaging Automated Scheduling Absence Management Mobile Access Resource Management Correspondance Variety Data Sharing Cross Platform Support Routing Health Care IT Integration Analytics and Reporting Messaging Security Employee Work Status Days-Off Approval Time Tracking Staffing Data Mass Notifications Staff Scheduling CDI (Clinical Document Improvement) Constant Monitoring Timely Alerts TIcket Accuracy Ticket Assignment Standardization Lifecycle Visualization",
         "4.4",
         "Incident Management Software"
        ],
        [
         "12",
         "OutSystems",
         "UI Code Extending Programming Code Extending Customized Branding Application Templates Workflows Data Migration Data Synchronization Data Security Application Deployment Platform Compatability Lifecycle Management Ease of Use File Management Multi-Language Support Customization Straight-Out-the-Box Functionality Help Guides Patching & Updates",
         "4.6",
         "Application Development Software"
        ],
        [
         "13",
         "OnePoint HCM",
         "Organization Management Time, Attendance, and PTO Expense Management Salary Structures Compliance Benefits Administration Customization Integration APIs Internationalization User, Role, and Access Management Performance Mobility Reporting Dashboards Reporting and Dashboards User, Role, and Access Management Performance and Reliability Scalability Web Portal Benefits Manager Mobile Payroll Entry Time Off Accrual Direct Deposit Expense Reimbursement Pre-tax Deductions Wage GarnishmentView full feature definition Approvals Check/W-2 Printing Check/W-2 Delivery Tax Calculation Tax Filing Automatic Tax Payment API / Integration Time Tracking Integration Accounting Integration Core HR Integration Labor ForecastingView full feature definition Shift SchedulingView full feature definition Time & Attendance Tracking Absence & Leave Management Skills Management Succession Planning Workforce Analytics Self-Service Capabilities Mobile Shift Scheduling Team Communication Social Sourcing Job Posting Candidate Sourcing Metrics Candidate Search Career Page Configuration Dashboards Workflow Building Hiring Processes Tracking Scheduling Applicant Data Management Candidate Evaluations Automated Resume Parsing Candidate-Facing Statuses",
         "4.3",
         "Core HR Software"
        ],
        [
         "14",
         "Onclusive",
         "Report Customizability Report Exporting Scalability White Label Competitor Analysis Follower Analysis Post Performance Attribution Hashtag Analytics Sentiment Analysis Media Database Contact/Campaign Management Newsroom Media Distribution PR Planner Social Media Services Monitoring Response Desk Impact Measurement Keyword Targeting Custom Feeds and Alerts Custom Reports Dashboards Version Control Team Collaboration Media Database Record Management Relationship Management Segmentation Communications Campaign Management Engagement Tracking PR Analytics Lead Scoring Pitching Campaign Scheduling Follow-ups Broadcast Media Print Media Online Media Local Media National Media International Media Social Measurement Influencer Identification Brand Monitoring Keyword Tracking Trend Analysis Competitor Analysis Sentiment Analysis Social Reporting Alerts and Notifications Advanced Data Filtering Content Management Customization White Label Media Kits Contact Management Omnichannel Distribution Analytics Publication Scheduling Tools Media Monitoring Influencer Recruitment Influencer Scoring Audience AnalysisView full feature definition Influencer Segmentation Influencer Collaboration User-Generated Content (UGC) Management Content Approval Campaign Analytics Reporting and Dashboards Data Importing and Exporting Tools Influencer Whitelisting Influencer Compensation Social Commerce E-Commerce Integration",
         "4.4",
         "Public Relations (PR) Software"
        ],
        [
         "15",
         "OneCause",
         "Reporting Interaction Tracking Automation Donor Profiles Bid Confirmation Payment Processing Reporting Campaign Management Online Donation Portal Event Planning Recurring Donations Peer-to-peer Fundraising Mobile Capabilities Email Marketing Auction Listings Bidding Window Auction Type Ticketing Mobile Bidding Fundraising Bidder Profiles Sorting Bid Alerts",
         "4.7",
         "Auction Software"
        ],
        [
         "16",
         "DeepL",
         "Direct Text Translation Document Translation Real-time Translation Batch Translation Auto-Detect Language Customer Service Focused Browser Application Pay-Per-Use Free Offering",
         "4.6",
         "Localization Software"
        ],
        [
         "17",
         "HackerEarth Assessments",
         "Integrations Interoperability Performance Reporting Interoperability Performance User, Role, and Access Management File Sharing Content Library Customization Technical Screening Coding Development Reports Technology File Sharing Customization Dashboard Mobility Payment Soft Skills Testing Additional Tools Mobility Messaging Task Management Dashboards Skill Gap Analysis Skill Assessment Projects Comprehension Checks Course Recommendation Engine Learning Paths Channels Interactive Content Video Content Advanced Analytics SSO API Access",
         "4.5",
         "Recruiting Software"
        ],
        [
         "18",
         "HCL Domino",
         "UI Code Extending Programming Code Extending Customized Branding Application Templates Workflows Data Migration Data Synchronization Data Security Application Deployment Platform Compatability Lifecycle Management Ease of Use File Management Multi-Language Support Customization Straight-Out-the-Box Functionality Help Guides Patching & Updates",
         "4.4",
         "Application Development Software"
        ],
        [
         "19",
         "Guideline",
         "Administrators Employees Balances Investments Personal Information IRS Tax Benefits Monitoring Reporting",
         "4.4",
         "401(k) Software"
        ],
        [
         "20",
         "Hatica",
         "Historical Data Consolidation Data Context Testing Integration Repository Integration Analytics and Trends Productivity Updates Metric Relevance Insight Impact Predictions Report Generation Planning Tools Communication Tools Control",
         "4.7",
         "Software Development Analytics Tools"
        ],
        [
         "21",
         "Deel",
         "Organization Management Time, Attendance, and PTO Expense Management Compliance Benefits Administration Customization Integration APIs Internationalization User, Role, and Access Management Performance Mobility Reporting Dashboards Reporting APIs / Integration Internationalization Performance and Reliability Mobile User Support Offline Reporting and Dashboards User, Role, and Access Management Performance and Reliability Scalability Tools Management Access Ease of Completing Timesheets Tracking Time to Project/Task Billable Time Rate Management Invoice Creation and Delivery Electronic Payments Project Accounting / Revenue Recognition Time Tracking Business Tool Integration Workflow Automated Reminders User, Role, and Access Management Payroll Entry Time Off Accrual Direct Deposit Expense Reimbursement Pre-tax Deductions Wage GarnishmentView full feature definition Approvals Check/W-2 Printing Project Planning Search Reporting Web Portal Benefits Manager Mobile Tax Calculation Tax Filing Automatic Tax Payment API / Integration Time Tracking Integration Accounting Integration Core HR Integration HR/HCM Finance Other Forms Library E-Forms E-Signature Background Checks Offer Letter Approvals Offer Letter Templates Automation Content Library Employee Pulse Surveys Survey Customization Goal and Challenge Creation Contracts Invoicing Tool Self-Service Portal Automated Team Introductions Automated Onboarding Workflows Onboarding Notifications Onboarding Pre-qualifiation Employee Segmenting Goal and Challenge Creation Reporting Mobility Portal Onboarding Process Reporting Visualization Visualization Platform Search Alerts and Notifications Compliance Support Safety Program Certified Assistance Governance Country-Specific Internal Policies Scale Specialist Guidance Consulting Invoicing Implementation Support Assistance Process Automation Dashboards & Reporting Dashboard & Reporting Integration Analytics Export Employee Directory Schedule Creation Tools Employee Leave Management User Access User Role Access Employee Information Employee Information Automation Employee Portal Additional Tools Central Dashboard Asset Policy Management Risk Management Integrations Regulations Enforcement Compliance Monitoring Integration Services Additional Tools Multi Country Data Consolidation Data Quality Rules Benchmarking Cost Tracking Dashboards Update Restructure Interoperability Performance Interoperability Performance Portal Performance Benchmarking Reporting & Dashboards Interoperability Payment Dashboard Reporting Interoperability Performance Performance Portal Reporting Interoperability Performance Monitoring Document management Requalification Compliance Interview Scheduling Onboarding Hardware Asset Inventory Software Asset Inventory Cloud Asset Inventory Mobile Asset Inventory Asset Discovery Employee Tracking Employee Development Career Development Dashboard Mobility Messaging Task Management Payment Portal Integrations 360 Reviews Customizable Forms Review Status Tracking Goal-Setting Company Goals And OKRs Continuous Feedback Requesting Feedback 1-On-1 Meetings Public Praise Dashboards And Reports Historical Data Skills Library Skill Mapping Employee Skill Assignment Included Framework Integrations Compliance Reporting Document management Invoicing Tool Wage access Score Cards Customizability Graphs and Charts Dashboards Filtering Levels of Measurement Transformation International Hiring Support Pre-built Integrations Compliance Managenent Analytics Hiring Support HCM and HRMS Entrepreneur Immigration and Relocation Other Benefits AI Text Generation AI Text Summarization AI Text Summarization AI Text Summarization AI Text-to-Image AI Text Generation AI Image-to-Text AI Text Summarization AI Text Generation AI Text Generation",
         "4.8",
         "Multi-Country Payroll Software"
        ],
        [
         "22",
         "Proofpoint Security Awareness Training",
         "Continuous Assesment Phishing Assesment Baselining Content Library Interactive Training Gamification Risk-scoring Customization White-Labeling Reporting",
         "4.5",
         "Vulnerability Management Software"
        ],
        [
         "23",
         "Dashlane Password Manager",
         "Authentication User experience Supports Required Authentication systems Multi-Factor Authentication Supports Required Authentication Methods/Protocols Federation/SAML support (idp) Federation/SAML support (sp) Administration Console Multiple Operating system support Cross Browser support Reporting Auditing Third Party Web Services support Quick Login Browser Extension Mobile App Usability Multi-Device Use Admin Management Password Generator Two-Factor AuthenticationView full feature definition Security Audits Digital Wallet File Storage",
         "4.5",
         "Identity Management Software"
        ],
        [
         "24",
         "Teradata Vantage",
         "Reports Interface Steps to Answer Graphs and Charts Score Cards Dashboards Calculated Fields Data Column Filtering Data Discovery Search Collaboration / Workflow Automodeling Predictive Analytics Data Visualization Big Data Services Data Transformation Data Modeling WYSIWYG Report Design Integration APIs Storage Availability Stability Scalability Security Data ManipulationView full feature definition Query Language Real-Time Data Collection Data Distribution Data Lake Hadoop Integration Spark Integration Machine Scaling Data Preparation Spark Integration Cloud Processing Workload Processing Real-Time Analytics Data Querying Hadoop Integration Spark Integration Multi-Source Analysis Data Lake Data Visualization Data Workflow Governed Discovery Embedded Analytics Notebooks Data Modelling Recommendations Workflow Management Dashboards and Visualizations Sensitive Data Compliance Training and Guidelines Policy Enforcement Compliance Monitoring Data Preparation Data Distribution Data Unification Connectors Data Governance Data Querying Data Filtering Data Blending Dynamic Segmentation Journey Optimization Journey Reporting Trends Reporting Dashboards Advanced Data Filtering Journey Mapping Integrations Automated Alerts Data Integration Data Compression Data Quality Built-In Data Analytics In-Database Machine Learning Data Lake Analytics AI/ ML Integration BI Tool Integration Data lake Integration On-Premise Cloud Scalability Disaster Recovery Data Concurrency Workload Management Advanced Indexing Query Optimizer Data Migration Backup and Recovery Multi-User Environment Data dictionary Data Replication Query Language Data ModelingView full feature definition Performance Analysis Business Glossary Data Discovery Data Profililng Reporting and Visualization Data Lineage Data Encryption User Access Control Database Locking Access Control Encryption Authentication Data Governance Data Security Access Control Roles Management Compliance Management Text Search Data Types Languages Operating Systems Data Schema Query Language ACID - Complaint Data Replication Data Quality Management Policy Management AI Text Generation AI Text Summarization AI Text Generation AI Text Summarization AI Text Generation AI Text Summarization",
         "4.3",
         "Data Warehouse Solutions"
        ],
        [
         "25",
         "Prolifiq.ai CRUSH",
         "Badges Triggers Commission Calculator Leaderboards Profiles Custom Reports Dashboards Goal Setting Integration Employee Structure Flexible Sales Process Training Mode Playbooks Opportunity Identification Zero-touch Renewals Smart Content Multiple Org Charts Stakeholder Roles",
         "4.7",
         "Sales Acceleration Software"
        ],
        [
         "26",
         "VWO Testing",
         "A/B Testing WYSIWYG Editor Conversion Goal Percentage of Traffic Confidence Level Multivariant Testing Segmentation Reports and Dashboards Standard Targeting Custom Targeting Data Segmentation Recommendation Content Cart Abandonment Search Personalization Engine Product Recommendations A/B Testing Personalized Messaging API / Integrations QA TestingView full feature definition Performance and Reliability User, Role, and Access Management Monitoring Targeting Guided Selling Library Customization Optimization Web Email Mobile A/B Testing Customer Profiles Behavioral Targeting Contextual Targeting Geofencing Triggered Emails Triggered Messages Recommendation Engine Personalized Discounts Website Personalization Marketing Campaigns Reports & Analytics User Data Integrations Flag Management Rollout & Rollback Control Monitoring Multi-Environment Control Feature Testing Low-Code Interface Reporting and Analytics Heatmaps Multivariate testing capacities Concurrent Testing Mobile Testing WYSIWYG AI/Machine Learning Little to No Coding",
         "4.3",
         "Conversion Rate Optimization Tools"
        ],
        [
         "27",
         "Phonexa",
         "Local Phone Numbers Toll-Free Numbers Port Existing Numbers Visitor & Keyword Tracking Dynamic Number Insertion Multi-Channel Call Attribution IVR Call Scheduling Geo-Routing Call Data Call Recording Advanced Reporting Conversation Intelligence Export/Import Reporting ROI Tracking Data Collection Customer Insights Multi-User Access Spend Management White Label Campaign Insights Reports and Dashboards Campaign Stickiness Multichannel Tracking Brand Optimization Predictive Analytics Record Calls Generate Location Call Types Click-to-Call Personalization Information Locater Record Prospect Data Notes Daily Summary Automated Voicemails Automated Emails Sorts Prospects Custom Links Referral Link Generator Smart Link Email Updates Affiliate Tracking Cookieless Tracking Single-Touch Attribution Multi-Touch Attribution Algorithmic Attribution Cross-Device Attribution Offline Attribution Custom Attribution B2B Attribution B2C Attribution Marketing Channels Integrations Dashboards Data Visualizations Custom Reporting Martech Integrations Privacy, Security, and Compliance Performance and Reliability Features Performance Identification Mobile Websites Social Media Data Forms Personalization Templates Integration Custom Fields Conditional Logic Multi-page Forms Design Affiliate Network Commissions and Payouts Customization Embedded Forms Offline Capability Notifications Payments Mobile Forms",
         "4.9",
         "Inbound Call Tracking Software"
        ],
        [
         "28",
         "DataCamp",
         "Skill Gap Analysis Skill Assessment Projects Comprehension Checks Course Recommendation Engine Learning Paths Channels Interactive Content Video Content Manager Portals Content Libraries Advanced Analytics SSO API Access Personalized recommendations High-quality content Video content Projects In-course assessments Certification practice tests Team-level monitoring Administrative dashboard Certificates Mobile compatibility Offline access Single sign-on (SSO) Progress Reports Course Completion Course Access Education ERP System Learning Management System Help and Support",
         "4.6",
         "Education Software"
        ],
        [
         "29",
         "Teramind",
         "Interactions Web Usage Screenshots Web Blocking Screen Recording Keystroke Logging Sentiment Analysis Calls Email Social Media Live Chat Reports Archives Data Management Incident Logs Reporting Access Control Compliance Data Visibility Encryption Endpoint Intelligence Activity Monitoring Breach Detection Continuous Analysis Behavioral Analysis Data Context Activity Logging Anomaly Detection Incident Alerts Activity Monitoring Silent Deploy Detect Data Movement File and Application Activity Trigger Alerts Searchable Evidence Risk Scoring Project Hours Intelligence Burnout",
         "4.6",
         "Employee Monitoring Software"
        ],
        [
         "30",
         "Workleap Officevibe",
         "Customization Integration APIs Internationalization User, Role, and Access Management Performance Mobility Reporting Dashboards Feedback Confidence Levels Messaging Integrations Onboarding Team OKR Individual OKR Mind Mapping Action Item Creation Performance Benchmarking Reporting & Dashboards Interoperability Reporting Dashboard Performance Employee Pulse Surveys Survey Customization Goal and Challenge Creation Science-based templates Automation File Sharing Content Library Employee Segmenting Goal and Challenge Creation Peer RecognitionView full feature definition Social Feedback Portal Integrations Mobility Corporate Discounts Employee Engagement Rewards 360 Reviews Customizable Forms Review Status Tracking Goal-Setting Company Goals And OKRs Continuous Feedback Requesting Feedback 1-On-1 Meetings Public Praise Dashboards And Reports Historical Data Employee Lifecycle Management Communication Action Plan Productivity Digital Experience Management Benchmarking Employee Listening Performance Management Learning Team Building",
         "4.3",
         "Talent Management Software"
        ],
        [
         "31",
         "WiseStamp",
         "Designed Templates Advanced Template Customization Image Editor Departments Auto Updates Email Distribution Collaboration A/B Testing Banner Advertising Account-Based Marketing Analytics Tracking Marketing Automation Integrations Email Software Integrations Editor Rights Mobile Compatibility Cloning",
         "4.6",
         "Email Signature Software"
        ],
        [
         "32",
         "PhishingBox",
         "Continuous Assesment Phishing Assesment Baselining Content Library Interactive Training Gamification Risk-scoring Customization White-Labeling Reporting",
         "4.5",
         "Vulnerability Management Software"
        ],
        [
         "33",
         "PeoplesHR",
         "Organization Management Time, Attendance, and PTO Expense Management Salary Structures Compliance Benefits Administration Customization Integration APIs Internationalization User, Role, and Access Management Performance Mobility Reporting Dashboards Reporting APIs / Integration Internationalization Performance and Reliability Mobile User Support Offline Reporting and Dashboards User, Role, and Access Management Performance and Reliability Scalability Ease of Completing Timesheets Tracking Time to Project/Task Billable Time Rate Management Invoice Creation and Delivery Electronic Payments Project Accounting / Revenue Recognition Time Tracking Business Tool Integration Workflow Automated Reminders Policy Compliance ManagementView full feature definition User, Role, and Access Management Payroll Entry Time Off Accrual Direct Deposit Expense Reimbursement Pre-tax Deductions Wage GarnishmentView full feature definition Approvals Check/W-2 Printing Check/W-2 Delivery Web Portal Benefits Manager Mobile Tax Calculation Tax Filing Automatic Tax Payment API / Integration Time Tracking Integration Accounting Integration Core HR Integration HR/HCM Finance Other Benefits Record Management Enrollment PlanningView full feature definition Third-Party Carrier Integration Document Management Total Compensation Statements Self-Service Portal Regulatory Compliance Mobile Benefits Access Benefits Record Management Enrollment PlanningView full feature definition Third-Party Carrier Integration Document Management Total Compensation Statements Self-Service Portal Regulatory Compliance Benefits Dashboards Mobile Benefits Access Integrations / APIs Internationalization Mobility Forms Library E-Forms E-Signature Background Checks Offer Letter Approvals Offer Letter Templates Enrollment Planning Dashboard Education Benefits Record Management Self-Service Portal Automated Team Introductions Compliance Training Automated Onboarding Workflows Onboarding Notifications Mobility Regulatory Compliance Third-Party Carrier Integration Time-to-Productivity Reporting Onboarding Process Reporting Visualization Process Automation Dashboards & Reporting Data Collection Lanuguage Options Internal Communication User, Role and Access Management Integrations & APIs User, Role and Access Management Schedule Creation Tools Schedule Management Employee Leave Management User Access User Role Access Employee Information Employee Information Automation Regulations Enforcement Compliance Monitoring Integration Multi Country Data Consolidation Data Quality Rules Governance Country-Specific Internal Policies Benchmarking Cost Tracking Dashboards Interoperability Performance Process Survey Interoperability Performance Reporting Alerts and Notifications Reporting Dashboards & Reporting Dashboards And Reports Historical Data Automation Content Creation Distribution Features Interview Scheduling Onboarding Job Posting Sourcing and Candidate Identification Job Posting Interview Scheduling Applicant Tracking Reporting Interoperability Performance Reporting Monitoring 360 Reviews Customizable Forms Review Status Tracking Goal-Setting Company Goals And OKRs Continuous Feedback Requesting Feedback 1-On-1 Meetings Public Praise Score Cards Customizability Graphs and Charts Dashboards Filtering Levels of Measurement Transformation",
         "4.4",
         "Core HR Software"
        ],
        [
         "34",
         "Projectworks",
         "Customization Integration APIs Internationalization User, Role, and Access Management Performance Mobility Reporting Dashboards Reporting APIs / Integration Internationalization Performance and Reliability Mobile User Support Offline APIs Internationalization Performance and Reliability Mobile Offline Access Ease of Completing Timesheets Tracking Time to Project/Task Billable Time Rate Management Invoice Creation and Delivery Project Accounting / Revenue Recognition Time Tracking Business Tool Integration Workflow Automated Reminders Policy Compliance ManagementView full feature definition User, Role, and Access Management Standard Integrations Workflow Access Management Permissions Procedures Remote Work Creation & Assignment Due Dates Task Prioritization To-Do Lists Dependecies Mass Updates Drag & Drop Recurring Tasks Planning Project Map GANTT Calendar View Views Project Budgeting Issue Tracking Templates Critical Path Time & Expense Methodologies Resource Definiton Capacity Scheduling Baselining / KPIs Resource Allocation Dashboards Labor ForecastingView full feature definition Shift SchedulingView full feature definition Time & Attendance Tracking Absence & Leave Management Skills Management Succession Planning Workforce Analytics Self-Service Capabilities Mobile Shift Scheduling Team Communication Identification Allocation Standard Costs Resource Definiton Capacity Scheduling Performance Forecasting Corrections Customer Profiles Sales Marketing Client Portal Project Planning Project Tracking Resource Definition Resource Management Revenue Recognition Invoice Management Payments Project Accounting Budget Tracking Portfolio Definition Portfolio Performance Risk Portfolio Mix Forecasting Reporting KPIs Workflows Customization Data repository Task Prioritization Dependecies Planning Views Scheduling Critical Path Dashboards Resource Allocation Workspace Configuration Insights Communication Channels Document ManagementView full feature definition Collaboration Project Budgeting Time & Expense Profitability Front Office Back Office External data",
         "4.5",
         "Project, Portfolio & Program Management Software"
        ],
        [
         "35",
         "BlueJeans Meetings",
         "Group Live Chat Audio Conferencing Video Conferencing Live Preview Notifications Blocker Remote Control Switch Presenter Password Protection Recording In-Browser Application Screen Sharing Presentations Whiteboarding Live Chat Hand Raising Scheduling Recording Participant Permissions One-Click Join Mobile Browser Application Desktop Application",
         "4.3",
         "Video Conferencing Software"
        ],
        [
         "36",
         "Bizzabo",
         "Event creation User registration process Payment processing Mobile check-in On-site tickets and registration Event creation User registration process Mobile check-in Event website creation Email automation Email customization Contact list management Social media promotion Lead generation and retrieval Lead generation and retrieval Social media promotion Event website creation Email customization Contact list management Hotel and transportation planning Session scheduling Speaker submissions Exhibition management Event agendas and schedules Floor plans / maps Attendee networking Attendee surveys Attendee networking Attendee surveys-attendee engagement Performance and reliability Reporting and dashboards API / integrations Multiple event management Branding Role-based Access Recording Registration Attendee Live Chat Polls and Surveys Event Analytics Attendee Reports Software Integrations Event Configuration Event Marketing Speaker Access and Control Advanced Reporting Virtual Lobby Built-In Webcasting Webcasting Integrations Cross-Device Functionality Online Event Agenda Interactive Content 1:1 Networking Exhibitors/Sponsorships Meeting Scheduling Integration / APIs Virtual Networking Communication Tools Attendee Profiles Meeting Reports Prospect Intelligence Lead Capture",
         "4.3",
         "Event Management Software"
        ],
        [
         "38",
         "BlueJeans Virtual Events",
         "Branding Role-based Access Recording Registration Attendee Live Chat Polls and Surveys Event Analytics Attendee Reports Social Media Integration Software Integrations Hosted Platform Social Media Stream Multi-Platform Streaming Embeddable Live Rewind Live Chat Pause Highlight Clips Video Archive Analytics Monetization Options",
         "4.4",
         "Webinar Platforms"
        ],
        [
         "39",
         "Bitly",
         "Report Customizability Report Exporting Scalability White Label Competitor Analysis Follower Analysis Post Performance Paid Campaign Tracking Attribution Hashtag Analytics Sentiment Analysis Audience Insights Branded Shortlinks Link Analytics Bulk URL Creation Historical Shortlink Tracking Geographic Targeting Device/OS Targeting Digital Analytics Data Sharing and Exporting Drag and Drop Templates Advanced Customization Content Library A/B Testing Mobile Responsive Web Analytics SEO E-Commerce Integration Email Marketing Integration Domain Integration Bulk Creation Analytics Intuitive Dashboards Dynamics Codes File Formats Customization AI Text Generation",
         "4.5",
         "URL Shortener"
        ],
        [
         "40",
         "Blueshift",
         "Data Import & Export Tools Integration APIs Breadth of Partner Applications Customization Workflow Capability User, Role, and Access Management Internationalization Sandbox / Test Environments Performance and Reliability Output Document Generation Building and Personalizing Emails Sending Outbound Emails Manage Email Deliverability Automated Email Responses Landing Pages and Forms Dynamic Content A/B Testing Mobile Optimized Marketing Lead Database Data Quality Management Segmentation Lead Scoring and Grading Lead Nurturing Online Behavior Tracking Automated Alerts and Tasks CRM Lead Integration Program ManagementView full feature definition Event / Webinar Marketing Calendaring Budgeting Basic Reporting Web Analytics ROI Analytics Revenue Analytics ROI Tracking Data Collection Customer Insights Multi-User Access Spend Management White Label Campaign Insights Reports and Dashboards Campaign Stickiness Multichannel Tracking Brand Optimization Predictive Analytics Data Enrichment Expandability Multiple Devices Marketing Metrics Predictive Modeling Recommendation Engine",
         "4.4",
         "Customer Data Platforms (CDP)"
        ],
        [
         "41",
         "8x8 Contact Center",
         "Voice Social Web Chat Mobile SMS Email Session Routing Session Queuing Concurrent Calling Speech Analytics Auto Dialer IVR Inbound Screen Pop Persistent Data Session Summary Notes Administrator Access Reporting & Dashboards Session Recording Agent Scheduling and Assignment Call Recording Reporting & Dashboards Agent Availability Skills Management Shift Scheduling Agent Self-Service Mobile Access Call Monitoring Performance Evaluation Automation Performance Analysis Dashboards Forecasting Intraday Management Omnichannel Mobile Access Queue Management Call Routing Call Back IVR Automatic Call Distribution AI Text-to-Speech AI Text-to-Speech",
         "4.0",
         "Call & Contact Center Software"
        ],
        [
         "42",
         "Abacum",
         "Reports Interface Steps to Answer Graphs and Charts Score Cards Dashboards Reports Interface Share Reports Steps to Answer Historical Snapshots Real-Time Updating Email Reports Historical Snapshots Real-Time Updating Budgeting Forecasting Planning Data Visualization Data Analysis Custom Reporting Reporting Templates Collaboration Version Control Real-Time Data Updates Scorecards Data Import Budget Hierarchies Versioning Formulas What-If Budget Periods Consolidation Adjustments Workflows Historical Data Reforecast Forecast Types Rolling Forecasts Variance Analysis Forecasts Comparison Forward Looking Data Import Data Consolidation Data Validation Reporting Hierarchy Report Templates Report Types Standard KPIs Standard Reports Financial StatementsView full feature definition Drill Down Dashboards Custom KPIs Custom Reports Self Service Multiple Entities Extended Planning Reporting Integration Graphs and Charts Score Cards DashboardsView full feature definition Formats Sharing Co-Editing Devices Reconciliation Headcount Planning Reporting Expense Planning Integrations & APIs Compensation Bands Org Chart Recruitment Workflows Account Scoring Revenue Planning Account Segmentation Sales Performance Sales Forecasting Integrations Scenario Modeling Territory Management Territory Planning Quota Management Capacity Management Quota Planning",
         "4.8",
         "Accounting & Finance Software"
        ],
        [
         "43",
         "Accelo",
         "Customization Workflow Capability User, Role, and Access Management Performance and Reliability Output Document Generation CRM Integration Integration API Performance and Reliability Scalability Reporting and Dashboards Reporting APIs / Integration Internationalization Performance and Reliability Mobile User Support APIs Internationalization Performance and Reliability Mobile Contact & Account Management Partner Relationship Mgmt. (PRM) Opportunity & Pipeline Mgmt. Task / Activity Management Territory & Quota Management Desktop Integration Product & Price List Management Quote & Order Management Customer Contract Management Email Marketing Campaign Management Lead Management Marketing ROI Analytics Case ManagementView full feature definition Customer Support Portal Knowledge Base Call Center Features Support Analytics Data Import & Export Tools Integration APIs Breadth of Partner Applications Front Office Back Office External data Accounting Payments ERP Social Collaboration Features Social Network Integration Mobile User Support Reporting Dashboards Forecasting Pricing Flexibility Discounting Approval WorkflowView full feature definition Renewals Grouping Version Control Quote Document Generation Document Customization Ordering Contracts Configuration Ease of Admin Workflow Management Document Admin Mobile User Support Ease of Completing Timesheets Tracking Time to Project/Task Billable Time Rate Management Invoice Creation and Delivery Electronic Payments Project Accounting / Revenue Recognition Time Tracking Business Tool Integration Workflow Automated Reminders User, Role, and Access Management Standard Integrations Workflow Access Management Permissions Procedures Remote Work Creation & Assignment Due Dates Task Prioritization To-Do Lists Dependecies Drag & Drop Recurring Tasks Planning Project Map GANTT Calendar View Views Project Budgeting Issue Tracking Templates Time & Expense Methodologies Resource Definiton Capacity Scheduling Definition Allocation Optimization Baselining / KPIs Resource Allocation Dashboards Contract Creation Contract Templates Contract Editing Contract Attachments Contract Collaboration Approval Process Notifications & Reminders Contract Database Integrations / APIs Reporting & Dashboards Data Sourcing Exporting & Sharing Data Multi-Device Data Visualization Interactive Dashboards Data Segmentation Lead Scoring Opportunity Scoring Risk Analysis Live Forecasting Live Pipeline Management Sales Gamification Account-Based Analytics Activity Tracking Portfolio Types Planning Alignment Portfolio Mix Portfolio Definition Portfolio Performance Risk Portfolio Mix Dependencies Priorities Lean Management Project Planning Project Tracking Resource Definition Resource Management Task Management Planning Visibility Integration Data Consolidation Visualizations Performance Risk Analysis Resource Definiton Capacity Scheduling Performance Forecasting Corrections Versioning File Request Feedback Billing and Invoicing Instant Messaging Project Management Analytics Time Tracking Mobile Application Creation & Assignment Due Dates Drag & Drop Task Prioritization To-Do ListsView full feature definition Dependecies Recurring Tasks Customer Profiles Sales Marketing Client Portal Revenue Recognition Invoice Management Payments Project Accounting Budget Tracking Forecasting Reporting KPIs Workflows Customization Data repository Task Prioritization Dependecies Planning Views Scheduling Dashboards Resource Allocation Workspace Configuration Insights Communication Channels Document ManagementView full feature definition Collaboration Project Budgeting Time & Expense Profitability Discussions External File SharingView full feature definition Notes Search Versioning Custom Views Followers User Management Calendars Public Sharing Alignment Accountability Connectivity Templates Digital Billing Recurring Billing Consolidation Batch Invoicing Management Simulation Tracking Planning Objectives Visiblity Alignment Risk Management Implementation Optimization Prioritization",
         "4.4",
         "Professional Services Automation Software"
        ],
        [
         "44",
         "BlackLine Financial Close Management",
         "Journal Entries Tags / Dimensions Audit Trail Invoice Customization AR Automation Collections Automation AP Automation Payment Processing Purchase Orders Inventory Tracking / Ordering Inventory Pricing and Costing Inventory ReportingView full feature definition Multi-Entity / Consolidation Recognition Rules Reconciliations Payroll Time and Expense Financial Statements Custom Reporting Budgeting / Forecasting Dashboards Customization Workflow Capability User, Role, and Access Management Internationalization Performance and Reliability Output Document Generation Data Import and Export Tools Integration APIs Breadth of Partner Applications Track Cash Flow Income and Expenses File Exports Budgeting / Forecasting Data Import Versioning Historical Data Revenue Types Revenue Allocation Scheduling Consolidation Management Accounting Report Types Standard Custom Audit Journal Entries Distribution Tax Calculation Reporting and Dashboards Automation Bank Statements Exceptions Algorithms Accuracy Compliance Reporting Audit Trail Accounting Inventory ERP Banking Access Authentication Encryption Regulations Data Extraction Invoice Processing Expense Management Fraud Detection Tax Compliance Support Chatbots Bank Reconciliations Report Generation Customizable Alerts Predictive Analytics Cloud Integration Notifications UI Offline Expense Tracking Invoice Management",
         "4.5",
         "Accounting & Finance Software"
        ],
        [
         "45",
         "Bloomfire",
         "Data Centralization - Insight Engines Archiving - Insight Engines Search Analysis - Insight Engines Search Interface - Insight Engines AI Functionality - Insight Engines NLP Functionality - Insight Engines Data Mining - Insight Engines Structured Navigation - Insight Engines Machine Learning - Insight Engines Database Management Data Workflows Issue Management Integrations User, Role, and Access Management Performance and Reliability Policies and Controls Data Governance Compliance Auditing Risk Data Attributes Data Transport Access Management Multi-Factor Authentication Single Sign-On (SSO) Social Login Reputation System Topic Subscription Bookmarking History Tags Commenting System Notifications Integrations Knowledge Integrations Embedding Formatting Analytics Templates In-Content Feedback Comments Versioning and Version History Decision Trees Duplicate Detection Content Editor Page Analytics Permissions Knowledge Sharing Notifications Advanced Search Browser Extension Organization Other Integrations Knowledge Integrations Knowledge Base Publishing Workflows Analytics Intelligent Search Suggestions Decision Trees AI Text Generation AI Text Summarization AI Text Summarization",
         "4.6",
         "Knowledge Management Software"
        ],
        [
         "46",
         "Absorb LMS",
         "Course Builder Role-Based Templates Assessments & Quizzes Instructor-Led Training Learning Paths 24/7 Availability Communication & Notifications Assignment Scheduling Gamification Varied User Types Certifications Industry Compliance Course Authoring Course Access E-Commerce Course Marketplace Subscriptions White Labeling Multilingual Content Delivery and Tracking Customer Training Manager Portals Content Storage and Management Content Creation Content Libraries Assessments and Practice Content Delivery and Tracking Content Creation Customer Training Manager Portals Content Storage and Management Content Libraries Assessments and Practice Content Delivery and Tracking Social LearningView full feature definition Content Creation Manager Portals Content Storage and Management Content Libraries Course Authoring Online Learning Certificate Generation Tracking & Reporting Collaborative Environment Automatic Boards Reporting Integrations Multiple Content Types Mobility Self-paced Content Creation Content Storage and Management Quiz Capabilities Certification Engine Visualization Learner tracker Analytics Progress Reports Course Completion Education ERP System Learning Management System Help and Support White Labeling AI Text Generation AI Text Summarization AI Text Generation AI Text Summarization AI Text-to-Image AI Text Generation AI Text Summarization AI Text-to-Image Standard Courses Authoring Internal Policies Programs External Courses Offensive Behavior Business Ethics Code of Conduct Corporate Compliance Department Specific Content Safety Industry Specific Content Renewals Job Related Regulatory Feedback Performance Non Compliance",
         "4.6",
         "Talent Management Software"
        ],
        [
         "47",
         "Blackbaud Financial Edge NXT",
         "Journal Entries Tags / Dimensions Audit Trail Invoice Customization AR Automation Collections Automation AP Automation Payment Processing Purchase Orders",
         "4.0",
         "Nonprofit Software"
        ],
        [
         "48",
         "Accelevents",
         "Event creation User registration process Payment processing Mobile check-in On-site tickets and registration Event website creation Email automation Email customization Contact list management Social media promotion Lead generation and retrieval Site selection Supplier procurement Hotel and transportation planning Staff management Budget management Session scheduling Speaker submissions Exhibition management Event agendas and schedules Floor plans / maps Social media integrations Attendee networking Attendee surveys Performance and reliability Reporting and dashboards API / integrations Multiple event management Event Configuration Event Marketing Speaker Access and Control Advanced Reporting Bid Confirmation Payment Processing Reporting Virtual Lobby Built-In Webcasting Webcasting Integrations Cross-Device Functionality Online Event Agenda Interactive Content 1:1 Networking Exhibitors/Sponsorships Auction Listings Bidding Window Auction Type Ticketing Mobile Bidding Fundraising Bidder Profiles Sorting Bid Alerts",
         "4.7",
         "Event Management Software"
        ],
        [
         "49",
         "accessiBe",
         "Compliance Monitoring Real-Time Monitoring Dynamic Crawling Automated Testing Automated Scan Customizable Testing Tools Filtering Overlay Engine Individual Page Auditing Integration Page Reports",
         "4.7",
         "Web Accessibility Software"
        ],
        [
         "50",
         "AB Tasty",
         "A/B Testing WYSIWYG Editor Conversion Goal Percentage of Traffic Confidence Level Multivariant Testing Segmentation Reports and Dashboards Standard Targeting Custom Targeting Data Segmentation Recommendation Content Cart Abandonment Personalization Engine Product Recommendations A/B Testing Personalized Messaging API / Integrations QA TestingView full feature definition Performance and Reliability User, Role, and Access Management Monitoring Targeting Guided Selling Library Customization Optimization Web Email Mobile A/B Testing Customer Profiles Behavioral Targeting Contextual Targeting Geofencing Triggered Messages Recommendation Engine Personalized Discounts Website Personalization Marketing Campaigns Reports & Analytics User Data Integrations Flag Management Rollout & Rollback Control Monitoring Multi-Environment Control Feature Testing Low-Code Interface Reporting and Analytics Heatmaps Multivariate testing capacities Concurrent Testing Mobile Testing WYSIWYG AI/Machine Learning Little to No Coding Multi-Modal Support Setup Simplicity Platform Integration User Interface Design Data Privacy Scalability Real-Time Processing Emotion Granularity Ethical AI Compliance Encryption Support Integration APIs Adaptive Emotion Responses Multi-Language Support Voice Emotion Analysis Facial Expression Recognition Emotion Detection in Low-Quality Inputs",
         "4.5",
         "E-Commerce Software"
        ]
       ],
       "shape": {
        "columns": 4,
        "rows": 975
       }
      },
      "text/html": [
       "<div>\n",
       "<style scoped>\n",
       "    .dataframe tbody tr th:only-of-type {\n",
       "        vertical-align: middle;\n",
       "    }\n",
       "\n",
       "    .dataframe tbody tr th {\n",
       "        vertical-align: top;\n",
       "    }\n",
       "\n",
       "    .dataframe thead th {\n",
       "        text-align: right;\n",
       "    }\n",
       "</style>\n",
       "<table border=\"1\" class=\"dataframe\">\n",
       "  <thead>\n",
       "    <tr style=\"text-align: right;\">\n",
       "      <th></th>\n",
       "      <th>product_name</th>\n",
       "      <th>Features</th>\n",
       "      <th>rating</th>\n",
       "      <th>main_category</th>\n",
       "    </tr>\n",
       "  </thead>\n",
       "  <tbody>\n",
       "    <tr>\n",
       "      <th>0</th>\n",
       "      <td>Newforma Project Center</td>\n",
       "      <td>Objects Materials Textures Shading Lighting Ex...</td>\n",
       "      <td>4.0</td>\n",
       "      <td>Construction Software</td>\n",
       "    </tr>\n",
       "    <tr>\n",
       "      <th>1</th>\n",
       "      <td>Nitro Pro</td>\n",
       "      <td>Custom Branding User, Role, and Access Managem...</td>\n",
       "      <td>4.3</td>\n",
       "      <td>Document Creation Software</td>\n",
       "    </tr>\n",
       "    <tr>\n",
       "      <th>2</th>\n",
       "      <td>Netmera</td>\n",
       "      <td>Data Import &amp; Export Tools Integration APIs Br...</td>\n",
       "      <td>4.2</td>\n",
       "      <td>Mobile Marketing Software</td>\n",
       "    </tr>\n",
       "    <tr>\n",
       "      <th>3</th>\n",
       "      <td>Netlify</td>\n",
       "      <td>Static Content Caching Dynamic Content Routing...</td>\n",
       "      <td>4.5</td>\n",
       "      <td>WebOps Platforms</td>\n",
       "    </tr>\n",
       "    <tr>\n",
       "      <th>4</th>\n",
       "      <td>OpenBuildings Designer</td>\n",
       "      <td>Visualizing Rendering Drawing Editing Sequence...</td>\n",
       "      <td>4.3</td>\n",
       "      <td>CAD Software</td>\n",
       "    </tr>\n",
       "    <tr>\n",
       "      <th>...</th>\n",
       "      <td>...</td>\n",
       "      <td>...</td>\n",
       "      <td>...</td>\n",
       "      <td>...</td>\n",
       "    </tr>\n",
       "    <tr>\n",
       "      <th>995</th>\n",
       "      <td>Securiti</td>\n",
       "      <td>Data Modelling Recommendations Workflow Manage...</td>\n",
       "      <td>4.8</td>\n",
       "      <td>Data Privacy Management Software</td>\n",
       "    </tr>\n",
       "    <tr>\n",
       "      <th>996</th>\n",
       "      <td>SentinelOne Singularity</td>\n",
       "      <td>Issue Tracking Detection Rate False Positives ...</td>\n",
       "      <td>4.7</td>\n",
       "      <td>Endpoint Protection Software</td>\n",
       "    </tr>\n",
       "    <tr>\n",
       "      <th>997</th>\n",
       "      <td>Semrush</td>\n",
       "      <td>Social Analytics Social Publishing Social Enga...</td>\n",
       "      <td>4.5</td>\n",
       "      <td>SEO Tools</td>\n",
       "    </tr>\n",
       "    <tr>\n",
       "      <th>998</th>\n",
       "      <td>SAP Business ByDesign</td>\n",
       "      <td>Journal Entries Tags / Dimensions Audit Trail ...</td>\n",
       "      <td>4.0</td>\n",
       "      <td>ERP Systems</td>\n",
       "    </tr>\n",
       "    <tr>\n",
       "      <th>999</th>\n",
       "      <td>BoldSign</td>\n",
       "      <td>Custom Branding User, Role, and Access Managem...</td>\n",
       "      <td>4.7</td>\n",
       "      <td>E-Signature Software</td>\n",
       "    </tr>\n",
       "  </tbody>\n",
       "</table>\n",
       "<p>975 rows × 4 columns</p>\n",
       "</div>"
      ],
      "text/plain": [
       "                product_name  \\\n",
       "0    Newforma Project Center   \n",
       "1                  Nitro Pro   \n",
       "2                    Netmera   \n",
       "3                    Netlify   \n",
       "4     OpenBuildings Designer   \n",
       "..                       ...   \n",
       "995                 Securiti   \n",
       "996  SentinelOne Singularity   \n",
       "997                  Semrush   \n",
       "998    SAP Business ByDesign   \n",
       "999                 BoldSign   \n",
       "\n",
       "                                              Features  rating  \\\n",
       "0    Objects Materials Textures Shading Lighting Ex...     4.0   \n",
       "1    Custom Branding User, Role, and Access Managem...     4.3   \n",
       "2    Data Import & Export Tools Integration APIs Br...     4.2   \n",
       "3    Static Content Caching Dynamic Content Routing...     4.5   \n",
       "4    Visualizing Rendering Drawing Editing Sequence...     4.3   \n",
       "..                                                 ...     ...   \n",
       "995  Data Modelling Recommendations Workflow Manage...     4.8   \n",
       "996  Issue Tracking Detection Rate False Positives ...     4.7   \n",
       "997  Social Analytics Social Publishing Social Enga...     4.5   \n",
       "998  Journal Entries Tags / Dimensions Audit Trail ...     4.0   \n",
       "999  Custom Branding User, Role, and Access Managem...     4.7   \n",
       "\n",
       "                        main_category  \n",
       "0               Construction Software  \n",
       "1          Document Creation Software  \n",
       "2           Mobile Marketing Software  \n",
       "3                    WebOps Platforms  \n",
       "4                        CAD Software  \n",
       "..                                ...  \n",
       "995  Data Privacy Management Software  \n",
       "996      Endpoint Protection Software  \n",
       "997                         SEO Tools  \n",
       "998                       ERP Systems  \n",
       "999              E-Signature Software  \n",
       "\n",
       "[975 rows x 4 columns]"
      ]
     },
     "execution_count": 134,
     "metadata": {},
     "output_type": "execute_result"
    }
   ],
   "source": [
    "vendors_data_clean"
   ]
  },
  {
   "cell_type": "code",
   "execution_count": 135,
   "metadata": {},
   "outputs": [
    {
     "data": {
      "application/vnd.microsoft.datawrangler.viewer.v0+json": {
       "columns": [
        {
         "name": "index",
         "rawType": "int64",
         "type": "integer"
        },
        {
         "name": "product_name",
         "rawType": "object",
         "type": "string"
        },
        {
         "name": "Features",
         "rawType": "object",
         "type": "string"
        },
        {
         "name": "rating",
         "rawType": "float64",
         "type": "float"
        },
        {
         "name": "main_category",
         "rawType": "object",
         "type": "string"
        },
        {
         "name": "all_features_text",
         "rawType": "object",
         "type": "string"
        }
       ],
       "conversionMethod": "pd.DataFrame",
       "ref": "b366179b-6902-4183-81d3-c54994e26aff",
       "rows": [
        [
         "0",
         "Newforma Project Center",
         "Objects Materials Textures Shading Lighting Exterior Rendering Aerial Rendering Atmospheric rendering BIM Integration 3D Rendering Integration Attachment Uploads Templates List Generation Reporting and Analytics Action History Notifications and Reminders Messaging and Communication Mobile Support Change Tracking Simultaneous Access File Sharing Commenting on Documents Field Collaboration Field Coordination Safety Compliance Field Communication Resource Management Visual Project Tracking Reporting Construction Accounting Tool Integrations Construction Workforce Management Tool Integration Project Tracking Information Management Communication and Collaboration Field Service Management Field Collaboration Mobile App Field Reporting Timesheets Photo and Video Uploads Workforce Scheduling Site Progress Monitoring Mobile Access Centralized Platform Versioning Document Management Optical Character Recognition (OCR) Technology Linkage Document Identification Workflows Version Control Resource-based Reports Data Visualization and Analysis Quality-Based Reports Automated Dashboards Authorization",
         "4.0",
         "Construction Software",
         "Construction Software Newforma Project Center Objects Materials Textures Shading Lighting Exterior Rendering Aerial Rendering Atmospheric rendering BIM Integration 3D Rendering Integration Attachment Uploads Templates List Generation Reporting and Analytics Action History Notifications and Reminders Messaging and Communication Mobile Support Change Tracking Simultaneous Access File Sharing Commenting on Documents Field Collaboration Field Coordination Safety Compliance Field Communication Resource Management Visual Project Tracking Reporting Construction Accounting Tool Integrations Construction Workforce Management Tool Integration Project Tracking Information Management Communication and Collaboration Field Service Management Field Collaboration Mobile App Field Reporting Timesheets Photo and Video Uploads Workforce Scheduling Site Progress Monitoring Mobile Access Centralized Platform Versioning Document Management Optical Character Recognition (OCR) Technology Linkage Document Identification Workflows Version Control Resource-based Reports Data Visualization and Analysis Quality-Based Reports Automated Dashboards Authorization"
        ],
        [
         "1",
         "Nitro Pro",
         "Custom Branding User, Role, and Access Management Internationalization Performance and Reliability Integration APIs To which systems have you integrated this product Document SigningView full feature definition Reminders and Expirations Sign-In Process Mobile Signatures Signature Workflow Bulk Digital Signatures Reporting Signature Document Creation Regulatory Compliance Signature History and Audit Enterprise Scalability Protect Document Management Document Scanning Editing History Size Edit Fields New PDF Field Functions Annotate Calendar Website Applications Revision History Suggestion Mode Document Editor Export Import Web Publishing Multi-User Collaboration Real-Time Communication Graphics Templates Themes PC Operating System Mac Operating System Linux Operating System PC Operating System Mac Operating System Linux Operating System",
         "4.3",
         "Document Creation Software",
         "Document Creation Software Nitro Pro Custom Branding User, Role, and Access Management Internationalization Performance and Reliability Integration APIs To which systems have you integrated this product Document SigningView full feature definition Reminders and Expirations Sign-In Process Mobile Signatures Signature Workflow Bulk Digital Signatures Reporting Signature Document Creation Regulatory Compliance Signature History and Audit Enterprise Scalability Protect Document Management Document Scanning Editing History Size Edit Fields New PDF Field Functions Annotate Calendar Website Applications Revision History Suggestion Mode Document Editor Export Import Web Publishing Multi-User Collaboration Real-Time Communication Graphics Templates Themes PC Operating System Mac Operating System Linux Operating System PC Operating System Mac Operating System Linux Operating System"
        ],
        [
         "2",
         "Netmera",
         "Data Import & Export Tools Integration APIs Breadth of Partner Applications Customization Workflow Capability User, Role, and Access Management Internationalization Sandbox / Test Environments Performance and Reliability Optimization Internationalization Building and Personalizing Emails Sending Outbound Emails Manage Email Deliverability Automated Email Responses Landing Pages and Forms Dynamic Content A/B Testing Mobile Optimized Marketing Lead Database Data Quality Management Segmentation Lead Nurturing Online Behavior Tracking CRM Lead Integration Social Campaigns Social Media Engagement Social Media Advertising Basic Reporting Web Analytics Revenue Analytics Application Attribution Campaign Analysis Uninstall Tracking Proximity Marketing Push Notifications Bulk SMS Email Campaigns Audience Segmentation Customize Scheduling Retarget Segmentation Triggered Notifications Coupons and Promotions Integration Geofencing Wi-Fi Marketing Beacons IP Geolocation Geolocation Campaign Automation Analytics Security Compliance Campaign Performance Audience Insights A/B Testing Personalization Rich Notifications Integrations Templates Exporting Multi-user Access and Collaboration Multiple Personas Data Analytics",
         "4.2",
         "Mobile Marketing Software",
         "Mobile Marketing Software Netmera Data Import & Export Tools Integration APIs Breadth of Partner Applications Customization Workflow Capability User, Role, and Access Management Internationalization Sandbox / Test Environments Performance and Reliability Optimization Internationalization Building and Personalizing Emails Sending Outbound Emails Manage Email Deliverability Automated Email Responses Landing Pages and Forms Dynamic Content A/B Testing Mobile Optimized Marketing Lead Database Data Quality Management Segmentation Lead Nurturing Online Behavior Tracking CRM Lead Integration Social Campaigns Social Media Engagement Social Media Advertising Basic Reporting Web Analytics Revenue Analytics Application Attribution Campaign Analysis Uninstall Tracking Proximity Marketing Push Notifications Bulk SMS Email Campaigns Audience Segmentation Customize Scheduling Retarget Segmentation Triggered Notifications Coupons and Promotions Integration Geofencing Wi-Fi Marketing Beacons IP Geolocation Geolocation Campaign Automation Analytics Security Compliance Campaign Performance Audience Insights A/B Testing Personalization Rich Notifications Integrations Templates Exporting Multi-user Access and Collaboration Multiple Personas Data Analytics"
        ],
        [
         "3",
         "Netlify",
         "Static Content Caching Dynamic Content Routing Cache purging SSL Custom SSL Dashboard Reports Logs Processes and Workflow Reporting Automation Web Content Dedication Website Hosting Role-Based Permissions API CMS Integration Application Deployment Development Tools Development Environment Language Support Testing Database Management Analytics Auto Scaling Backup / Recovery Storage Networking Virtual Machines Security Deployment-Ready Staging Integration Extensible Developer Tools Automation Website Staging CMS Variety Multi-CMS Support Compliance",
         "4.5",
         "WebOps Platforms",
         "WebOps Platforms Netlify Static Content Caching Dynamic Content Routing Cache purging SSL Custom SSL Dashboard Reports Logs Processes and Workflow Reporting Automation Web Content Dedication Website Hosting Role-Based Permissions API CMS Integration Application Deployment Development Tools Development Environment Language Support Testing Database Management Analytics Auto Scaling Backup / Recovery Storage Networking Virtual Machines Security Deployment-Ready Staging Integration Extensible Developer Tools Automation Website Staging CMS Variety Multi-CMS Support Compliance"
        ],
        [
         "4",
         "OpenBuildings Designer",
         "Visualizing Rendering Drawing Editing Sequence Steps Dynamic Updating Multi User File Import/Export Annotating Document Storage Fabrication Reinforcement Tools Clash Detection Grading Earthwork",
         "4.3",
         "CAD Software",
         "CAD Software OpenBuildings Designer Visualizing Rendering Drawing Editing Sequence Steps Dynamic Updating Multi User File Import/Export Annotating Document Storage Fabrication Reinforcement Tools Clash Detection Grading Earthwork"
        ]
       ],
       "shape": {
        "columns": 5,
        "rows": 5
       }
      },
      "text/html": [
       "<div>\n",
       "<style scoped>\n",
       "    .dataframe tbody tr th:only-of-type {\n",
       "        vertical-align: middle;\n",
       "    }\n",
       "\n",
       "    .dataframe tbody tr th {\n",
       "        vertical-align: top;\n",
       "    }\n",
       "\n",
       "    .dataframe thead th {\n",
       "        text-align: right;\n",
       "    }\n",
       "</style>\n",
       "<table border=\"1\" class=\"dataframe\">\n",
       "  <thead>\n",
       "    <tr style=\"text-align: right;\">\n",
       "      <th></th>\n",
       "      <th>product_name</th>\n",
       "      <th>Features</th>\n",
       "      <th>rating</th>\n",
       "      <th>main_category</th>\n",
       "      <th>all_features_text</th>\n",
       "    </tr>\n",
       "  </thead>\n",
       "  <tbody>\n",
       "    <tr>\n",
       "      <th>0</th>\n",
       "      <td>Newforma Project Center</td>\n",
       "      <td>Objects Materials Textures Shading Lighting Ex...</td>\n",
       "      <td>4.0</td>\n",
       "      <td>Construction Software</td>\n",
       "      <td>Construction Software Newforma Project Center ...</td>\n",
       "    </tr>\n",
       "    <tr>\n",
       "      <th>1</th>\n",
       "      <td>Nitro Pro</td>\n",
       "      <td>Custom Branding User, Role, and Access Managem...</td>\n",
       "      <td>4.3</td>\n",
       "      <td>Document Creation Software</td>\n",
       "      <td>Document Creation Software Nitro Pro Custom Br...</td>\n",
       "    </tr>\n",
       "    <tr>\n",
       "      <th>2</th>\n",
       "      <td>Netmera</td>\n",
       "      <td>Data Import &amp; Export Tools Integration APIs Br...</td>\n",
       "      <td>4.2</td>\n",
       "      <td>Mobile Marketing Software</td>\n",
       "      <td>Mobile Marketing Software Netmera Data Import ...</td>\n",
       "    </tr>\n",
       "    <tr>\n",
       "      <th>3</th>\n",
       "      <td>Netlify</td>\n",
       "      <td>Static Content Caching Dynamic Content Routing...</td>\n",
       "      <td>4.5</td>\n",
       "      <td>WebOps Platforms</td>\n",
       "      <td>WebOps Platforms Netlify Static Content Cachin...</td>\n",
       "    </tr>\n",
       "    <tr>\n",
       "      <th>4</th>\n",
       "      <td>OpenBuildings Designer</td>\n",
       "      <td>Visualizing Rendering Drawing Editing Sequence...</td>\n",
       "      <td>4.3</td>\n",
       "      <td>CAD Software</td>\n",
       "      <td>CAD Software OpenBuildings Designer Visualizin...</td>\n",
       "    </tr>\n",
       "  </tbody>\n",
       "</table>\n",
       "</div>"
      ],
      "text/plain": [
       "              product_name                                           Features  \\\n",
       "0  Newforma Project Center  Objects Materials Textures Shading Lighting Ex...   \n",
       "1                Nitro Pro  Custom Branding User, Role, and Access Managem...   \n",
       "2                  Netmera  Data Import & Export Tools Integration APIs Br...   \n",
       "3                  Netlify  Static Content Caching Dynamic Content Routing...   \n",
       "4   OpenBuildings Designer  Visualizing Rendering Drawing Editing Sequence...   \n",
       "\n",
       "   rating               main_category  \\\n",
       "0     4.0       Construction Software   \n",
       "1     4.3  Document Creation Software   \n",
       "2     4.2   Mobile Marketing Software   \n",
       "3     4.5            WebOps Platforms   \n",
       "4     4.3                CAD Software   \n",
       "\n",
       "                                   all_features_text  \n",
       "0  Construction Software Newforma Project Center ...  \n",
       "1  Document Creation Software Nitro Pro Custom Br...  \n",
       "2  Mobile Marketing Software Netmera Data Import ...  \n",
       "3  WebOps Platforms Netlify Static Content Cachin...  \n",
       "4  CAD Software OpenBuildings Designer Visualizin...  "
      ]
     },
     "execution_count": 135,
     "metadata": {},
     "output_type": "execute_result"
    }
   ],
   "source": [
    "# Convert vendor data into text format\n",
    "vendors_data_clean['all_features_text'] = vendors_data_clean.apply(\n",
    "    lambda row: f\"{row['main_category']} {row['product_name']} {row['Features']}\".strip(), \n",
    "    axis=1\n",
    ")\n",
    "\n",
    "vendors_data_clean.head()"
   ]
  },
  {
   "cell_type": "code",
   "execution_count": 151,
   "metadata": {},
   "outputs": [
    {
     "data": {
      "text/plain": [
       "'Budgeting Accounting & Finance Software'"
      ]
     },
     "execution_count": 151,
     "metadata": {},
     "output_type": "execute_result"
    }
   ],
   "source": [
    "# Convert user query into text format\n",
    "user_query = {\n",
    "    \"software_category\": \"Accounting & Finance Software\",\n",
    "    \"capabilities\": [\"Budgeting\"]\n",
    "}\n",
    "\n",
    "input_text = f\"{' '.join(user_query['capabilities']) if isinstance(user_query['capabilities'], list) else ''} {user_query['software_category']}\"\n",
    "input_text"
   ]
  },
  {
   "cell_type": "code",
   "execution_count": 153,
   "metadata": {},
   "outputs": [],
   "source": [
    "# Load pre-trained model\n",
    "model = SentenceTransformer('all-MiniLM-L6-v2')\n",
    "\n",
    "# Create embeddings for vendor features and user query\n",
    "vendor_embeddings = model.encode(vendors_data_clean['all_features_text'].tolist())\n",
    "user_query_embedding = model.encode([input_text])\n",
    "\n",
    "# Compute similarity\n",
    "similarity_scores = cosine_similarity(user_query_embedding, vendor_embeddings).flatten()\n"
   ]
  },
  {
   "cell_type": "code",
   "execution_count": 154,
   "metadata": {},
   "outputs": [],
   "source": [
    "# # Initialize TF-IDF Vectorizer\n",
    "# vectorizer = TfidfVectorizer()\n",
    "\n",
    "# # Combine all vendor features into a list for vectorization\n",
    "# vendor_texts = vendors_data_clean['all_features_text'].tolist()\n",
    "\n",
    "# # Fit and transform the vendor features\n",
    "# vendor_vectors = vectorizer.fit_transform(vendor_texts)\n",
    "\n",
    "# # Vectorize the user query\n",
    "# user_query_vector = vectorizer.transform([input_text])"
   ]
  },
  {
   "cell_type": "code",
   "execution_count": 155,
   "metadata": {},
   "outputs": [],
   "source": [
    "# Calculate the cosine similarity between user query and vendor features\n",
    "# similarity_scores = cosine_similarity(user_query_vector, vendor_vectors).flatten()"
   ]
  },
  {
   "cell_type": "code",
   "execution_count": 156,
   "metadata": {},
   "outputs": [
    {
     "name": "stderr",
     "output_type": "stream",
     "text": [
      "/var/folders/cw/dc07lyz54blf87d00wbg0c7c0000gn/T/ipykernel_54530/859277569.py:8: SettingWithCopyWarning: \n",
      "A value is trying to be set on a copy of a slice from a DataFrame.\n",
      "Try using .loc[row_indexer,col_indexer] = value instead\n",
      "\n",
      "See the caveats in the documentation: https://pandas.pydata.org/pandas-docs/stable/user_guide/indexing.html#returning-a-view-versus-a-copy\n",
      "  filtered_vendors['weighted_score'] = filtered_vendors['similarity_score'] * filtered_vendors['rating']\n"
     ]
    }
   ],
   "source": [
    "# Add similarity scores to the DataFrame\n",
    "vendors_data_clean['similarity_score'] = similarity_scores\n",
    "\n",
    "# Filter vendors where at least one feature has a similarity score >= 0.6\n",
    "filtered_vendors = vendors_data_clean[vendors_data_clean['similarity_score'] >= 0.6]\n",
    "\n",
    "# Sort vendors based on similarity score and rating (if available)\n",
    "filtered_vendors['weighted_score'] = filtered_vendors['similarity_score'] * filtered_vendors['rating']\n",
    "\n",
    "# Sort by the weighted score in descending order\n",
    "ranked_vendors = filtered_vendors.sort_values(by='weighted_score', ascending=False)"
   ]
  },
  {
   "cell_type": "code",
   "execution_count": null,
   "metadata": {},
   "outputs": [
    {
     "data": {
      "application/vnd.microsoft.datawrangler.viewer.v0+json": {
       "columns": [
        {
         "name": "index",
         "rawType": "int64",
         "type": "integer"
        },
        {
         "name": "product_name",
         "rawType": "object",
         "type": "string"
        },
        {
         "name": "Features",
         "rawType": "object",
         "type": "string"
        },
        {
         "name": "rating",
         "rawType": "float64",
         "type": "float"
        },
        {
         "name": "main_category",
         "rawType": "object",
         "type": "string"
        },
        {
         "name": "all_features_text",
         "rawType": "object",
         "type": "string"
        },
        {
         "name": "similarity_score",
         "rawType": "float32",
         "type": "float"
        }
       ],
       "conversionMethod": "pd.DataFrame",
       "ref": "a803958b-bd4a-4457-8196-6d6cf1072ebc",
       "rows": [
        [
         "0",
         "Newforma Project Center",
         "Objects Materials Textures Shading Lighting Exterior Rendering Aerial Rendering Atmospheric rendering BIM Integration 3D Rendering Integration Attachment Uploads Templates List Generation Reporting and Analytics Action History Notifications and Reminders Messaging and Communication Mobile Support Change Tracking Simultaneous Access File Sharing Commenting on Documents Field Collaboration Field Coordination Safety Compliance Field Communication Resource Management Visual Project Tracking Reporting Construction Accounting Tool Integrations Construction Workforce Management Tool Integration Project Tracking Information Management Communication and Collaboration Field Service Management Field Collaboration Mobile App Field Reporting Timesheets Photo and Video Uploads Workforce Scheduling Site Progress Monitoring Mobile Access Centralized Platform Versioning Document Management Optical Character Recognition (OCR) Technology Linkage Document Identification Workflows Version Control Resource-based Reports Data Visualization and Analysis Quality-Based Reports Automated Dashboards Authorization",
         "4.0",
         "Construction Software",
         "Construction Software Newforma Project Center Objects Materials Textures Shading Lighting Exterior Rendering Aerial Rendering Atmospheric rendering BIM Integration 3D Rendering Integration Attachment Uploads Templates List Generation Reporting and Analytics Action History Notifications and Reminders Messaging and Communication Mobile Support Change Tracking Simultaneous Access File Sharing Commenting on Documents Field Collaboration Field Coordination Safety Compliance Field Communication Resource Management Visual Project Tracking Reporting Construction Accounting Tool Integrations Construction Workforce Management Tool Integration Project Tracking Information Management Communication and Collaboration Field Service Management Field Collaboration Mobile App Field Reporting Timesheets Photo and Video Uploads Workforce Scheduling Site Progress Monitoring Mobile Access Centralized Platform Versioning Document Management Optical Character Recognition (OCR) Technology Linkage Document Identification Workflows Version Control Resource-based Reports Data Visualization and Analysis Quality-Based Reports Automated Dashboards Authorization",
         "0.36428148"
        ],
        [
         "1",
         "Nitro Pro",
         "Custom Branding User, Role, and Access Management Internationalization Performance and Reliability Integration APIs To which systems have you integrated this product Document SigningView full feature definition Reminders and Expirations Sign-In Process Mobile Signatures Signature Workflow Bulk Digital Signatures Reporting Signature Document Creation Regulatory Compliance Signature History and Audit Enterprise Scalability Protect Document Management Document Scanning Editing History Size Edit Fields New PDF Field Functions Annotate Calendar Website Applications Revision History Suggestion Mode Document Editor Export Import Web Publishing Multi-User Collaboration Real-Time Communication Graphics Templates Themes PC Operating System Mac Operating System Linux Operating System PC Operating System Mac Operating System Linux Operating System",
         "4.3",
         "Document Creation Software",
         "Document Creation Software Nitro Pro Custom Branding User, Role, and Access Management Internationalization Performance and Reliability Integration APIs To which systems have you integrated this product Document SigningView full feature definition Reminders and Expirations Sign-In Process Mobile Signatures Signature Workflow Bulk Digital Signatures Reporting Signature Document Creation Regulatory Compliance Signature History and Audit Enterprise Scalability Protect Document Management Document Scanning Editing History Size Edit Fields New PDF Field Functions Annotate Calendar Website Applications Revision History Suggestion Mode Document Editor Export Import Web Publishing Multi-User Collaboration Real-Time Communication Graphics Templates Themes PC Operating System Mac Operating System Linux Operating System PC Operating System Mac Operating System Linux Operating System",
         "0.3421777"
        ],
        [
         "2",
         "Netmera",
         "Data Import & Export Tools Integration APIs Breadth of Partner Applications Customization Workflow Capability User, Role, and Access Management Internationalization Sandbox / Test Environments Performance and Reliability Optimization Internationalization Building and Personalizing Emails Sending Outbound Emails Manage Email Deliverability Automated Email Responses Landing Pages and Forms Dynamic Content A/B Testing Mobile Optimized Marketing Lead Database Data Quality Management Segmentation Lead Nurturing Online Behavior Tracking CRM Lead Integration Social Campaigns Social Media Engagement Social Media Advertising Basic Reporting Web Analytics Revenue Analytics Application Attribution Campaign Analysis Uninstall Tracking Proximity Marketing Push Notifications Bulk SMS Email Campaigns Audience Segmentation Customize Scheduling Retarget Segmentation Triggered Notifications Coupons and Promotions Integration Geofencing Wi-Fi Marketing Beacons IP Geolocation Geolocation Campaign Automation Analytics Security Compliance Campaign Performance Audience Insights A/B Testing Personalization Rich Notifications Integrations Templates Exporting Multi-user Access and Collaboration Multiple Personas Data Analytics",
         "4.2",
         "Mobile Marketing Software",
         "Mobile Marketing Software Netmera Data Import & Export Tools Integration APIs Breadth of Partner Applications Customization Workflow Capability User, Role, and Access Management Internationalization Sandbox / Test Environments Performance and Reliability Optimization Internationalization Building and Personalizing Emails Sending Outbound Emails Manage Email Deliverability Automated Email Responses Landing Pages and Forms Dynamic Content A/B Testing Mobile Optimized Marketing Lead Database Data Quality Management Segmentation Lead Nurturing Online Behavior Tracking CRM Lead Integration Social Campaigns Social Media Engagement Social Media Advertising Basic Reporting Web Analytics Revenue Analytics Application Attribution Campaign Analysis Uninstall Tracking Proximity Marketing Push Notifications Bulk SMS Email Campaigns Audience Segmentation Customize Scheduling Retarget Segmentation Triggered Notifications Coupons and Promotions Integration Geofencing Wi-Fi Marketing Beacons IP Geolocation Geolocation Campaign Automation Analytics Security Compliance Campaign Performance Audience Insights A/B Testing Personalization Rich Notifications Integrations Templates Exporting Multi-user Access and Collaboration Multiple Personas Data Analytics",
         "0.2642916"
        ],
        [
         "3",
         "Netlify",
         "Static Content Caching Dynamic Content Routing Cache purging SSL Custom SSL Dashboard Reports Logs Processes and Workflow Reporting Automation Web Content Dedication Website Hosting Role-Based Permissions API CMS Integration Application Deployment Development Tools Development Environment Language Support Testing Database Management Analytics Auto Scaling Backup / Recovery Storage Networking Virtual Machines Security Deployment-Ready Staging Integration Extensible Developer Tools Automation Website Staging CMS Variety Multi-CMS Support Compliance",
         "4.5",
         "WebOps Platforms",
         "WebOps Platforms Netlify Static Content Caching Dynamic Content Routing Cache purging SSL Custom SSL Dashboard Reports Logs Processes and Workflow Reporting Automation Web Content Dedication Website Hosting Role-Based Permissions API CMS Integration Application Deployment Development Tools Development Environment Language Support Testing Database Management Analytics Auto Scaling Backup / Recovery Storage Networking Virtual Machines Security Deployment-Ready Staging Integration Extensible Developer Tools Automation Website Staging CMS Variety Multi-CMS Support Compliance",
         "0.17447345"
        ],
        [
         "4",
         "OpenBuildings Designer",
         "Visualizing Rendering Drawing Editing Sequence Steps Dynamic Updating Multi User File Import/Export Annotating Document Storage Fabrication Reinforcement Tools Clash Detection Grading Earthwork",
         "4.3",
         "CAD Software",
         "CAD Software OpenBuildings Designer Visualizing Rendering Drawing Editing Sequence Steps Dynamic Updating Multi User File Import/Export Annotating Document Storage Fabrication Reinforcement Tools Clash Detection Grading Earthwork",
         "0.24820183"
        ],
        [
         "5",
         "Nosto",
         "Monitoring Targeting Guided Selling Library Customization Optimization Recommendation Content Cart Abandonment Search Personalization Engine Product Recommendations A/B Testing Personalized Messaging Web Email Mobile A/B Testing Behavioral Targeting Contextual Targeting Geofencing Triggered Emails Triggered Messages Recommendation Engine Website Personalization Marketing Campaigns Reports & Analytics User Data Integrations Reports & Analytics Customer Data Reporting and Analytics Product Insights Social Listening Campaigns Product Recommendations Product Search Product Display Media File Storage Web Content Management Integrations Dashboard Indexing Auto Complete Product Information Stemming Recommendations Personalization Faceted Search Ranking and Relevancy E-Commerce PIM Merchadising Multivariate testing capacities Concurrent Testing Mobile Testing WYSIWYG AI/Machine Learning Little to No Coding Types Migration Publishing UGC Live Streaming Omnichannel Personalization Moderation Promotions Shoppable Media AR/VR Social Store Campaign Customization Widget Customization Widget Media Library Social Media Content Creation Marketing Automation Rights Management Onboarding 24/7 Client Support UGC Analytics Lazy-Loading",
         "4.6",
         "E-Commerce Software",
         "E-Commerce Software Nosto Monitoring Targeting Guided Selling Library Customization Optimization Recommendation Content Cart Abandonment Search Personalization Engine Product Recommendations A/B Testing Personalized Messaging Web Email Mobile A/B Testing Behavioral Targeting Contextual Targeting Geofencing Triggered Emails Triggered Messages Recommendation Engine Website Personalization Marketing Campaigns Reports & Analytics User Data Integrations Reports & Analytics Customer Data Reporting and Analytics Product Insights Social Listening Campaigns Product Recommendations Product Search Product Display Media File Storage Web Content Management Integrations Dashboard Indexing Auto Complete Product Information Stemming Recommendations Personalization Faceted Search Ranking and Relevancy E-Commerce PIM Merchadising Multivariate testing capacities Concurrent Testing Mobile Testing WYSIWYG AI/Machine Learning Little to No Coding Types Migration Publishing UGC Live Streaming Omnichannel Personalization Moderation Promotions Shoppable Media AR/VR Social Store Campaign Customization Widget Customization Widget Media Library Social Media Content Creation Marketing Automation Rights Management Onboarding 24/7 Client Support UGC Analytics Lazy-Loading",
         "0.23838745"
        ],
        [
         "6",
         "Tonkean",
         "Document Generation Process Design Process Repository No-Code App Development Low-Code App Development Permissions for Sharing Data Unification Accessibility Process Routing Process Overview Process Analysis Real-Time Process Monitoring Unstructured Processes API Connection Intelligence Document Approval WYSIWYG Editor Customized Branding App Templates Workflow Management Data Migration Data Synchronization Data Security Application Deployment Platform Compatibility Lifecycle Management Processes Contracts Content Requisition Processses Contracts Content Requisition Sourcing Purchasing Invoicing Sourcing Purchasing Invoicing Visibility Performance Spend Visibility Performance Spend Due Dates KPIs Visual Editor Workflow Recording Pre-Built Templates Custom Automation Collaboration Ease of Bot Creation Bot Scheduling Attended Automation Unattended Automation Bot Performance Analytics Data and Product Security Scalability Approval Communication Documents Receipt of Goods Capture Supplier Portal Repository Evaluation Selection Risk Management Matching Payments Workflows Tax Compliance Submittal Profiles Qualifications History Accounting Payments ERP Procurement Logic and Conditions No-Code Or Low-Code Document Management Data Mapping Templates Mobile-Friendly Forms Workflow AutomationView full feature definition Workflow Mapping Real-Time Updates Robotic Process Automation OCR Machine Learning NLP Matter Management Spend Management Contract Management Template Library Cloud Mobility Messaging Visualization Dashboard Reporting Process Routing Notifcations Workflows Purchase Orders Tracking Onboarding Database Analysis Visibility Risk Assessment Compliance Audits Routing Configuration Approvals",
         "4.6",
         "Process Automation Software",
         "Process Automation Software Tonkean Document Generation Process Design Process Repository No-Code App Development Low-Code App Development Permissions for Sharing Data Unification Accessibility Process Routing Process Overview Process Analysis Real-Time Process Monitoring Unstructured Processes API Connection Intelligence Document Approval WYSIWYG Editor Customized Branding App Templates Workflow Management Data Migration Data Synchronization Data Security Application Deployment Platform Compatibility Lifecycle Management Processes Contracts Content Requisition Processses Contracts Content Requisition Sourcing Purchasing Invoicing Sourcing Purchasing Invoicing Visibility Performance Spend Visibility Performance Spend Due Dates KPIs Visual Editor Workflow Recording Pre-Built Templates Custom Automation Collaboration Ease of Bot Creation Bot Scheduling Attended Automation Unattended Automation Bot Performance Analytics Data and Product Security Scalability Approval Communication Documents Receipt of Goods Capture Supplier Portal Repository Evaluation Selection Risk Management Matching Payments Workflows Tax Compliance Submittal Profiles Qualifications History Accounting Payments ERP Procurement Logic and Conditions No-Code Or Low-Code Document Management Data Mapping Templates Mobile-Friendly Forms Workflow AutomationView full feature definition Workflow Mapping Real-Time Updates Robotic Process Automation OCR Machine Learning NLP Matter Management Spend Management Contract Management Template Library Cloud Mobility Messaging Visualization Dashboard Reporting Process Routing Notifcations Workflows Purchase Orders Tracking Onboarding Database Analysis Visibility Risk Assessment Compliance Audits Routing Configuration Approvals",
         "0.2713183"
        ],
        [
         "7",
         "Orca Security",
         "Dashboards and Reports Workflow Management Administration Console Governance Logging and Reporting API / Integrations Anomaly Detection Data Loss Prevention Security Auditing Cloud Gap Analytics Risk Scoring Secrets Management Security Auditing Configuration Management Policy Enforcement Auditing Workflow Management Continuous Image Assurance Behavior Monitoring Observability Dynamic Image Scanning Runtime Protection Workload Protection Network Segmentation Compliance Monitoring Anomoly Detection Data Loss Prevention Cloud Gap Analytics Governance Data Governance Sensitive Data Compliance Issue Tracking Detection Rate False Positives Automated Scans Compliance Testing Perimeter Scanning Configuration Monitoring Manual Application Testing Static Code Analysis Black Box Testing API Discovery API Monitoring Reporting Change Management Compliance Monitoring API Verification API Testing Security and Policy Enforcement Anomoly Detection Bot Detection DLP Configuration Configuration Monitoring Unified Policy Management Adaptive Access Control API / Integrations Multicloud Visibility Asset Discovery Threat Hunting Vulnerability Scanning Vulnerability Intelligence Risk-Prioritization Policy Management Fine-Grained Access Control Role-Based Access Control (RBAC) AI-driven access control Monitoring AI-based detection Visibility Compliance Reporting",
         "4.6",
         "Cloud Security Software",
         "Cloud Security Software Orca Security Dashboards and Reports Workflow Management Administration Console Governance Logging and Reporting API / Integrations Anomaly Detection Data Loss Prevention Security Auditing Cloud Gap Analytics Risk Scoring Secrets Management Security Auditing Configuration Management Policy Enforcement Auditing Workflow Management Continuous Image Assurance Behavior Monitoring Observability Dynamic Image Scanning Runtime Protection Workload Protection Network Segmentation Compliance Monitoring Anomoly Detection Data Loss Prevention Cloud Gap Analytics Governance Data Governance Sensitive Data Compliance Issue Tracking Detection Rate False Positives Automated Scans Compliance Testing Perimeter Scanning Configuration Monitoring Manual Application Testing Static Code Analysis Black Box Testing API Discovery API Monitoring Reporting Change Management Compliance Monitoring API Verification API Testing Security and Policy Enforcement Anomoly Detection Bot Detection DLP Configuration Configuration Monitoring Unified Policy Management Adaptive Access Control API / Integrations Multicloud Visibility Asset Discovery Threat Hunting Vulnerability Scanning Vulnerability Intelligence Risk-Prioritization Policy Management Fine-Grained Access Control Role-Based Access Control (RBAC) AI-driven access control Monitoring AI-based detection Visibility Compliance Reporting",
         "0.21413538"
        ],
        [
         "8",
         "Toast",
         "Organization Management Time, Attendance, and PTO Expense Management Salary Structures Compliance Benefits Administration Customization Integration APIs Internationalization User, Role, and Access Management Performance Mobility Reporting Dashboards Reporting and Dashboards User, Role, and Access Management Performance and Reliability Scalability Web Portal Benefits Manager Mobile Payroll Entry Time Off Accrual Direct Deposit Expense Reimbursement Pre-tax Deductions Wage GarnishmentView full feature definition Approvals Check/W-2 Printing Check/W-2 Delivery Menu Building Inventory Management Employee Scheduling Accounting Reporting & Analytics Loyalty Management Tax Calculation Tax Filing Automatic Tax Payment API / Integration Time Tracking Integration Accounting Integration Core HR Integration Labor ForecastingView full feature definition Shift SchedulingView full feature definition Time & Attendance Tracking Absence & Leave Management Skills Management Succession Planning Workforce Analytics Self-Service Capabilities Mobile Shift Scheduling Team Communication Social Sourcing Job Posting Candidate Sourcing Metrics Candidate Search Career Page Configuration Dashboards Workflow Building Hiring Processes Tracking Scheduling Applicant Data Management Candidate Evaluations Automated Resume Parsing Candidate-Facing Statuses Payment Gateway Table Management Check Adjustment Kitchen Tickets Takeout & Delivery Reporting Interoperability Accounting Employee Management Analytics Inventory Management POS Table Management Kitchen Ticketing Reservations Dashboard",
         "4.2",
         "Hospitality Software",
         "Hospitality Software Toast Organization Management Time, Attendance, and PTO Expense Management Salary Structures Compliance Benefits Administration Customization Integration APIs Internationalization User, Role, and Access Management Performance Mobility Reporting Dashboards Reporting and Dashboards User, Role, and Access Management Performance and Reliability Scalability Web Portal Benefits Manager Mobile Payroll Entry Time Off Accrual Direct Deposit Expense Reimbursement Pre-tax Deductions Wage GarnishmentView full feature definition Approvals Check/W-2 Printing Check/W-2 Delivery Menu Building Inventory Management Employee Scheduling Accounting Reporting & Analytics Loyalty Management Tax Calculation Tax Filing Automatic Tax Payment API / Integration Time Tracking Integration Accounting Integration Core HR Integration Labor ForecastingView full feature definition Shift SchedulingView full feature definition Time & Attendance Tracking Absence & Leave Management Skills Management Succession Planning Workforce Analytics Self-Service Capabilities Mobile Shift Scheduling Team Communication Social Sourcing Job Posting Candidate Sourcing Metrics Candidate Search Career Page Configuration Dashboards Workflow Building Hiring Processes Tracking Scheduling Applicant Data Management Candidate Evaluations Automated Resume Parsing Candidate-Facing Statuses Payment Gateway Table Management Check Adjustment Kitchen Tickets Takeout & Delivery Reporting Interoperability Accounting Employee Management Analytics Inventory Management POS Table Management Kitchen Ticketing Reservations Dashboard",
         "0.34033334"
        ],
        [
         "9",
         "OpenBOM",
         "Repository Taxonomy Types Version Control Alignment Workflows Lifecycle Ideation Time-to-market Cost estimating Product approval CAD Models CAD Options Conversion Supplier alignment Communication Development Document Management Product Metadata Data Quality Version Control BOM management Multi-level BOM BOM Types BOM visualization ECR Workflows Change Management ECO Management Virtual Testing Analysis Optimization Reporting Costing Product Intelligence Quality planning Traceability Compliance ERP MES PIM Maintenance",
         "4.2",
         "Product Lifecycle Management (PLM) Software",
         "Product Lifecycle Management (PLM) Software OpenBOM Repository Taxonomy Types Version Control Alignment Workflows Lifecycle Ideation Time-to-market Cost estimating Product approval CAD Models CAD Options Conversion Supplier alignment Communication Development Document Management Product Metadata Data Quality Version Control BOM management Multi-level BOM BOM Types BOM visualization ECR Workflows Change Management ECO Management Virtual Testing Analysis Optimization Reporting Costing Product Intelligence Quality planning Traceability Compliance ERP MES PIM Maintenance",
         "0.41542304"
        ],
        [
         "10",
         "Ontop",
         "Multi Country Data Consolidation Data Quality Rules Governance Country-Specific Internal Policies HR/HCM Finance Other Benchmarking Cost Tracking Dashboards International Hiring Support Pre-built Integrations Compliance Managenent Analytics Hiring Support HCM and HRMS Entrepreneur Immigration and Relocation Branded Shopping Other Benefits",
         "4.5",
         "Multi-Country Payroll Software",
         "Multi-Country Payroll Software Ontop Multi Country Data Consolidation Data Quality Rules Governance Country-Specific Internal Policies HR/HCM Finance Other Benchmarking Cost Tracking Dashboards International Hiring Support Pre-built Integrations Compliance Managenent Analytics Hiring Support HCM and HRMS Entrepreneur Immigration and Relocation Branded Shopping Other Benefits",
         "0.3689041"
        ],
        [
         "11",
         "OnPage",
         "Modules Scheduling Reporting Security Health Care Messages Alarms Messaging Telephone Notifications User Authorization - HIPAA Compliant Messaging Compliant Texting - HIPAA Compliant Messaging Compliant Emailing - HIPAA Compliant Messaging Clinical Communication - HIPAA Compliance HIPAA Compliance - HIPAA Compliant Messaging Operating Systems - HIPAA Compliant Messaging Message Lifespan - HIPAA Compliant Messaging Workflow Enhancement - HIPAA Compliant Messaging Automated Scheduling Absence Management Mobile Access Resource Management Correspondance Variety Data Sharing Cross Platform Support Routing Health Care IT Integration Analytics and Reporting Messaging Security Employee Work Status Days-Off Approval Time Tracking Staffing Data Mass Notifications Staff Scheduling CDI (Clinical Document Improvement) Constant Monitoring Timely Alerts TIcket Accuracy Ticket Assignment Standardization Lifecycle Visualization",
         "4.4",
         "Incident Management Software",
         "Incident Management Software OnPage Modules Scheduling Reporting Security Health Care Messages Alarms Messaging Telephone Notifications User Authorization - HIPAA Compliant Messaging Compliant Texting - HIPAA Compliant Messaging Compliant Emailing - HIPAA Compliant Messaging Clinical Communication - HIPAA Compliance HIPAA Compliance - HIPAA Compliant Messaging Operating Systems - HIPAA Compliant Messaging Message Lifespan - HIPAA Compliant Messaging Workflow Enhancement - HIPAA Compliant Messaging Automated Scheduling Absence Management Mobile Access Resource Management Correspondance Variety Data Sharing Cross Platform Support Routing Health Care IT Integration Analytics and Reporting Messaging Security Employee Work Status Days-Off Approval Time Tracking Staffing Data Mass Notifications Staff Scheduling CDI (Clinical Document Improvement) Constant Monitoring Timely Alerts TIcket Accuracy Ticket Assignment Standardization Lifecycle Visualization",
         "0.30175817"
        ],
        [
         "12",
         "OutSystems",
         "UI Code Extending Programming Code Extending Customized Branding Application Templates Workflows Data Migration Data Synchronization Data Security Application Deployment Platform Compatability Lifecycle Management Ease of Use File Management Multi-Language Support Customization Straight-Out-the-Box Functionality Help Guides Patching & Updates",
         "4.6",
         "Application Development Software",
         "Application Development Software OutSystems UI Code Extending Programming Code Extending Customized Branding Application Templates Workflows Data Migration Data Synchronization Data Security Application Deployment Platform Compatability Lifecycle Management Ease of Use File Management Multi-Language Support Customization Straight-Out-the-Box Functionality Help Guides Patching & Updates",
         "0.28945768"
        ],
        [
         "13",
         "OnePoint HCM",
         "Organization Management Time, Attendance, and PTO Expense Management Salary Structures Compliance Benefits Administration Customization Integration APIs Internationalization User, Role, and Access Management Performance Mobility Reporting Dashboards Reporting and Dashboards User, Role, and Access Management Performance and Reliability Scalability Web Portal Benefits Manager Mobile Payroll Entry Time Off Accrual Direct Deposit Expense Reimbursement Pre-tax Deductions Wage GarnishmentView full feature definition Approvals Check/W-2 Printing Check/W-2 Delivery Tax Calculation Tax Filing Automatic Tax Payment API / Integration Time Tracking Integration Accounting Integration Core HR Integration Labor ForecastingView full feature definition Shift SchedulingView full feature definition Time & Attendance Tracking Absence & Leave Management Skills Management Succession Planning Workforce Analytics Self-Service Capabilities Mobile Shift Scheduling Team Communication Social Sourcing Job Posting Candidate Sourcing Metrics Candidate Search Career Page Configuration Dashboards Workflow Building Hiring Processes Tracking Scheduling Applicant Data Management Candidate Evaluations Automated Resume Parsing Candidate-Facing Statuses",
         "4.3",
         "Core HR Software",
         "Core HR Software OnePoint HCM Organization Management Time, Attendance, and PTO Expense Management Salary Structures Compliance Benefits Administration Customization Integration APIs Internationalization User, Role, and Access Management Performance Mobility Reporting Dashboards Reporting and Dashboards User, Role, and Access Management Performance and Reliability Scalability Web Portal Benefits Manager Mobile Payroll Entry Time Off Accrual Direct Deposit Expense Reimbursement Pre-tax Deductions Wage GarnishmentView full feature definition Approvals Check/W-2 Printing Check/W-2 Delivery Tax Calculation Tax Filing Automatic Tax Payment API / Integration Time Tracking Integration Accounting Integration Core HR Integration Labor ForecastingView full feature definition Shift SchedulingView full feature definition Time & Attendance Tracking Absence & Leave Management Skills Management Succession Planning Workforce Analytics Self-Service Capabilities Mobile Shift Scheduling Team Communication Social Sourcing Job Posting Candidate Sourcing Metrics Candidate Search Career Page Configuration Dashboards Workflow Building Hiring Processes Tracking Scheduling Applicant Data Management Candidate Evaluations Automated Resume Parsing Candidate-Facing Statuses",
         "0.3183741"
        ],
        [
         "14",
         "Onclusive",
         "Report Customizability Report Exporting Scalability White Label Competitor Analysis Follower Analysis Post Performance Attribution Hashtag Analytics Sentiment Analysis Media Database Contact/Campaign Management Newsroom Media Distribution PR Planner Social Media Services Monitoring Response Desk Impact Measurement Keyword Targeting Custom Feeds and Alerts Custom Reports Dashboards Version Control Team Collaboration Media Database Record Management Relationship Management Segmentation Communications Campaign Management Engagement Tracking PR Analytics Lead Scoring Pitching Campaign Scheduling Follow-ups Broadcast Media Print Media Online Media Local Media National Media International Media Social Measurement Influencer Identification Brand Monitoring Keyword Tracking Trend Analysis Competitor Analysis Sentiment Analysis Social Reporting Alerts and Notifications Advanced Data Filtering Content Management Customization White Label Media Kits Contact Management Omnichannel Distribution Analytics Publication Scheduling Tools Media Monitoring Influencer Recruitment Influencer Scoring Audience AnalysisView full feature definition Influencer Segmentation Influencer Collaboration User-Generated Content (UGC) Management Content Approval Campaign Analytics Reporting and Dashboards Data Importing and Exporting Tools Influencer Whitelisting Influencer Compensation Social Commerce E-Commerce Integration",
         "4.4",
         "Public Relations (PR) Software",
         "Public Relations (PR) Software Onclusive Report Customizability Report Exporting Scalability White Label Competitor Analysis Follower Analysis Post Performance Attribution Hashtag Analytics Sentiment Analysis Media Database Contact/Campaign Management Newsroom Media Distribution PR Planner Social Media Services Monitoring Response Desk Impact Measurement Keyword Targeting Custom Feeds and Alerts Custom Reports Dashboards Version Control Team Collaboration Media Database Record Management Relationship Management Segmentation Communications Campaign Management Engagement Tracking PR Analytics Lead Scoring Pitching Campaign Scheduling Follow-ups Broadcast Media Print Media Online Media Local Media National Media International Media Social Measurement Influencer Identification Brand Monitoring Keyword Tracking Trend Analysis Competitor Analysis Sentiment Analysis Social Reporting Alerts and Notifications Advanced Data Filtering Content Management Customization White Label Media Kits Contact Management Omnichannel Distribution Analytics Publication Scheduling Tools Media Monitoring Influencer Recruitment Influencer Scoring Audience AnalysisView full feature definition Influencer Segmentation Influencer Collaboration User-Generated Content (UGC) Management Content Approval Campaign Analytics Reporting and Dashboards Data Importing and Exporting Tools Influencer Whitelisting Influencer Compensation Social Commerce E-Commerce Integration",
         "0.26978382"
        ],
        [
         "15",
         "OneCause",
         "Reporting Interaction Tracking Automation Donor Profiles Bid Confirmation Payment Processing Reporting Campaign Management Online Donation Portal Event Planning Recurring Donations Peer-to-peer Fundraising Mobile Capabilities Email Marketing Auction Listings Bidding Window Auction Type Ticketing Mobile Bidding Fundraising Bidder Profiles Sorting Bid Alerts",
         "4.7",
         "Auction Software",
         "Auction Software OneCause Reporting Interaction Tracking Automation Donor Profiles Bid Confirmation Payment Processing Reporting Campaign Management Online Donation Portal Event Planning Recurring Donations Peer-to-peer Fundraising Mobile Capabilities Email Marketing Auction Listings Bidding Window Auction Type Ticketing Mobile Bidding Fundraising Bidder Profiles Sorting Bid Alerts",
         "0.42981824"
        ],
        [
         "16",
         "DeepL",
         "Direct Text Translation Document Translation Real-time Translation Batch Translation Auto-Detect Language Customer Service Focused Browser Application Pay-Per-Use Free Offering",
         "4.6",
         "Localization Software",
         "Localization Software DeepL Direct Text Translation Document Translation Real-time Translation Batch Translation Auto-Detect Language Customer Service Focused Browser Application Pay-Per-Use Free Offering",
         "0.15925461"
        ],
        [
         "17",
         "HackerEarth Assessments",
         "Integrations Interoperability Performance Reporting Interoperability Performance User, Role, and Access Management File Sharing Content Library Customization Technical Screening Coding Development Reports Technology File Sharing Customization Dashboard Mobility Payment Soft Skills Testing Additional Tools Mobility Messaging Task Management Dashboards Skill Gap Analysis Skill Assessment Projects Comprehension Checks Course Recommendation Engine Learning Paths Channels Interactive Content Video Content Advanced Analytics SSO API Access",
         "4.5",
         "Recruiting Software",
         "Recruiting Software HackerEarth Assessments Integrations Interoperability Performance Reporting Interoperability Performance User, Role, and Access Management File Sharing Content Library Customization Technical Screening Coding Development Reports Technology File Sharing Customization Dashboard Mobility Payment Soft Skills Testing Additional Tools Mobility Messaging Task Management Dashboards Skill Gap Analysis Skill Assessment Projects Comprehension Checks Course Recommendation Engine Learning Paths Channels Interactive Content Video Content Advanced Analytics SSO API Access",
         "0.28517008"
        ],
        [
         "18",
         "HCL Domino",
         "UI Code Extending Programming Code Extending Customized Branding Application Templates Workflows Data Migration Data Synchronization Data Security Application Deployment Platform Compatability Lifecycle Management Ease of Use File Management Multi-Language Support Customization Straight-Out-the-Box Functionality Help Guides Patching & Updates",
         "4.4",
         "Application Development Software",
         "Application Development Software HCL Domino UI Code Extending Programming Code Extending Customized Branding Application Templates Workflows Data Migration Data Synchronization Data Security Application Deployment Platform Compatability Lifecycle Management Ease of Use File Management Multi-Language Support Customization Straight-Out-the-Box Functionality Help Guides Patching & Updates",
         "0.23488607"
        ],
        [
         "19",
         "Guideline",
         "Administrators Employees Balances Investments Personal Information IRS Tax Benefits Monitoring Reporting",
         "4.4",
         "401(k) Software",
         "401(k) Software Guideline Administrators Employees Balances Investments Personal Information IRS Tax Benefits Monitoring Reporting",
         "0.39934468"
        ],
        [
         "20",
         "Hatica",
         "Historical Data Consolidation Data Context Testing Integration Repository Integration Analytics and Trends Productivity Updates Metric Relevance Insight Impact Predictions Report Generation Planning Tools Communication Tools Control",
         "4.7",
         "Software Development Analytics Tools",
         "Software Development Analytics Tools Hatica Historical Data Consolidation Data Context Testing Integration Repository Integration Analytics and Trends Productivity Updates Metric Relevance Insight Impact Predictions Report Generation Planning Tools Communication Tools Control",
         "0.40988445"
        ],
        [
         "21",
         "Deel",
         "Organization Management Time, Attendance, and PTO Expense Management Compliance Benefits Administration Customization Integration APIs Internationalization User, Role, and Access Management Performance Mobility Reporting Dashboards Reporting APIs / Integration Internationalization Performance and Reliability Mobile User Support Offline Reporting and Dashboards User, Role, and Access Management Performance and Reliability Scalability Tools Management Access Ease of Completing Timesheets Tracking Time to Project/Task Billable Time Rate Management Invoice Creation and Delivery Electronic Payments Project Accounting / Revenue Recognition Time Tracking Business Tool Integration Workflow Automated Reminders User, Role, and Access Management Payroll Entry Time Off Accrual Direct Deposit Expense Reimbursement Pre-tax Deductions Wage GarnishmentView full feature definition Approvals Check/W-2 Printing Project Planning Search Reporting Web Portal Benefits Manager Mobile Tax Calculation Tax Filing Automatic Tax Payment API / Integration Time Tracking Integration Accounting Integration Core HR Integration HR/HCM Finance Other Forms Library E-Forms E-Signature Background Checks Offer Letter Approvals Offer Letter Templates Automation Content Library Employee Pulse Surveys Survey Customization Goal and Challenge Creation Contracts Invoicing Tool Self-Service Portal Automated Team Introductions Automated Onboarding Workflows Onboarding Notifications Onboarding Pre-qualifiation Employee Segmenting Goal and Challenge Creation Reporting Mobility Portal Onboarding Process Reporting Visualization Visualization Platform Search Alerts and Notifications Compliance Support Safety Program Certified Assistance Governance Country-Specific Internal Policies Scale Specialist Guidance Consulting Invoicing Implementation Support Assistance Process Automation Dashboards & Reporting Dashboard & Reporting Integration Analytics Export Employee Directory Schedule Creation Tools Employee Leave Management User Access User Role Access Employee Information Employee Information Automation Employee Portal Additional Tools Central Dashboard Asset Policy Management Risk Management Integrations Regulations Enforcement Compliance Monitoring Integration Services Additional Tools Multi Country Data Consolidation Data Quality Rules Benchmarking Cost Tracking Dashboards Update Restructure Interoperability Performance Interoperability Performance Portal Performance Benchmarking Reporting & Dashboards Interoperability Payment Dashboard Reporting Interoperability Performance Performance Portal Reporting Interoperability Performance Monitoring Document management Requalification Compliance Interview Scheduling Onboarding Hardware Asset Inventory Software Asset Inventory Cloud Asset Inventory Mobile Asset Inventory Asset Discovery Employee Tracking Employee Development Career Development Dashboard Mobility Messaging Task Management Payment Portal Integrations 360 Reviews Customizable Forms Review Status Tracking Goal-Setting Company Goals And OKRs Continuous Feedback Requesting Feedback 1-On-1 Meetings Public Praise Dashboards And Reports Historical Data Skills Library Skill Mapping Employee Skill Assignment Included Framework Integrations Compliance Reporting Document management Invoicing Tool Wage access Score Cards Customizability Graphs and Charts Dashboards Filtering Levels of Measurement Transformation International Hiring Support Pre-built Integrations Compliance Managenent Analytics Hiring Support HCM and HRMS Entrepreneur Immigration and Relocation Other Benefits AI Text Generation AI Text Summarization AI Text Summarization AI Text Summarization AI Text-to-Image AI Text Generation AI Image-to-Text AI Text Summarization AI Text Generation AI Text Generation",
         "4.8",
         "Multi-Country Payroll Software",
         "Multi-Country Payroll Software Deel Organization Management Time, Attendance, and PTO Expense Management Compliance Benefits Administration Customization Integration APIs Internationalization User, Role, and Access Management Performance Mobility Reporting Dashboards Reporting APIs / Integration Internationalization Performance and Reliability Mobile User Support Offline Reporting and Dashboards User, Role, and Access Management Performance and Reliability Scalability Tools Management Access Ease of Completing Timesheets Tracking Time to Project/Task Billable Time Rate Management Invoice Creation and Delivery Electronic Payments Project Accounting / Revenue Recognition Time Tracking Business Tool Integration Workflow Automated Reminders User, Role, and Access Management Payroll Entry Time Off Accrual Direct Deposit Expense Reimbursement Pre-tax Deductions Wage GarnishmentView full feature definition Approvals Check/W-2 Printing Project Planning Search Reporting Web Portal Benefits Manager Mobile Tax Calculation Tax Filing Automatic Tax Payment API / Integration Time Tracking Integration Accounting Integration Core HR Integration HR/HCM Finance Other Forms Library E-Forms E-Signature Background Checks Offer Letter Approvals Offer Letter Templates Automation Content Library Employee Pulse Surveys Survey Customization Goal and Challenge Creation Contracts Invoicing Tool Self-Service Portal Automated Team Introductions Automated Onboarding Workflows Onboarding Notifications Onboarding Pre-qualifiation Employee Segmenting Goal and Challenge Creation Reporting Mobility Portal Onboarding Process Reporting Visualization Visualization Platform Search Alerts and Notifications Compliance Support Safety Program Certified Assistance Governance Country-Specific Internal Policies Scale Specialist Guidance Consulting Invoicing Implementation Support Assistance Process Automation Dashboards & Reporting Dashboard & Reporting Integration Analytics Export Employee Directory Schedule Creation Tools Employee Leave Management User Access User Role Access Employee Information Employee Information Automation Employee Portal Additional Tools Central Dashboard Asset Policy Management Risk Management Integrations Regulations Enforcement Compliance Monitoring Integration Services Additional Tools Multi Country Data Consolidation Data Quality Rules Benchmarking Cost Tracking Dashboards Update Restructure Interoperability Performance Interoperability Performance Portal Performance Benchmarking Reporting & Dashboards Interoperability Payment Dashboard Reporting Interoperability Performance Performance Portal Reporting Interoperability Performance Monitoring Document management Requalification Compliance Interview Scheduling Onboarding Hardware Asset Inventory Software Asset Inventory Cloud Asset Inventory Mobile Asset Inventory Asset Discovery Employee Tracking Employee Development Career Development Dashboard Mobility Messaging Task Management Payment Portal Integrations 360 Reviews Customizable Forms Review Status Tracking Goal-Setting Company Goals And OKRs Continuous Feedback Requesting Feedback 1-On-1 Meetings Public Praise Dashboards And Reports Historical Data Skills Library Skill Mapping Employee Skill Assignment Included Framework Integrations Compliance Reporting Document management Invoicing Tool Wage access Score Cards Customizability Graphs and Charts Dashboards Filtering Levels of Measurement Transformation International Hiring Support Pre-built Integrations Compliance Managenent Analytics Hiring Support HCM and HRMS Entrepreneur Immigration and Relocation Other Benefits AI Text Generation AI Text Summarization AI Text Summarization AI Text Summarization AI Text-to-Image AI Text Generation AI Image-to-Text AI Text Summarization AI Text Generation AI Text Generation",
         "0.3855301"
        ],
        [
         "22",
         "Proofpoint Security Awareness Training",
         "Continuous Assesment Phishing Assesment Baselining Content Library Interactive Training Gamification Risk-scoring Customization White-Labeling Reporting",
         "4.5",
         "Vulnerability Management Software",
         "Vulnerability Management Software Proofpoint Security Awareness Training Continuous Assesment Phishing Assesment Baselining Content Library Interactive Training Gamification Risk-scoring Customization White-Labeling Reporting",
         "0.13264056"
        ],
        [
         "23",
         "Dashlane Password Manager",
         "Authentication User experience Supports Required Authentication systems Multi-Factor Authentication Supports Required Authentication Methods/Protocols Federation/SAML support (idp) Federation/SAML support (sp) Administration Console Multiple Operating system support Cross Browser support Reporting Auditing Third Party Web Services support Quick Login Browser Extension Mobile App Usability Multi-Device Use Admin Management Password Generator Two-Factor AuthenticationView full feature definition Security Audits Digital Wallet File Storage",
         "4.5",
         "Identity Management Software",
         "Identity Management Software Dashlane Password Manager Authentication User experience Supports Required Authentication systems Multi-Factor Authentication Supports Required Authentication Methods/Protocols Federation/SAML support (idp) Federation/SAML support (sp) Administration Console Multiple Operating system support Cross Browser support Reporting Auditing Third Party Web Services support Quick Login Browser Extension Mobile App Usability Multi-Device Use Admin Management Password Generator Two-Factor AuthenticationView full feature definition Security Audits Digital Wallet File Storage",
         "0.2114069"
        ],
        [
         "24",
         "Teradata Vantage",
         "Reports Interface Steps to Answer Graphs and Charts Score Cards Dashboards Calculated Fields Data Column Filtering Data Discovery Search Collaboration / Workflow Automodeling Predictive Analytics Data Visualization Big Data Services Data Transformation Data Modeling WYSIWYG Report Design Integration APIs Storage Availability Stability Scalability Security Data ManipulationView full feature definition Query Language Real-Time Data Collection Data Distribution Data Lake Hadoop Integration Spark Integration Machine Scaling Data Preparation Spark Integration Cloud Processing Workload Processing Real-Time Analytics Data Querying Hadoop Integration Spark Integration Multi-Source Analysis Data Lake Data Visualization Data Workflow Governed Discovery Embedded Analytics Notebooks Data Modelling Recommendations Workflow Management Dashboards and Visualizations Sensitive Data Compliance Training and Guidelines Policy Enforcement Compliance Monitoring Data Preparation Data Distribution Data Unification Connectors Data Governance Data Querying Data Filtering Data Blending Dynamic Segmentation Journey Optimization Journey Reporting Trends Reporting Dashboards Advanced Data Filtering Journey Mapping Integrations Automated Alerts Data Integration Data Compression Data Quality Built-In Data Analytics In-Database Machine Learning Data Lake Analytics AI/ ML Integration BI Tool Integration Data lake Integration On-Premise Cloud Scalability Disaster Recovery Data Concurrency Workload Management Advanced Indexing Query Optimizer Data Migration Backup and Recovery Multi-User Environment Data dictionary Data Replication Query Language Data ModelingView full feature definition Performance Analysis Business Glossary Data Discovery Data Profililng Reporting and Visualization Data Lineage Data Encryption User Access Control Database Locking Access Control Encryption Authentication Data Governance Data Security Access Control Roles Management Compliance Management Text Search Data Types Languages Operating Systems Data Schema Query Language ACID - Complaint Data Replication Data Quality Management Policy Management AI Text Generation AI Text Summarization AI Text Generation AI Text Summarization AI Text Generation AI Text Summarization",
         "4.3",
         "Data Warehouse Solutions",
         "Data Warehouse Solutions Teradata Vantage Reports Interface Steps to Answer Graphs and Charts Score Cards Dashboards Calculated Fields Data Column Filtering Data Discovery Search Collaboration / Workflow Automodeling Predictive Analytics Data Visualization Big Data Services Data Transformation Data Modeling WYSIWYG Report Design Integration APIs Storage Availability Stability Scalability Security Data ManipulationView full feature definition Query Language Real-Time Data Collection Data Distribution Data Lake Hadoop Integration Spark Integration Machine Scaling Data Preparation Spark Integration Cloud Processing Workload Processing Real-Time Analytics Data Querying Hadoop Integration Spark Integration Multi-Source Analysis Data Lake Data Visualization Data Workflow Governed Discovery Embedded Analytics Notebooks Data Modelling Recommendations Workflow Management Dashboards and Visualizations Sensitive Data Compliance Training and Guidelines Policy Enforcement Compliance Monitoring Data Preparation Data Distribution Data Unification Connectors Data Governance Data Querying Data Filtering Data Blending Dynamic Segmentation Journey Optimization Journey Reporting Trends Reporting Dashboards Advanced Data Filtering Journey Mapping Integrations Automated Alerts Data Integration Data Compression Data Quality Built-In Data Analytics In-Database Machine Learning Data Lake Analytics AI/ ML Integration BI Tool Integration Data lake Integration On-Premise Cloud Scalability Disaster Recovery Data Concurrency Workload Management Advanced Indexing Query Optimizer Data Migration Backup and Recovery Multi-User Environment Data dictionary Data Replication Query Language Data ModelingView full feature definition Performance Analysis Business Glossary Data Discovery Data Profililng Reporting and Visualization Data Lineage Data Encryption User Access Control Database Locking Access Control Encryption Authentication Data Governance Data Security Access Control Roles Management Compliance Management Text Search Data Types Languages Operating Systems Data Schema Query Language ACID - Complaint Data Replication Data Quality Management Policy Management AI Text Generation AI Text Summarization AI Text Generation AI Text Summarization AI Text Generation AI Text Summarization",
         "0.2480754"
        ],
        [
         "25",
         "Prolifiq.ai CRUSH",
         "Badges Triggers Commission Calculator Leaderboards Profiles Custom Reports Dashboards Goal Setting Integration Employee Structure Flexible Sales Process Training Mode Playbooks Opportunity Identification Zero-touch Renewals Smart Content Multiple Org Charts Stakeholder Roles",
         "4.7",
         "Sales Acceleration Software",
         "Sales Acceleration Software Prolifiq.ai CRUSH Badges Triggers Commission Calculator Leaderboards Profiles Custom Reports Dashboards Goal Setting Integration Employee Structure Flexible Sales Process Training Mode Playbooks Opportunity Identification Zero-touch Renewals Smart Content Multiple Org Charts Stakeholder Roles",
         "0.27346754"
        ],
        [
         "26",
         "VWO Testing",
         "A/B Testing WYSIWYG Editor Conversion Goal Percentage of Traffic Confidence Level Multivariant Testing Segmentation Reports and Dashboards Standard Targeting Custom Targeting Data Segmentation Recommendation Content Cart Abandonment Search Personalization Engine Product Recommendations A/B Testing Personalized Messaging API / Integrations QA TestingView full feature definition Performance and Reliability User, Role, and Access Management Monitoring Targeting Guided Selling Library Customization Optimization Web Email Mobile A/B Testing Customer Profiles Behavioral Targeting Contextual Targeting Geofencing Triggered Emails Triggered Messages Recommendation Engine Personalized Discounts Website Personalization Marketing Campaigns Reports & Analytics User Data Integrations Flag Management Rollout & Rollback Control Monitoring Multi-Environment Control Feature Testing Low-Code Interface Reporting and Analytics Heatmaps Multivariate testing capacities Concurrent Testing Mobile Testing WYSIWYG AI/Machine Learning Little to No Coding",
         "4.3",
         "Conversion Rate Optimization Tools",
         "Conversion Rate Optimization Tools VWO Testing A/B Testing WYSIWYG Editor Conversion Goal Percentage of Traffic Confidence Level Multivariant Testing Segmentation Reports and Dashboards Standard Targeting Custom Targeting Data Segmentation Recommendation Content Cart Abandonment Search Personalization Engine Product Recommendations A/B Testing Personalized Messaging API / Integrations QA TestingView full feature definition Performance and Reliability User, Role, and Access Management Monitoring Targeting Guided Selling Library Customization Optimization Web Email Mobile A/B Testing Customer Profiles Behavioral Targeting Contextual Targeting Geofencing Triggered Emails Triggered Messages Recommendation Engine Personalized Discounts Website Personalization Marketing Campaigns Reports & Analytics User Data Integrations Flag Management Rollout & Rollback Control Monitoring Multi-Environment Control Feature Testing Low-Code Interface Reporting and Analytics Heatmaps Multivariate testing capacities Concurrent Testing Mobile Testing WYSIWYG AI/Machine Learning Little to No Coding",
         "0.2930532"
        ],
        [
         "27",
         "Phonexa",
         "Local Phone Numbers Toll-Free Numbers Port Existing Numbers Visitor & Keyword Tracking Dynamic Number Insertion Multi-Channel Call Attribution IVR Call Scheduling Geo-Routing Call Data Call Recording Advanced Reporting Conversation Intelligence Export/Import Reporting ROI Tracking Data Collection Customer Insights Multi-User Access Spend Management White Label Campaign Insights Reports and Dashboards Campaign Stickiness Multichannel Tracking Brand Optimization Predictive Analytics Record Calls Generate Location Call Types Click-to-Call Personalization Information Locater Record Prospect Data Notes Daily Summary Automated Voicemails Automated Emails Sorts Prospects Custom Links Referral Link Generator Smart Link Email Updates Affiliate Tracking Cookieless Tracking Single-Touch Attribution Multi-Touch Attribution Algorithmic Attribution Cross-Device Attribution Offline Attribution Custom Attribution B2B Attribution B2C Attribution Marketing Channels Integrations Dashboards Data Visualizations Custom Reporting Martech Integrations Privacy, Security, and Compliance Performance and Reliability Features Performance Identification Mobile Websites Social Media Data Forms Personalization Templates Integration Custom Fields Conditional Logic Multi-page Forms Design Affiliate Network Commissions and Payouts Customization Embedded Forms Offline Capability Notifications Payments Mobile Forms",
         "4.9",
         "Inbound Call Tracking Software",
         "Inbound Call Tracking Software Phonexa Local Phone Numbers Toll-Free Numbers Port Existing Numbers Visitor & Keyword Tracking Dynamic Number Insertion Multi-Channel Call Attribution IVR Call Scheduling Geo-Routing Call Data Call Recording Advanced Reporting Conversation Intelligence Export/Import Reporting ROI Tracking Data Collection Customer Insights Multi-User Access Spend Management White Label Campaign Insights Reports and Dashboards Campaign Stickiness Multichannel Tracking Brand Optimization Predictive Analytics Record Calls Generate Location Call Types Click-to-Call Personalization Information Locater Record Prospect Data Notes Daily Summary Automated Voicemails Automated Emails Sorts Prospects Custom Links Referral Link Generator Smart Link Email Updates Affiliate Tracking Cookieless Tracking Single-Touch Attribution Multi-Touch Attribution Algorithmic Attribution Cross-Device Attribution Offline Attribution Custom Attribution B2B Attribution B2C Attribution Marketing Channels Integrations Dashboards Data Visualizations Custom Reporting Martech Integrations Privacy, Security, and Compliance Performance and Reliability Features Performance Identification Mobile Websites Social Media Data Forms Personalization Templates Integration Custom Fields Conditional Logic Multi-page Forms Design Affiliate Network Commissions and Payouts Customization Embedded Forms Offline Capability Notifications Payments Mobile Forms",
         "0.27405944"
        ],
        [
         "28",
         "DataCamp",
         "Skill Gap Analysis Skill Assessment Projects Comprehension Checks Course Recommendation Engine Learning Paths Channels Interactive Content Video Content Manager Portals Content Libraries Advanced Analytics SSO API Access Personalized recommendations High-quality content Video content Projects In-course assessments Certification practice tests Team-level monitoring Administrative dashboard Certificates Mobile compatibility Offline access Single sign-on (SSO) Progress Reports Course Completion Course Access Education ERP System Learning Management System Help and Support",
         "4.6",
         "Education Software",
         "Education Software DataCamp Skill Gap Analysis Skill Assessment Projects Comprehension Checks Course Recommendation Engine Learning Paths Channels Interactive Content Video Content Manager Portals Content Libraries Advanced Analytics SSO API Access Personalized recommendations High-quality content Video content Projects In-course assessments Certification practice tests Team-level monitoring Administrative dashboard Certificates Mobile compatibility Offline access Single sign-on (SSO) Progress Reports Course Completion Course Access Education ERP System Learning Management System Help and Support",
         "0.26662713"
        ],
        [
         "29",
         "Teramind",
         "Interactions Web Usage Screenshots Web Blocking Screen Recording Keystroke Logging Sentiment Analysis Calls Email Social Media Live Chat Reports Archives Data Management Incident Logs Reporting Access Control Compliance Data Visibility Encryption Endpoint Intelligence Activity Monitoring Breach Detection Continuous Analysis Behavioral Analysis Data Context Activity Logging Anomaly Detection Incident Alerts Activity Monitoring Silent Deploy Detect Data Movement File and Application Activity Trigger Alerts Searchable Evidence Risk Scoring Project Hours Intelligence Burnout",
         "4.6",
         "Employee Monitoring Software",
         "Employee Monitoring Software Teramind Interactions Web Usage Screenshots Web Blocking Screen Recording Keystroke Logging Sentiment Analysis Calls Email Social Media Live Chat Reports Archives Data Management Incident Logs Reporting Access Control Compliance Data Visibility Encryption Endpoint Intelligence Activity Monitoring Breach Detection Continuous Analysis Behavioral Analysis Data Context Activity Logging Anomaly Detection Incident Alerts Activity Monitoring Silent Deploy Detect Data Movement File and Application Activity Trigger Alerts Searchable Evidence Risk Scoring Project Hours Intelligence Burnout",
         "0.27022696"
        ],
        [
         "30",
         "Workleap Officevibe",
         "Customization Integration APIs Internationalization User, Role, and Access Management Performance Mobility Reporting Dashboards Feedback Confidence Levels Messaging Integrations Onboarding Team OKR Individual OKR Mind Mapping Action Item Creation Performance Benchmarking Reporting & Dashboards Interoperability Reporting Dashboard Performance Employee Pulse Surveys Survey Customization Goal and Challenge Creation Science-based templates Automation File Sharing Content Library Employee Segmenting Goal and Challenge Creation Peer RecognitionView full feature definition Social Feedback Portal Integrations Mobility Corporate Discounts Employee Engagement Rewards 360 Reviews Customizable Forms Review Status Tracking Goal-Setting Company Goals And OKRs Continuous Feedback Requesting Feedback 1-On-1 Meetings Public Praise Dashboards And Reports Historical Data Employee Lifecycle Management Communication Action Plan Productivity Digital Experience Management Benchmarking Employee Listening Performance Management Learning Team Building",
         "4.3",
         "Talent Management Software",
         "Talent Management Software Workleap Officevibe Customization Integration APIs Internationalization User, Role, and Access Management Performance Mobility Reporting Dashboards Feedback Confidence Levels Messaging Integrations Onboarding Team OKR Individual OKR Mind Mapping Action Item Creation Performance Benchmarking Reporting & Dashboards Interoperability Reporting Dashboard Performance Employee Pulse Surveys Survey Customization Goal and Challenge Creation Science-based templates Automation File Sharing Content Library Employee Segmenting Goal and Challenge Creation Peer RecognitionView full feature definition Social Feedback Portal Integrations Mobility Corporate Discounts Employee Engagement Rewards 360 Reviews Customizable Forms Review Status Tracking Goal-Setting Company Goals And OKRs Continuous Feedback Requesting Feedback 1-On-1 Meetings Public Praise Dashboards And Reports Historical Data Employee Lifecycle Management Communication Action Plan Productivity Digital Experience Management Benchmarking Employee Listening Performance Management Learning Team Building",
         "0.28773618"
        ],
        [
         "31",
         "WiseStamp",
         "Designed Templates Advanced Template Customization Image Editor Departments Auto Updates Email Distribution Collaboration A/B Testing Banner Advertising Account-Based Marketing Analytics Tracking Marketing Automation Integrations Email Software Integrations Editor Rights Mobile Compatibility Cloning",
         "4.6",
         "Email Signature Software",
         "Email Signature Software WiseStamp Designed Templates Advanced Template Customization Image Editor Departments Auto Updates Email Distribution Collaboration A/B Testing Banner Advertising Account-Based Marketing Analytics Tracking Marketing Automation Integrations Email Software Integrations Editor Rights Mobile Compatibility Cloning",
         "0.3789937"
        ],
        [
         "32",
         "PhishingBox",
         "Continuous Assesment Phishing Assesment Baselining Content Library Interactive Training Gamification Risk-scoring Customization White-Labeling Reporting",
         "4.5",
         "Vulnerability Management Software",
         "Vulnerability Management Software PhishingBox Continuous Assesment Phishing Assesment Baselining Content Library Interactive Training Gamification Risk-scoring Customization White-Labeling Reporting",
         "0.13567345"
        ],
        [
         "33",
         "PeoplesHR",
         "Organization Management Time, Attendance, and PTO Expense Management Salary Structures Compliance Benefits Administration Customization Integration APIs Internationalization User, Role, and Access Management Performance Mobility Reporting Dashboards Reporting APIs / Integration Internationalization Performance and Reliability Mobile User Support Offline Reporting and Dashboards User, Role, and Access Management Performance and Reliability Scalability Ease of Completing Timesheets Tracking Time to Project/Task Billable Time Rate Management Invoice Creation and Delivery Electronic Payments Project Accounting / Revenue Recognition Time Tracking Business Tool Integration Workflow Automated Reminders Policy Compliance ManagementView full feature definition User, Role, and Access Management Payroll Entry Time Off Accrual Direct Deposit Expense Reimbursement Pre-tax Deductions Wage GarnishmentView full feature definition Approvals Check/W-2 Printing Check/W-2 Delivery Web Portal Benefits Manager Mobile Tax Calculation Tax Filing Automatic Tax Payment API / Integration Time Tracking Integration Accounting Integration Core HR Integration HR/HCM Finance Other Benefits Record Management Enrollment PlanningView full feature definition Third-Party Carrier Integration Document Management Total Compensation Statements Self-Service Portal Regulatory Compliance Mobile Benefits Access Benefits Record Management Enrollment PlanningView full feature definition Third-Party Carrier Integration Document Management Total Compensation Statements Self-Service Portal Regulatory Compliance Benefits Dashboards Mobile Benefits Access Integrations / APIs Internationalization Mobility Forms Library E-Forms E-Signature Background Checks Offer Letter Approvals Offer Letter Templates Enrollment Planning Dashboard Education Benefits Record Management Self-Service Portal Automated Team Introductions Compliance Training Automated Onboarding Workflows Onboarding Notifications Mobility Regulatory Compliance Third-Party Carrier Integration Time-to-Productivity Reporting Onboarding Process Reporting Visualization Process Automation Dashboards & Reporting Data Collection Lanuguage Options Internal Communication User, Role and Access Management Integrations & APIs User, Role and Access Management Schedule Creation Tools Schedule Management Employee Leave Management User Access User Role Access Employee Information Employee Information Automation Regulations Enforcement Compliance Monitoring Integration Multi Country Data Consolidation Data Quality Rules Governance Country-Specific Internal Policies Benchmarking Cost Tracking Dashboards Interoperability Performance Process Survey Interoperability Performance Reporting Alerts and Notifications Reporting Dashboards & Reporting Dashboards And Reports Historical Data Automation Content Creation Distribution Features Interview Scheduling Onboarding Job Posting Sourcing and Candidate Identification Job Posting Interview Scheduling Applicant Tracking Reporting Interoperability Performance Reporting Monitoring 360 Reviews Customizable Forms Review Status Tracking Goal-Setting Company Goals And OKRs Continuous Feedback Requesting Feedback 1-On-1 Meetings Public Praise Score Cards Customizability Graphs and Charts Dashboards Filtering Levels of Measurement Transformation",
         "4.4",
         "Core HR Software",
         "Core HR Software PeoplesHR Organization Management Time, Attendance, and PTO Expense Management Salary Structures Compliance Benefits Administration Customization Integration APIs Internationalization User, Role, and Access Management Performance Mobility Reporting Dashboards Reporting APIs / Integration Internationalization Performance and Reliability Mobile User Support Offline Reporting and Dashboards User, Role, and Access Management Performance and Reliability Scalability Ease of Completing Timesheets Tracking Time to Project/Task Billable Time Rate Management Invoice Creation and Delivery Electronic Payments Project Accounting / Revenue Recognition Time Tracking Business Tool Integration Workflow Automated Reminders Policy Compliance ManagementView full feature definition User, Role, and Access Management Payroll Entry Time Off Accrual Direct Deposit Expense Reimbursement Pre-tax Deductions Wage GarnishmentView full feature definition Approvals Check/W-2 Printing Check/W-2 Delivery Web Portal Benefits Manager Mobile Tax Calculation Tax Filing Automatic Tax Payment API / Integration Time Tracking Integration Accounting Integration Core HR Integration HR/HCM Finance Other Benefits Record Management Enrollment PlanningView full feature definition Third-Party Carrier Integration Document Management Total Compensation Statements Self-Service Portal Regulatory Compliance Mobile Benefits Access Benefits Record Management Enrollment PlanningView full feature definition Third-Party Carrier Integration Document Management Total Compensation Statements Self-Service Portal Regulatory Compliance Benefits Dashboards Mobile Benefits Access Integrations / APIs Internationalization Mobility Forms Library E-Forms E-Signature Background Checks Offer Letter Approvals Offer Letter Templates Enrollment Planning Dashboard Education Benefits Record Management Self-Service Portal Automated Team Introductions Compliance Training Automated Onboarding Workflows Onboarding Notifications Mobility Regulatory Compliance Third-Party Carrier Integration Time-to-Productivity Reporting Onboarding Process Reporting Visualization Process Automation Dashboards & Reporting Data Collection Lanuguage Options Internal Communication User, Role and Access Management Integrations & APIs User, Role and Access Management Schedule Creation Tools Schedule Management Employee Leave Management User Access User Role Access Employee Information Employee Information Automation Regulations Enforcement Compliance Monitoring Integration Multi Country Data Consolidation Data Quality Rules Governance Country-Specific Internal Policies Benchmarking Cost Tracking Dashboards Interoperability Performance Process Survey Interoperability Performance Reporting Alerts and Notifications Reporting Dashboards & Reporting Dashboards And Reports Historical Data Automation Content Creation Distribution Features Interview Scheduling Onboarding Job Posting Sourcing and Candidate Identification Job Posting Interview Scheduling Applicant Tracking Reporting Interoperability Performance Reporting Monitoring 360 Reviews Customizable Forms Review Status Tracking Goal-Setting Company Goals And OKRs Continuous Feedback Requesting Feedback 1-On-1 Meetings Public Praise Score Cards Customizability Graphs and Charts Dashboards Filtering Levels of Measurement Transformation",
         "0.3263989"
        ],
        [
         "34",
         "Projectworks",
         "Customization Integration APIs Internationalization User, Role, and Access Management Performance Mobility Reporting Dashboards Reporting APIs / Integration Internationalization Performance and Reliability Mobile User Support Offline APIs Internationalization Performance and Reliability Mobile Offline Access Ease of Completing Timesheets Tracking Time to Project/Task Billable Time Rate Management Invoice Creation and Delivery Project Accounting / Revenue Recognition Time Tracking Business Tool Integration Workflow Automated Reminders Policy Compliance ManagementView full feature definition User, Role, and Access Management Standard Integrations Workflow Access Management Permissions Procedures Remote Work Creation & Assignment Due Dates Task Prioritization To-Do Lists Dependecies Mass Updates Drag & Drop Recurring Tasks Planning Project Map GANTT Calendar View Views Project Budgeting Issue Tracking Templates Critical Path Time & Expense Methodologies Resource Definiton Capacity Scheduling Baselining / KPIs Resource Allocation Dashboards Labor ForecastingView full feature definition Shift SchedulingView full feature definition Time & Attendance Tracking Absence & Leave Management Skills Management Succession Planning Workforce Analytics Self-Service Capabilities Mobile Shift Scheduling Team Communication Identification Allocation Standard Costs Resource Definiton Capacity Scheduling Performance Forecasting Corrections Customer Profiles Sales Marketing Client Portal Project Planning Project Tracking Resource Definition Resource Management Revenue Recognition Invoice Management Payments Project Accounting Budget Tracking Portfolio Definition Portfolio Performance Risk Portfolio Mix Forecasting Reporting KPIs Workflows Customization Data repository Task Prioritization Dependecies Planning Views Scheduling Critical Path Dashboards Resource Allocation Workspace Configuration Insights Communication Channels Document ManagementView full feature definition Collaboration Project Budgeting Time & Expense Profitability Front Office Back Office External data",
         "4.5",
         "Project, Portfolio & Program Management Software",
         "Project, Portfolio & Program Management Software Projectworks Customization Integration APIs Internationalization User, Role, and Access Management Performance Mobility Reporting Dashboards Reporting APIs / Integration Internationalization Performance and Reliability Mobile User Support Offline APIs Internationalization Performance and Reliability Mobile Offline Access Ease of Completing Timesheets Tracking Time to Project/Task Billable Time Rate Management Invoice Creation and Delivery Project Accounting / Revenue Recognition Time Tracking Business Tool Integration Workflow Automated Reminders Policy Compliance ManagementView full feature definition User, Role, and Access Management Standard Integrations Workflow Access Management Permissions Procedures Remote Work Creation & Assignment Due Dates Task Prioritization To-Do Lists Dependecies Mass Updates Drag & Drop Recurring Tasks Planning Project Map GANTT Calendar View Views Project Budgeting Issue Tracking Templates Critical Path Time & Expense Methodologies Resource Definiton Capacity Scheduling Baselining / KPIs Resource Allocation Dashboards Labor ForecastingView full feature definition Shift SchedulingView full feature definition Time & Attendance Tracking Absence & Leave Management Skills Management Succession Planning Workforce Analytics Self-Service Capabilities Mobile Shift Scheduling Team Communication Identification Allocation Standard Costs Resource Definiton Capacity Scheduling Performance Forecasting Corrections Customer Profiles Sales Marketing Client Portal Project Planning Project Tracking Resource Definition Resource Management Revenue Recognition Invoice Management Payments Project Accounting Budget Tracking Portfolio Definition Portfolio Performance Risk Portfolio Mix Forecasting Reporting KPIs Workflows Customization Data repository Task Prioritization Dependecies Planning Views Scheduling Critical Path Dashboards Resource Allocation Workspace Configuration Insights Communication Channels Document ManagementView full feature definition Collaboration Project Budgeting Time & Expense Profitability Front Office Back Office External data",
         "0.37061858"
        ],
        [
         "35",
         "BlueJeans Meetings",
         "Group Live Chat Audio Conferencing Video Conferencing Live Preview Notifications Blocker Remote Control Switch Presenter Password Protection Recording In-Browser Application Screen Sharing Presentations Whiteboarding Live Chat Hand Raising Scheduling Recording Participant Permissions One-Click Join Mobile Browser Application Desktop Application",
         "4.3",
         "Video Conferencing Software",
         "Video Conferencing Software BlueJeans Meetings Group Live Chat Audio Conferencing Video Conferencing Live Preview Notifications Blocker Remote Control Switch Presenter Password Protection Recording In-Browser Application Screen Sharing Presentations Whiteboarding Live Chat Hand Raising Scheduling Recording Participant Permissions One-Click Join Mobile Browser Application Desktop Application",
         "0.17007828"
        ],
        [
         "36",
         "Bizzabo",
         "Event creation User registration process Payment processing Mobile check-in On-site tickets and registration Event creation User registration process Mobile check-in Event website creation Email automation Email customization Contact list management Social media promotion Lead generation and retrieval Lead generation and retrieval Social media promotion Event website creation Email customization Contact list management Hotel and transportation planning Session scheduling Speaker submissions Exhibition management Event agendas and schedules Floor plans / maps Attendee networking Attendee surveys Attendee networking Attendee surveys-attendee engagement Performance and reliability Reporting and dashboards API / integrations Multiple event management Branding Role-based Access Recording Registration Attendee Live Chat Polls and Surveys Event Analytics Attendee Reports Software Integrations Event Configuration Event Marketing Speaker Access and Control Advanced Reporting Virtual Lobby Built-In Webcasting Webcasting Integrations Cross-Device Functionality Online Event Agenda Interactive Content 1:1 Networking Exhibitors/Sponsorships Meeting Scheduling Integration / APIs Virtual Networking Communication Tools Attendee Profiles Meeting Reports Prospect Intelligence Lead Capture",
         "4.3",
         "Event Management Software",
         "Event Management Software Bizzabo Event creation User registration process Payment processing Mobile check-in On-site tickets and registration Event creation User registration process Mobile check-in Event website creation Email automation Email customization Contact list management Social media promotion Lead generation and retrieval Lead generation and retrieval Social media promotion Event website creation Email customization Contact list management Hotel and transportation planning Session scheduling Speaker submissions Exhibition management Event agendas and schedules Floor plans / maps Attendee networking Attendee surveys Attendee networking Attendee surveys-attendee engagement Performance and reliability Reporting and dashboards API / integrations Multiple event management Branding Role-based Access Recording Registration Attendee Live Chat Polls and Surveys Event Analytics Attendee Reports Software Integrations Event Configuration Event Marketing Speaker Access and Control Advanced Reporting Virtual Lobby Built-In Webcasting Webcasting Integrations Cross-Device Functionality Online Event Agenda Interactive Content 1:1 Networking Exhibitors/Sponsorships Meeting Scheduling Integration / APIs Virtual Networking Communication Tools Attendee Profiles Meeting Reports Prospect Intelligence Lead Capture",
         "0.23606813"
        ],
        [
         "38",
         "BlueJeans Virtual Events",
         "Branding Role-based Access Recording Registration Attendee Live Chat Polls and Surveys Event Analytics Attendee Reports Social Media Integration Software Integrations Hosted Platform Social Media Stream Multi-Platform Streaming Embeddable Live Rewind Live Chat Pause Highlight Clips Video Archive Analytics Monetization Options",
         "4.4",
         "Webinar Platforms",
         "Webinar Platforms BlueJeans Virtual Events Branding Role-based Access Recording Registration Attendee Live Chat Polls and Surveys Event Analytics Attendee Reports Social Media Integration Software Integrations Hosted Platform Social Media Stream Multi-Platform Streaming Embeddable Live Rewind Live Chat Pause Highlight Clips Video Archive Analytics Monetization Options",
         "0.17934065"
        ],
        [
         "39",
         "Bitly",
         "Report Customizability Report Exporting Scalability White Label Competitor Analysis Follower Analysis Post Performance Paid Campaign Tracking Attribution Hashtag Analytics Sentiment Analysis Audience Insights Branded Shortlinks Link Analytics Bulk URL Creation Historical Shortlink Tracking Geographic Targeting Device/OS Targeting Digital Analytics Data Sharing and Exporting Drag and Drop Templates Advanced Customization Content Library A/B Testing Mobile Responsive Web Analytics SEO E-Commerce Integration Email Marketing Integration Domain Integration Bulk Creation Analytics Intuitive Dashboards Dynamics Codes File Formats Customization AI Text Generation",
         "4.5",
         "URL Shortener",
         "URL Shortener Bitly Report Customizability Report Exporting Scalability White Label Competitor Analysis Follower Analysis Post Performance Paid Campaign Tracking Attribution Hashtag Analytics Sentiment Analysis Audience Insights Branded Shortlinks Link Analytics Bulk URL Creation Historical Shortlink Tracking Geographic Targeting Device/OS Targeting Digital Analytics Data Sharing and Exporting Drag and Drop Templates Advanced Customization Content Library A/B Testing Mobile Responsive Web Analytics SEO E-Commerce Integration Email Marketing Integration Domain Integration Bulk Creation Analytics Intuitive Dashboards Dynamics Codes File Formats Customization AI Text Generation",
         "0.22584683"
        ],
        [
         "40",
         "Blueshift",
         "Data Import & Export Tools Integration APIs Breadth of Partner Applications Customization Workflow Capability User, Role, and Access Management Internationalization Sandbox / Test Environments Performance and Reliability Output Document Generation Building and Personalizing Emails Sending Outbound Emails Manage Email Deliverability Automated Email Responses Landing Pages and Forms Dynamic Content A/B Testing Mobile Optimized Marketing Lead Database Data Quality Management Segmentation Lead Scoring and Grading Lead Nurturing Online Behavior Tracking Automated Alerts and Tasks CRM Lead Integration Program ManagementView full feature definition Event / Webinar Marketing Calendaring Budgeting Basic Reporting Web Analytics ROI Analytics Revenue Analytics ROI Tracking Data Collection Customer Insights Multi-User Access Spend Management White Label Campaign Insights Reports and Dashboards Campaign Stickiness Multichannel Tracking Brand Optimization Predictive Analytics Data Enrichment Expandability Multiple Devices Marketing Metrics Predictive Modeling Recommendation Engine",
         "4.4",
         "Customer Data Platforms (CDP)",
         "Customer Data Platforms (CDP) Blueshift Data Import & Export Tools Integration APIs Breadth of Partner Applications Customization Workflow Capability User, Role, and Access Management Internationalization Sandbox / Test Environments Performance and Reliability Output Document Generation Building and Personalizing Emails Sending Outbound Emails Manage Email Deliverability Automated Email Responses Landing Pages and Forms Dynamic Content A/B Testing Mobile Optimized Marketing Lead Database Data Quality Management Segmentation Lead Scoring and Grading Lead Nurturing Online Behavior Tracking Automated Alerts and Tasks CRM Lead Integration Program ManagementView full feature definition Event / Webinar Marketing Calendaring Budgeting Basic Reporting Web Analytics ROI Analytics Revenue Analytics ROI Tracking Data Collection Customer Insights Multi-User Access Spend Management White Label Campaign Insights Reports and Dashboards Campaign Stickiness Multichannel Tracking Brand Optimization Predictive Analytics Data Enrichment Expandability Multiple Devices Marketing Metrics Predictive Modeling Recommendation Engine",
         "0.32744533"
        ],
        [
         "41",
         "8x8 Contact Center",
         "Voice Social Web Chat Mobile SMS Email Session Routing Session Queuing Concurrent Calling Speech Analytics Auto Dialer IVR Inbound Screen Pop Persistent Data Session Summary Notes Administrator Access Reporting & Dashboards Session Recording Agent Scheduling and Assignment Call Recording Reporting & Dashboards Agent Availability Skills Management Shift Scheduling Agent Self-Service Mobile Access Call Monitoring Performance Evaluation Automation Performance Analysis Dashboards Forecasting Intraday Management Omnichannel Mobile Access Queue Management Call Routing Call Back IVR Automatic Call Distribution AI Text-to-Speech AI Text-to-Speech",
         "4.0",
         "Call & Contact Center Software",
         "Call & Contact Center Software 8x8 Contact Center Voice Social Web Chat Mobile SMS Email Session Routing Session Queuing Concurrent Calling Speech Analytics Auto Dialer IVR Inbound Screen Pop Persistent Data Session Summary Notes Administrator Access Reporting & Dashboards Session Recording Agent Scheduling and Assignment Call Recording Reporting & Dashboards Agent Availability Skills Management Shift Scheduling Agent Self-Service Mobile Access Call Monitoring Performance Evaluation Automation Performance Analysis Dashboards Forecasting Intraday Management Omnichannel Mobile Access Queue Management Call Routing Call Back IVR Automatic Call Distribution AI Text-to-Speech AI Text-to-Speech",
         "0.24445638"
        ],
        [
         "42",
         "Abacum",
         "Reports Interface Steps to Answer Graphs and Charts Score Cards Dashboards Reports Interface Share Reports Steps to Answer Historical Snapshots Real-Time Updating Email Reports Historical Snapshots Real-Time Updating Budgeting Forecasting Planning Data Visualization Data Analysis Custom Reporting Reporting Templates Collaboration Version Control Real-Time Data Updates Scorecards Data Import Budget Hierarchies Versioning Formulas What-If Budget Periods Consolidation Adjustments Workflows Historical Data Reforecast Forecast Types Rolling Forecasts Variance Analysis Forecasts Comparison Forward Looking Data Import Data Consolidation Data Validation Reporting Hierarchy Report Templates Report Types Standard KPIs Standard Reports Financial StatementsView full feature definition Drill Down Dashboards Custom KPIs Custom Reports Self Service Multiple Entities Extended Planning Reporting Integration Graphs and Charts Score Cards DashboardsView full feature definition Formats Sharing Co-Editing Devices Reconciliation Headcount Planning Reporting Expense Planning Integrations & APIs Compensation Bands Org Chart Recruitment Workflows Account Scoring Revenue Planning Account Segmentation Sales Performance Sales Forecasting Integrations Scenario Modeling Territory Management Territory Planning Quota Management Capacity Management Quota Planning",
         "4.8",
         "Accounting & Finance Software",
         "Accounting & Finance Software Abacum Reports Interface Steps to Answer Graphs and Charts Score Cards Dashboards Reports Interface Share Reports Steps to Answer Historical Snapshots Real-Time Updating Email Reports Historical Snapshots Real-Time Updating Budgeting Forecasting Planning Data Visualization Data Analysis Custom Reporting Reporting Templates Collaboration Version Control Real-Time Data Updates Scorecards Data Import Budget Hierarchies Versioning Formulas What-If Budget Periods Consolidation Adjustments Workflows Historical Data Reforecast Forecast Types Rolling Forecasts Variance Analysis Forecasts Comparison Forward Looking Data Import Data Consolidation Data Validation Reporting Hierarchy Report Templates Report Types Standard KPIs Standard Reports Financial StatementsView full feature definition Drill Down Dashboards Custom KPIs Custom Reports Self Service Multiple Entities Extended Planning Reporting Integration Graphs and Charts Score Cards DashboardsView full feature definition Formats Sharing Co-Editing Devices Reconciliation Headcount Planning Reporting Expense Planning Integrations & APIs Compensation Bands Org Chart Recruitment Workflows Account Scoring Revenue Planning Account Segmentation Sales Performance Sales Forecasting Integrations Scenario Modeling Territory Management Territory Planning Quota Management Capacity Management Quota Planning",
         "0.5473704"
        ],
        [
         "43",
         "Accelo",
         "Customization Workflow Capability User, Role, and Access Management Performance and Reliability Output Document Generation CRM Integration Integration API Performance and Reliability Scalability Reporting and Dashboards Reporting APIs / Integration Internationalization Performance and Reliability Mobile User Support APIs Internationalization Performance and Reliability Mobile Contact & Account Management Partner Relationship Mgmt. (PRM) Opportunity & Pipeline Mgmt. Task / Activity Management Territory & Quota Management Desktop Integration Product & Price List Management Quote & Order Management Customer Contract Management Email Marketing Campaign Management Lead Management Marketing ROI Analytics Case ManagementView full feature definition Customer Support Portal Knowledge Base Call Center Features Support Analytics Data Import & Export Tools Integration APIs Breadth of Partner Applications Front Office Back Office External data Accounting Payments ERP Social Collaboration Features Social Network Integration Mobile User Support Reporting Dashboards Forecasting Pricing Flexibility Discounting Approval WorkflowView full feature definition Renewals Grouping Version Control Quote Document Generation Document Customization Ordering Contracts Configuration Ease of Admin Workflow Management Document Admin Mobile User Support Ease of Completing Timesheets Tracking Time to Project/Task Billable Time Rate Management Invoice Creation and Delivery Electronic Payments Project Accounting / Revenue Recognition Time Tracking Business Tool Integration Workflow Automated Reminders User, Role, and Access Management Standard Integrations Workflow Access Management Permissions Procedures Remote Work Creation & Assignment Due Dates Task Prioritization To-Do Lists Dependecies Drag & Drop Recurring Tasks Planning Project Map GANTT Calendar View Views Project Budgeting Issue Tracking Templates Time & Expense Methodologies Resource Definiton Capacity Scheduling Definition Allocation Optimization Baselining / KPIs Resource Allocation Dashboards Contract Creation Contract Templates Contract Editing Contract Attachments Contract Collaboration Approval Process Notifications & Reminders Contract Database Integrations / APIs Reporting & Dashboards Data Sourcing Exporting & Sharing Data Multi-Device Data Visualization Interactive Dashboards Data Segmentation Lead Scoring Opportunity Scoring Risk Analysis Live Forecasting Live Pipeline Management Sales Gamification Account-Based Analytics Activity Tracking Portfolio Types Planning Alignment Portfolio Mix Portfolio Definition Portfolio Performance Risk Portfolio Mix Dependencies Priorities Lean Management Project Planning Project Tracking Resource Definition Resource Management Task Management Planning Visibility Integration Data Consolidation Visualizations Performance Risk Analysis Resource Definiton Capacity Scheduling Performance Forecasting Corrections Versioning File Request Feedback Billing and Invoicing Instant Messaging Project Management Analytics Time Tracking Mobile Application Creation & Assignment Due Dates Drag & Drop Task Prioritization To-Do ListsView full feature definition Dependecies Recurring Tasks Customer Profiles Sales Marketing Client Portal Revenue Recognition Invoice Management Payments Project Accounting Budget Tracking Forecasting Reporting KPIs Workflows Customization Data repository Task Prioritization Dependecies Planning Views Scheduling Dashboards Resource Allocation Workspace Configuration Insights Communication Channels Document ManagementView full feature definition Collaboration Project Budgeting Time & Expense Profitability Discussions External File SharingView full feature definition Notes Search Versioning Custom Views Followers User Management Calendars Public Sharing Alignment Accountability Connectivity Templates Digital Billing Recurring Billing Consolidation Batch Invoicing Management Simulation Tracking Planning Objectives Visiblity Alignment Risk Management Implementation Optimization Prioritization",
         "4.4",
         "Professional Services Automation Software",
         "Professional Services Automation Software Accelo Customization Workflow Capability User, Role, and Access Management Performance and Reliability Output Document Generation CRM Integration Integration API Performance and Reliability Scalability Reporting and Dashboards Reporting APIs / Integration Internationalization Performance and Reliability Mobile User Support APIs Internationalization Performance and Reliability Mobile Contact & Account Management Partner Relationship Mgmt. (PRM) Opportunity & Pipeline Mgmt. Task / Activity Management Territory & Quota Management Desktop Integration Product & Price List Management Quote & Order Management Customer Contract Management Email Marketing Campaign Management Lead Management Marketing ROI Analytics Case ManagementView full feature definition Customer Support Portal Knowledge Base Call Center Features Support Analytics Data Import & Export Tools Integration APIs Breadth of Partner Applications Front Office Back Office External data Accounting Payments ERP Social Collaboration Features Social Network Integration Mobile User Support Reporting Dashboards Forecasting Pricing Flexibility Discounting Approval WorkflowView full feature definition Renewals Grouping Version Control Quote Document Generation Document Customization Ordering Contracts Configuration Ease of Admin Workflow Management Document Admin Mobile User Support Ease of Completing Timesheets Tracking Time to Project/Task Billable Time Rate Management Invoice Creation and Delivery Electronic Payments Project Accounting / Revenue Recognition Time Tracking Business Tool Integration Workflow Automated Reminders User, Role, and Access Management Standard Integrations Workflow Access Management Permissions Procedures Remote Work Creation & Assignment Due Dates Task Prioritization To-Do Lists Dependecies Drag & Drop Recurring Tasks Planning Project Map GANTT Calendar View Views Project Budgeting Issue Tracking Templates Time & Expense Methodologies Resource Definiton Capacity Scheduling Definition Allocation Optimization Baselining / KPIs Resource Allocation Dashboards Contract Creation Contract Templates Contract Editing Contract Attachments Contract Collaboration Approval Process Notifications & Reminders Contract Database Integrations / APIs Reporting & Dashboards Data Sourcing Exporting & Sharing Data Multi-Device Data Visualization Interactive Dashboards Data Segmentation Lead Scoring Opportunity Scoring Risk Analysis Live Forecasting Live Pipeline Management Sales Gamification Account-Based Analytics Activity Tracking Portfolio Types Planning Alignment Portfolio Mix Portfolio Definition Portfolio Performance Risk Portfolio Mix Dependencies Priorities Lean Management Project Planning Project Tracking Resource Definition Resource Management Task Management Planning Visibility Integration Data Consolidation Visualizations Performance Risk Analysis Resource Definiton Capacity Scheduling Performance Forecasting Corrections Versioning File Request Feedback Billing and Invoicing Instant Messaging Project Management Analytics Time Tracking Mobile Application Creation & Assignment Due Dates Drag & Drop Task Prioritization To-Do ListsView full feature definition Dependecies Recurring Tasks Customer Profiles Sales Marketing Client Portal Revenue Recognition Invoice Management Payments Project Accounting Budget Tracking Forecasting Reporting KPIs Workflows Customization Data repository Task Prioritization Dependecies Planning Views Scheduling Dashboards Resource Allocation Workspace Configuration Insights Communication Channels Document ManagementView full feature definition Collaboration Project Budgeting Time & Expense Profitability Discussions External File SharingView full feature definition Notes Search Versioning Custom Views Followers User Management Calendars Public Sharing Alignment Accountability Connectivity Templates Digital Billing Recurring Billing Consolidation Batch Invoicing Management Simulation Tracking Planning Objectives Visiblity Alignment Risk Management Implementation Optimization Prioritization",
         "0.31188786"
        ],
        [
         "44",
         "BlackLine Financial Close Management",
         "Journal Entries Tags / Dimensions Audit Trail Invoice Customization AR Automation Collections Automation AP Automation Payment Processing Purchase Orders Inventory Tracking / Ordering Inventory Pricing and Costing Inventory ReportingView full feature definition Multi-Entity / Consolidation Recognition Rules Reconciliations Payroll Time and Expense Financial Statements Custom Reporting Budgeting / Forecasting Dashboards Customization Workflow Capability User, Role, and Access Management Internationalization Performance and Reliability Output Document Generation Data Import and Export Tools Integration APIs Breadth of Partner Applications Track Cash Flow Income and Expenses File Exports Budgeting / Forecasting Data Import Versioning Historical Data Revenue Types Revenue Allocation Scheduling Consolidation Management Accounting Report Types Standard Custom Audit Journal Entries Distribution Tax Calculation Reporting and Dashboards Automation Bank Statements Exceptions Algorithms Accuracy Compliance Reporting Audit Trail Accounting Inventory ERP Banking Access Authentication Encryption Regulations Data Extraction Invoice Processing Expense Management Fraud Detection Tax Compliance Support Chatbots Bank Reconciliations Report Generation Customizable Alerts Predictive Analytics Cloud Integration Notifications UI Offline Expense Tracking Invoice Management",
         "4.5",
         "Accounting & Finance Software",
         "Accounting & Finance Software BlackLine Financial Close Management Journal Entries Tags / Dimensions Audit Trail Invoice Customization AR Automation Collections Automation AP Automation Payment Processing Purchase Orders Inventory Tracking / Ordering Inventory Pricing and Costing Inventory ReportingView full feature definition Multi-Entity / Consolidation Recognition Rules Reconciliations Payroll Time and Expense Financial Statements Custom Reporting Budgeting / Forecasting Dashboards Customization Workflow Capability User, Role, and Access Management Internationalization Performance and Reliability Output Document Generation Data Import and Export Tools Integration APIs Breadth of Partner Applications Track Cash Flow Income and Expenses File Exports Budgeting / Forecasting Data Import Versioning Historical Data Revenue Types Revenue Allocation Scheduling Consolidation Management Accounting Report Types Standard Custom Audit Journal Entries Distribution Tax Calculation Reporting and Dashboards Automation Bank Statements Exceptions Algorithms Accuracy Compliance Reporting Audit Trail Accounting Inventory ERP Banking Access Authentication Encryption Regulations Data Extraction Invoice Processing Expense Management Fraud Detection Tax Compliance Support Chatbots Bank Reconciliations Report Generation Customizable Alerts Predictive Analytics Cloud Integration Notifications UI Offline Expense Tracking Invoice Management",
         "0.48018378"
        ],
        [
         "45",
         "Bloomfire",
         "Data Centralization - Insight Engines Archiving - Insight Engines Search Analysis - Insight Engines Search Interface - Insight Engines AI Functionality - Insight Engines NLP Functionality - Insight Engines Data Mining - Insight Engines Structured Navigation - Insight Engines Machine Learning - Insight Engines Database Management Data Workflows Issue Management Integrations User, Role, and Access Management Performance and Reliability Policies and Controls Data Governance Compliance Auditing Risk Data Attributes Data Transport Access Management Multi-Factor Authentication Single Sign-On (SSO) Social Login Reputation System Topic Subscription Bookmarking History Tags Commenting System Notifications Integrations Knowledge Integrations Embedding Formatting Analytics Templates In-Content Feedback Comments Versioning and Version History Decision Trees Duplicate Detection Content Editor Page Analytics Permissions Knowledge Sharing Notifications Advanced Search Browser Extension Organization Other Integrations Knowledge Integrations Knowledge Base Publishing Workflows Analytics Intelligent Search Suggestions Decision Trees AI Text Generation AI Text Summarization AI Text Summarization",
         "4.6",
         "Knowledge Management Software",
         "Knowledge Management Software Bloomfire Data Centralization - Insight Engines Archiving - Insight Engines Search Analysis - Insight Engines Search Interface - Insight Engines AI Functionality - Insight Engines NLP Functionality - Insight Engines Data Mining - Insight Engines Structured Navigation - Insight Engines Machine Learning - Insight Engines Database Management Data Workflows Issue Management Integrations User, Role, and Access Management Performance and Reliability Policies and Controls Data Governance Compliance Auditing Risk Data Attributes Data Transport Access Management Multi-Factor Authentication Single Sign-On (SSO) Social Login Reputation System Topic Subscription Bookmarking History Tags Commenting System Notifications Integrations Knowledge Integrations Embedding Formatting Analytics Templates In-Content Feedback Comments Versioning and Version History Decision Trees Duplicate Detection Content Editor Page Analytics Permissions Knowledge Sharing Notifications Advanced Search Browser Extension Organization Other Integrations Knowledge Integrations Knowledge Base Publishing Workflows Analytics Intelligent Search Suggestions Decision Trees AI Text Generation AI Text Summarization AI Text Summarization",
         "0.2354244"
        ],
        [
         "46",
         "Absorb LMS",
         "Course Builder Role-Based Templates Assessments & Quizzes Instructor-Led Training Learning Paths 24/7 Availability Communication & Notifications Assignment Scheduling Gamification Varied User Types Certifications Industry Compliance Course Authoring Course Access E-Commerce Course Marketplace Subscriptions White Labeling Multilingual Content Delivery and Tracking Customer Training Manager Portals Content Storage and Management Content Creation Content Libraries Assessments and Practice Content Delivery and Tracking Content Creation Customer Training Manager Portals Content Storage and Management Content Libraries Assessments and Practice Content Delivery and Tracking Social LearningView full feature definition Content Creation Manager Portals Content Storage and Management Content Libraries Course Authoring Online Learning Certificate Generation Tracking & Reporting Collaborative Environment Automatic Boards Reporting Integrations Multiple Content Types Mobility Self-paced Content Creation Content Storage and Management Quiz Capabilities Certification Engine Visualization Learner tracker Analytics Progress Reports Course Completion Education ERP System Learning Management System Help and Support White Labeling AI Text Generation AI Text Summarization AI Text Generation AI Text Summarization AI Text-to-Image AI Text Generation AI Text Summarization AI Text-to-Image Standard Courses Authoring Internal Policies Programs External Courses Offensive Behavior Business Ethics Code of Conduct Corporate Compliance Department Specific Content Safety Industry Specific Content Renewals Job Related Regulatory Feedback Performance Non Compliance",
         "4.6",
         "Talent Management Software",
         "Talent Management Software Absorb LMS Course Builder Role-Based Templates Assessments & Quizzes Instructor-Led Training Learning Paths 24/7 Availability Communication & Notifications Assignment Scheduling Gamification Varied User Types Certifications Industry Compliance Course Authoring Course Access E-Commerce Course Marketplace Subscriptions White Labeling Multilingual Content Delivery and Tracking Customer Training Manager Portals Content Storage and Management Content Creation Content Libraries Assessments and Practice Content Delivery and Tracking Content Creation Customer Training Manager Portals Content Storage and Management Content Libraries Assessments and Practice Content Delivery and Tracking Social LearningView full feature definition Content Creation Manager Portals Content Storage and Management Content Libraries Course Authoring Online Learning Certificate Generation Tracking & Reporting Collaborative Environment Automatic Boards Reporting Integrations Multiple Content Types Mobility Self-paced Content Creation Content Storage and Management Quiz Capabilities Certification Engine Visualization Learner tracker Analytics Progress Reports Course Completion Education ERP System Learning Management System Help and Support White Labeling AI Text Generation AI Text Summarization AI Text Generation AI Text Summarization AI Text-to-Image AI Text Generation AI Text Summarization AI Text-to-Image Standard Courses Authoring Internal Policies Programs External Courses Offensive Behavior Business Ethics Code of Conduct Corporate Compliance Department Specific Content Safety Industry Specific Content Renewals Job Related Regulatory Feedback Performance Non Compliance",
         "0.19095862"
        ],
        [
         "47",
         "Blackbaud Financial Edge NXT",
         "Journal Entries Tags / Dimensions Audit Trail Invoice Customization AR Automation Collections Automation AP Automation Payment Processing Purchase Orders",
         "4.0",
         "Nonprofit Software",
         "Nonprofit Software Blackbaud Financial Edge NXT Journal Entries Tags / Dimensions Audit Trail Invoice Customization AR Automation Collections Automation AP Automation Payment Processing Purchase Orders",
         "0.35955817"
        ],
        [
         "48",
         "Accelevents",
         "Event creation User registration process Payment processing Mobile check-in On-site tickets and registration Event website creation Email automation Email customization Contact list management Social media promotion Lead generation and retrieval Site selection Supplier procurement Hotel and transportation planning Staff management Budget management Session scheduling Speaker submissions Exhibition management Event agendas and schedules Floor plans / maps Social media integrations Attendee networking Attendee surveys Performance and reliability Reporting and dashboards API / integrations Multiple event management Event Configuration Event Marketing Speaker Access and Control Advanced Reporting Bid Confirmation Payment Processing Reporting Virtual Lobby Built-In Webcasting Webcasting Integrations Cross-Device Functionality Online Event Agenda Interactive Content 1:1 Networking Exhibitors/Sponsorships Auction Listings Bidding Window Auction Type Ticketing Mobile Bidding Fundraising Bidder Profiles Sorting Bid Alerts",
         "4.7",
         "Event Management Software",
         "Event Management Software Accelevents Event creation User registration process Payment processing Mobile check-in On-site tickets and registration Event website creation Email automation Email customization Contact list management Social media promotion Lead generation and retrieval Site selection Supplier procurement Hotel and transportation planning Staff management Budget management Session scheduling Speaker submissions Exhibition management Event agendas and schedules Floor plans / maps Social media integrations Attendee networking Attendee surveys Performance and reliability Reporting and dashboards API / integrations Multiple event management Event Configuration Event Marketing Speaker Access and Control Advanced Reporting Bid Confirmation Payment Processing Reporting Virtual Lobby Built-In Webcasting Webcasting Integrations Cross-Device Functionality Online Event Agenda Interactive Content 1:1 Networking Exhibitors/Sponsorships Auction Listings Bidding Window Auction Type Ticketing Mobile Bidding Fundraising Bidder Profiles Sorting Bid Alerts",
         "0.2722682"
        ],
        [
         "49",
         "accessiBe",
         "Compliance Monitoring Real-Time Monitoring Dynamic Crawling Automated Testing Automated Scan Customizable Testing Tools Filtering Overlay Engine Individual Page Auditing Integration Page Reports",
         "4.7",
         "Web Accessibility Software",
         "Web Accessibility Software accessiBe Compliance Monitoring Real-Time Monitoring Dynamic Crawling Automated Testing Automated Scan Customizable Testing Tools Filtering Overlay Engine Individual Page Auditing Integration Page Reports",
         "0.23077035"
        ],
        [
         "50",
         "AB Tasty",
         "A/B Testing WYSIWYG Editor Conversion Goal Percentage of Traffic Confidence Level Multivariant Testing Segmentation Reports and Dashboards Standard Targeting Custom Targeting Data Segmentation Recommendation Content Cart Abandonment Personalization Engine Product Recommendations A/B Testing Personalized Messaging API / Integrations QA TestingView full feature definition Performance and Reliability User, Role, and Access Management Monitoring Targeting Guided Selling Library Customization Optimization Web Email Mobile A/B Testing Customer Profiles Behavioral Targeting Contextual Targeting Geofencing Triggered Messages Recommendation Engine Personalized Discounts Website Personalization Marketing Campaigns Reports & Analytics User Data Integrations Flag Management Rollout & Rollback Control Monitoring Multi-Environment Control Feature Testing Low-Code Interface Reporting and Analytics Heatmaps Multivariate testing capacities Concurrent Testing Mobile Testing WYSIWYG AI/Machine Learning Little to No Coding Multi-Modal Support Setup Simplicity Platform Integration User Interface Design Data Privacy Scalability Real-Time Processing Emotion Granularity Ethical AI Compliance Encryption Support Integration APIs Adaptive Emotion Responses Multi-Language Support Voice Emotion Analysis Facial Expression Recognition Emotion Detection in Low-Quality Inputs",
         "4.5",
         "E-Commerce Software",
         "E-Commerce Software AB Tasty A/B Testing WYSIWYG Editor Conversion Goal Percentage of Traffic Confidence Level Multivariant Testing Segmentation Reports and Dashboards Standard Targeting Custom Targeting Data Segmentation Recommendation Content Cart Abandonment Personalization Engine Product Recommendations A/B Testing Personalized Messaging API / Integrations QA TestingView full feature definition Performance and Reliability User, Role, and Access Management Monitoring Targeting Guided Selling Library Customization Optimization Web Email Mobile A/B Testing Customer Profiles Behavioral Targeting Contextual Targeting Geofencing Triggered Messages Recommendation Engine Personalized Discounts Website Personalization Marketing Campaigns Reports & Analytics User Data Integrations Flag Management Rollout & Rollback Control Monitoring Multi-Environment Control Feature Testing Low-Code Interface Reporting and Analytics Heatmaps Multivariate testing capacities Concurrent Testing Mobile Testing WYSIWYG AI/Machine Learning Little to No Coding Multi-Modal Support Setup Simplicity Platform Integration User Interface Design Data Privacy Scalability Real-Time Processing Emotion Granularity Ethical AI Compliance Encryption Support Integration APIs Adaptive Emotion Responses Multi-Language Support Voice Emotion Analysis Facial Expression Recognition Emotion Detection in Low-Quality Inputs",
         "0.3044054"
        ]
       ],
       "shape": {
        "columns": 6,
        "rows": 975
       }
      },
      "text/html": [
       "<div>\n",
       "<style scoped>\n",
       "    .dataframe tbody tr th:only-of-type {\n",
       "        vertical-align: middle;\n",
       "    }\n",
       "\n",
       "    .dataframe tbody tr th {\n",
       "        vertical-align: top;\n",
       "    }\n",
       "\n",
       "    .dataframe thead th {\n",
       "        text-align: right;\n",
       "    }\n",
       "</style>\n",
       "<table border=\"1\" class=\"dataframe\">\n",
       "  <thead>\n",
       "    <tr style=\"text-align: right;\">\n",
       "      <th></th>\n",
       "      <th>product_name</th>\n",
       "      <th>Features</th>\n",
       "      <th>rating</th>\n",
       "      <th>main_category</th>\n",
       "      <th>all_features_text</th>\n",
       "      <th>similarity_score</th>\n",
       "    </tr>\n",
       "  </thead>\n",
       "  <tbody>\n",
       "    <tr>\n",
       "      <th>0</th>\n",
       "      <td>Newforma Project Center</td>\n",
       "      <td>Objects Materials Textures Shading Lighting Ex...</td>\n",
       "      <td>4.0</td>\n",
       "      <td>Construction Software</td>\n",
       "      <td>Construction Software Newforma Project Center ...</td>\n",
       "      <td>0.364281</td>\n",
       "    </tr>\n",
       "    <tr>\n",
       "      <th>1</th>\n",
       "      <td>Nitro Pro</td>\n",
       "      <td>Custom Branding User, Role, and Access Managem...</td>\n",
       "      <td>4.3</td>\n",
       "      <td>Document Creation Software</td>\n",
       "      <td>Document Creation Software Nitro Pro Custom Br...</td>\n",
       "      <td>0.342178</td>\n",
       "    </tr>\n",
       "    <tr>\n",
       "      <th>2</th>\n",
       "      <td>Netmera</td>\n",
       "      <td>Data Import &amp; Export Tools Integration APIs Br...</td>\n",
       "      <td>4.2</td>\n",
       "      <td>Mobile Marketing Software</td>\n",
       "      <td>Mobile Marketing Software Netmera Data Import ...</td>\n",
       "      <td>0.264292</td>\n",
       "    </tr>\n",
       "    <tr>\n",
       "      <th>3</th>\n",
       "      <td>Netlify</td>\n",
       "      <td>Static Content Caching Dynamic Content Routing...</td>\n",
       "      <td>4.5</td>\n",
       "      <td>WebOps Platforms</td>\n",
       "      <td>WebOps Platforms Netlify Static Content Cachin...</td>\n",
       "      <td>0.174473</td>\n",
       "    </tr>\n",
       "    <tr>\n",
       "      <th>4</th>\n",
       "      <td>OpenBuildings Designer</td>\n",
       "      <td>Visualizing Rendering Drawing Editing Sequence...</td>\n",
       "      <td>4.3</td>\n",
       "      <td>CAD Software</td>\n",
       "      <td>CAD Software OpenBuildings Designer Visualizin...</td>\n",
       "      <td>0.248202</td>\n",
       "    </tr>\n",
       "    <tr>\n",
       "      <th>...</th>\n",
       "      <td>...</td>\n",
       "      <td>...</td>\n",
       "      <td>...</td>\n",
       "      <td>...</td>\n",
       "      <td>...</td>\n",
       "      <td>...</td>\n",
       "    </tr>\n",
       "    <tr>\n",
       "      <th>995</th>\n",
       "      <td>Securiti</td>\n",
       "      <td>Data Modelling Recommendations Workflow Manage...</td>\n",
       "      <td>4.8</td>\n",
       "      <td>Data Privacy Management Software</td>\n",
       "      <td>Data Privacy Management Software Securiti Data...</td>\n",
       "      <td>0.229752</td>\n",
       "    </tr>\n",
       "    <tr>\n",
       "      <th>996</th>\n",
       "      <td>SentinelOne Singularity</td>\n",
       "      <td>Issue Tracking Detection Rate False Positives ...</td>\n",
       "      <td>4.7</td>\n",
       "      <td>Endpoint Protection Software</td>\n",
       "      <td>Endpoint Protection Software SentinelOne Singu...</td>\n",
       "      <td>0.198783</td>\n",
       "    </tr>\n",
       "    <tr>\n",
       "      <th>997</th>\n",
       "      <td>Semrush</td>\n",
       "      <td>Social Analytics Social Publishing Social Enga...</td>\n",
       "      <td>4.5</td>\n",
       "      <td>SEO Tools</td>\n",
       "      <td>SEO Tools Semrush Social Analytics Social Publ...</td>\n",
       "      <td>0.224864</td>\n",
       "    </tr>\n",
       "    <tr>\n",
       "      <th>998</th>\n",
       "      <td>SAP Business ByDesign</td>\n",
       "      <td>Journal Entries Tags / Dimensions Audit Trail ...</td>\n",
       "      <td>4.0</td>\n",
       "      <td>ERP Systems</td>\n",
       "      <td>ERP Systems SAP Business ByDesign Journal Entr...</td>\n",
       "      <td>0.352138</td>\n",
       "    </tr>\n",
       "    <tr>\n",
       "      <th>999</th>\n",
       "      <td>BoldSign</td>\n",
       "      <td>Custom Branding User, Role, and Access Managem...</td>\n",
       "      <td>4.7</td>\n",
       "      <td>E-Signature Software</td>\n",
       "      <td>E-Signature Software BoldSign Custom Branding ...</td>\n",
       "      <td>0.296076</td>\n",
       "    </tr>\n",
       "  </tbody>\n",
       "</table>\n",
       "<p>975 rows × 6 columns</p>\n",
       "</div>"
      ],
      "text/plain": [
       "                product_name  \\\n",
       "0    Newforma Project Center   \n",
       "1                  Nitro Pro   \n",
       "2                    Netmera   \n",
       "3                    Netlify   \n",
       "4     OpenBuildings Designer   \n",
       "..                       ...   \n",
       "995                 Securiti   \n",
       "996  SentinelOne Singularity   \n",
       "997                  Semrush   \n",
       "998    SAP Business ByDesign   \n",
       "999                 BoldSign   \n",
       "\n",
       "                                              Features  rating  \\\n",
       "0    Objects Materials Textures Shading Lighting Ex...     4.0   \n",
       "1    Custom Branding User, Role, and Access Managem...     4.3   \n",
       "2    Data Import & Export Tools Integration APIs Br...     4.2   \n",
       "3    Static Content Caching Dynamic Content Routing...     4.5   \n",
       "4    Visualizing Rendering Drawing Editing Sequence...     4.3   \n",
       "..                                                 ...     ...   \n",
       "995  Data Modelling Recommendations Workflow Manage...     4.8   \n",
       "996  Issue Tracking Detection Rate False Positives ...     4.7   \n",
       "997  Social Analytics Social Publishing Social Enga...     4.5   \n",
       "998  Journal Entries Tags / Dimensions Audit Trail ...     4.0   \n",
       "999  Custom Branding User, Role, and Access Managem...     4.7   \n",
       "\n",
       "                        main_category  \\\n",
       "0               Construction Software   \n",
       "1          Document Creation Software   \n",
       "2           Mobile Marketing Software   \n",
       "3                    WebOps Platforms   \n",
       "4                        CAD Software   \n",
       "..                                ...   \n",
       "995  Data Privacy Management Software   \n",
       "996      Endpoint Protection Software   \n",
       "997                         SEO Tools   \n",
       "998                       ERP Systems   \n",
       "999              E-Signature Software   \n",
       "\n",
       "                                     all_features_text  similarity_score  \n",
       "0    Construction Software Newforma Project Center ...          0.364281  \n",
       "1    Document Creation Software Nitro Pro Custom Br...          0.342178  \n",
       "2    Mobile Marketing Software Netmera Data Import ...          0.264292  \n",
       "3    WebOps Platforms Netlify Static Content Cachin...          0.174473  \n",
       "4    CAD Software OpenBuildings Designer Visualizin...          0.248202  \n",
       "..                                                 ...               ...  \n",
       "995  Data Privacy Management Software Securiti Data...          0.229752  \n",
       "996  Endpoint Protection Software SentinelOne Singu...          0.198783  \n",
       "997  SEO Tools Semrush Social Analytics Social Publ...          0.224864  \n",
       "998  ERP Systems SAP Business ByDesign Journal Entr...          0.352138  \n",
       "999  E-Signature Software BoldSign Custom Branding ...          0.296076  \n",
       "\n",
       "[975 rows x 6 columns]"
      ]
     },
     "execution_count": 157,
     "metadata": {},
     "output_type": "execute_result"
    }
   ],
   "source": [
    "vendors_data_clean"
   ]
  },
  {
   "cell_type": "code",
   "execution_count": 158,
   "metadata": {},
   "outputs": [
    {
     "name": "stdout",
     "output_type": "stream",
     "text": [
      "                product_name  similarity_score  rating  weighted_score\n",
      "685                   Budgyt          0.625701     4.8        3.003367\n",
      "399  OneStream - Unified EPM          0.638680     4.6        2.937926\n",
      "589              Mosaic Tech          0.619359     4.7        2.910986\n",
      "166                   Causal          0.619076     4.6        2.847749\n",
      "934                    Jirav          0.602885     4.7        2.833558\n",
      "784                  onPhase          0.605027     4.5        2.722621\n"
     ]
    }
   ],
   "source": [
    "\n",
    "print(ranked_vendors[['product_name', 'similarity_score', 'rating', 'weighted_score']])\n"
   ]
  },
  {
   "cell_type": "code",
   "execution_count": null,
   "metadata": {},
   "outputs": [],
   "source": []
  }
 ],
 "metadata": {
  "kernelspec": {
   "display_name": "venv",
   "language": "python",
   "name": "python3"
  },
  "language_info": {
   "codemirror_mode": {
    "name": "ipython",
    "version": 3
   },
   "file_extension": ".py",
   "mimetype": "text/x-python",
   "name": "python",
   "nbconvert_exporter": "python",
   "pygments_lexer": "ipython3",
   "version": "3.11.7"
  }
 },
 "nbformat": 4,
 "nbformat_minor": 2
}
